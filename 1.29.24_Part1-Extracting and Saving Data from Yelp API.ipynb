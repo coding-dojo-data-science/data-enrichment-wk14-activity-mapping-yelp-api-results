{
 "cells": [
  {
   "cell_type": "markdown",
   "metadata": {
    "id": "8guYh-VR7nlX"
   },
   "source": [
    "# Part 1 - Extracting and Saving Data from Yelp API"
   ]
  },
  {
   "cell_type": "markdown",
   "metadata": {},
   "source": [
    "## Obective"
   ]
  },
  {
   "cell_type": "markdown",
   "metadata": {
    "id": "8guYh-VR7nlX"
   },
   "source": [
    "- For this CodeAlong, we will be working with the Yelp API. \n",
    "- You will use the the Yelp API to search your home town for a cuisine type of your choice.\n",
    "- Next class, we will then use Plotly Express to create a map with the Mapbox API to visualize the results.\n",
    "    \n",
    "    "
   ]
  },
  {
   "cell_type": "markdown",
   "metadata": {
    "id": "8guYh-VR7nlX"
   },
   "source": [
    "## Tools You Will Use\n",
    "- Part 1:\n",
    "    - Yelp API:\n",
    "        - Getting Started: \n",
    "            - https://www.yelp.com/developers/documentation/v3/get_started\n",
    "\n",
    "    - `YelpAPI` python package\n",
    "        -  \"YelpAPI\": https://github.com/gfairchild/yelpapi\n",
    "- Part 2:\n",
    "\n",
    "    - Plotly Express: https://plotly.com/python/getting-started/\n",
    "        - With Mapbox API: https://www.mapbox.com/\n",
    "        - `px.scatter_mapbox` [Documentation](https://plotly.com/python/scattermapbox/): \n",
    "\n",
    "\n"
   ]
  },
  {
   "cell_type": "markdown",
   "metadata": {},
   "source": [
    "### Applying Code From\n",
    "- Efficient API Calls Lesson Link: https://login.codingdojo.com/m/376/12529/88078"
   ]
  },
  {
   "cell_type": "code",
   "execution_count": null,
   "metadata": {},
   "outputs": [],
   "source": [
    "!pip install yelpapi\n",
    "!pip install tqdm"
   ]
  },
  {
   "cell_type": "code",
   "execution_count": 1,
   "metadata": {},
   "outputs": [],
   "source": [
    "# Standard Imports\n",
    "import numpy as np\n",
    "import pandas as pd\n",
    "import matplotlib.pyplot as plt\n",
    "import seaborn as sns\n",
    "\n",
    "# Additional Imports\n",
    "# os - for saving and loading files\n",
    "# json - to work with json files\n",
    "# math - to round up results\n",
    "# time - to add a short pause to not overwhelm the server\n",
    "import os, json, math, time\n",
    "\n",
    "# to make yelpapi calls\n",
    "from yelpapi import YelpAPI\n",
    "\n",
    "# progress bar from tqdm_notebook\n",
    "from tqdm.notebook import tqdm_notebook"
   ]
  },
  {
   "cell_type": "markdown",
   "metadata": {
    "id": "1l3Z-79nBSX9"
   },
   "source": [
    "## 1. Registering for Required APIs"
   ]
  },
  {
   "cell_type": "markdown",
   "metadata": {
    "id": "1l3Z-79nBSX9"
   },
   "source": [
    "\n",
    "- Yelp: https://www.yelp.com/developers/documentation/v3/get_started\n"
   ]
  },
  {
   "cell_type": "markdown",
   "metadata": {},
   "source": [
    "> Check the official API documentation to know what arguments we can search for: https://www.yelp.com/developers/documentation/v3/business_search"
   ]
  },
  {
   "cell_type": "markdown",
   "metadata": {},
   "source": [
    "### Load Credentials and Create Yelp API Object"
   ]
  },
  {
   "cell_type": "code",
   "execution_count": 2,
   "metadata": {
    "ExecuteTime": {
     "end_time": "2022-03-25T18:20:46.629934Z",
     "start_time": "2022-03-25T18:20:45.915864Z"
    },
    "colab": {
     "base_uri": "https://localhost:8080/"
    },
    "id": "xJYqVvNkE36a",
    "outputId": "67798160-dea2-41fc-9040-2b3833efa560"
   },
   "outputs": [],
   "source": [
    "# Load API Credentials\n",
    "with open('/Users/brend/.secret/yelp_api.json', 'r') as f:\n",
    "    login = json.load(f)"
   ]
  },
  {
   "cell_type": "code",
   "execution_count": 3,
   "metadata": {},
   "outputs": [
    {
     "data": {
      "text/plain": [
       "dict_keys(['client-id', 'api-key'])"
      ]
     },
     "execution_count": 3,
     "metadata": {},
     "output_type": "execute_result"
    }
   ],
   "source": [
    "# You can display the keys, but do NOT display the values!\n",
    "login.keys()"
   ]
  },
  {
   "cell_type": "code",
   "execution_count": 4,
   "metadata": {},
   "outputs": [
    {
     "data": {
      "text/plain": [
       "<yelpapi.yelpapi.YelpAPI at 0x2b7fa79cbb0>"
      ]
     },
     "execution_count": 4,
     "metadata": {},
     "output_type": "execute_result"
    }
   ],
   "source": [
    "# Instantiate YelpAPI Variable\n",
    "yelp_api = YelpAPI(login['api-key'], timeout_s = 5.0)\n",
    "yelp_api"
   ]
  },
  {
   "cell_type": "markdown",
   "metadata": {},
   "source": [
    "### Define Search Terms and File Paths\n"
   ]
  },
  {
   "cell_type": "code",
   "execution_count": 5,
   "metadata": {},
   "outputs": [],
   "source": [
    "# set our API call parameters and filename before the first call\n",
    "location = 'Atlanta, GA 30033 '\n",
    "term = 'mexican'"
   ]
  },
  {
   "cell_type": "code",
   "execution_count": 6,
   "metadata": {},
   "outputs": [
    {
     "data": {
      "text/plain": [
       "'Atlanta'"
      ]
     },
     "execution_count": 6,
     "metadata": {},
     "output_type": "execute_result"
    }
   ],
   "source": [
    "# Programmatically obtain the city name only from the location string to use in our file name\n",
    "location.split(',')[0]"
   ]
  },
  {
   "cell_type": "code",
   "execution_count": 7,
   "metadata": {},
   "outputs": [
    {
     "data": {
      "text/plain": [
       "'Data/Atlanta-mexican.json'"
      ]
     },
     "execution_count": 7,
     "metadata": {},
     "output_type": "execute_result"
    }
   ],
   "source": [
    "## Specify folder for saving data\n",
    "FOLDER = 'Data/'\n",
    "# This will make the Data folder for us if we don't have one\n",
    "os.makedirs(FOLDER, exist_ok = True)\n",
    "\n",
    "\n",
    "# Specifying JSON_FILE filename (can include a folder) to include the location and search term\n",
    "JSON_FILE = FOLDER+f\"{location.split(',')[0]}-{term}.json\"\n",
    "\n",
    "#Verify the name of the JSON_FILE\n",
    "JSON_FILE"
   ]
  },
  {
   "cell_type": "code",
   "execution_count": 8,
   "metadata": {},
   "outputs": [
    {
     "data": {
      "text/plain": [
       "'Data'"
      ]
     },
     "execution_count": 8,
     "metadata": {},
     "output_type": "execute_result"
    }
   ],
   "source": [
    "# We can extract the folder name from the file path \n",
    "folder = os.path.dirname(JSON_FILE)\n",
    "folder"
   ]
  },
  {
   "cell_type": "markdown",
   "metadata": {},
   "source": [
    "### Check if Json File exists and Create it if it doesn't"
   ]
  },
  {
   "cell_type": "code",
   "execution_count": 10,
   "metadata": {},
   "outputs": [
    {
     "name": "stdout",
     "output_type": "stream",
     "text": [
      "[i] Data/Atlanta-mexican.json already exists.\n"
     ]
    }
   ],
   "source": [
    "## Check if JSON_FILE exists\n",
    "file_exists = os.path.isfile(JSON_FILE)\n",
    "\n",
    "## If it does not exist: \n",
    "if file_exists == False:    \n",
    "    ## CREATE ANY NEEDED FOLDERS\n",
    "    # Get the Folder Name only\n",
    "    folder = os.path.dirname(JSON_FILE)\n",
    "    \n",
    "    ## If JSON folder name is not empty: (We have included a folder in our filepath)\n",
    "    if len(folder)>0:\n",
    "        # create the folder (In our case, the folder is Data)\n",
    "        os.makedirs(folder, exist_ok = True)\n",
    "        \n",
    "        \n",
    "    ## INFORM USER AND SAVE EMPTY LIST\n",
    "    print(f\"[i] {JSON_FILE} not found. Creating and saving empty list to file.\")\n",
    "\n",
    "    \n",
    "    ## save the first page of results\n",
    "    with open(JSON_FILE, 'w') as f:\n",
    "          json.dump([], f)\n",
    "        \n",
    "## If it exists, inform user\n",
    "else:\n",
    "    print(f\"[i] {JSON_FILE} already exists.\")"
   ]
  },
  {
   "cell_type": "markdown",
   "metadata": {},
   "source": [
    "### Load JSON FIle and account for previous results"
   ]
  },
  {
   "cell_type": "markdown",
   "metadata": {},
   "source": [
    "### Make the first API call to explore the first page of data"
   ]
  },
  {
   "cell_type": "markdown",
   "metadata": {},
   "source": [
    "- We will use this first result to check:\n",
    "    - how many total results there are?\n",
    "    - Where is the actual data we want to save?\n",
    "    - how many results do we get at a time?\n"
   ]
  },
  {
   "cell_type": "code",
   "execution_count": 11,
   "metadata": {},
   "outputs": [],
   "source": [
    "# use our yelp_api variable's search_query method to perform our API call\n",
    "# for help with any function, go inside () and click shift + tab\n",
    "# we MUST include location (or lat/long) but we can include other arguments as well\n",
    "\n",
    "results = yelp_api.search_query(location = location, term = term)\n"
   ]
  },
  {
   "cell_type": "code",
   "execution_count": 12,
   "metadata": {},
   "outputs": [
    {
     "data": {
      "text/plain": [
       "dict"
      ]
     },
     "execution_count": 12,
     "metadata": {},
     "output_type": "execute_result"
    }
   ],
   "source": [
    "# Check data type of the results\n",
    "type(results)"
   ]
  },
  {
   "cell_type": "code",
   "execution_count": 13,
   "metadata": {},
   "outputs": [
    {
     "data": {
      "text/plain": [
       "3"
      ]
     },
     "execution_count": 13,
     "metadata": {},
     "output_type": "execute_result"
    }
   ],
   "source": [
    "# Check the length of the results\n",
    "len(results)"
   ]
  },
  {
   "cell_type": "code",
   "execution_count": 14,
   "metadata": {},
   "outputs": [
    {
     "data": {
      "text/plain": [
       "dict_keys(['businesses', 'total', 'region'])"
      ]
     },
     "execution_count": 14,
     "metadata": {},
     "output_type": "execute_result"
    }
   ],
   "source": [
    "# List the keys of the dictionary\n",
    "results.keys()"
   ]
  },
  {
   "cell_type": "code",
   "execution_count": 15,
   "metadata": {},
   "outputs": [
    {
     "data": {
      "text/plain": [
       "[{'id': '9HjUwnEL5WIlv7RnnzF7CQ',\n",
       "  'alias': 'taqueria-el-vecino-decatur',\n",
       "  'name': 'Taqueria El Vecino',\n",
       "  'image_url': 'https://s3-media3.fl.yelpcdn.com/bphoto/_QwrEmkWJba35r4Qt13V7w/o.jpg',\n",
       "  'is_closed': False,\n",
       "  'url': 'https://www.yelp.com/biz/taqueria-el-vecino-decatur?adjust_creative=KJtcufKUS887p24u6rjVIQ&utm_campaign=yelp_api_v3&utm_medium=api_v3_business_search&utm_source=KJtcufKUS887p24u6rjVIQ',\n",
       "  'review_count': 272,\n",
       "  'categories': [{'alias': 'mexican', 'title': 'Mexican'},\n",
       "   {'alias': 'bbq', 'title': 'Barbeque'}],\n",
       "  'rating': 3.8,\n",
       "  'coordinates': {'latitude': 33.8239171, 'longitude': -84.2939897},\n",
       "  'transactions': ['delivery', 'pickup'],\n",
       "  'price': '$$',\n",
       "  'location': {'address1': '2743 Lavista Rd',\n",
       "   'address2': '',\n",
       "   'address3': '',\n",
       "   'city': 'Decatur',\n",
       "   'zip_code': '30033',\n",
       "   'country': 'US',\n",
       "   'state': 'GA',\n",
       "   'display_address': ['2743 Lavista Rd', 'Decatur, GA 30033']},\n",
       "  'phone': '+14049290301',\n",
       "  'display_phone': '(404) 929-0301',\n",
       "  'distance': 1361.563323329334},\n",
       " {'id': 'GfSQJ3Ex7IjomEAav9Mwzw',\n",
       "  'alias': 'la-parrilla-mexican-restaurant-atlanta-2',\n",
       "  'name': 'La Parrilla Mexican Restaurant',\n",
       "  'image_url': 'https://s3-media3.fl.yelpcdn.com/bphoto/xDfJMtL8epPUi0AW4_xBFg/o.jpg',\n",
       "  'is_closed': False,\n",
       "  'url': 'https://www.yelp.com/biz/la-parrilla-mexican-restaurant-atlanta-2?adjust_creative=KJtcufKUS887p24u6rjVIQ&utm_campaign=yelp_api_v3&utm_medium=api_v3_business_search&utm_source=KJtcufKUS887p24u6rjVIQ',\n",
       "  'review_count': 437,\n",
       "  'categories': [{'alias': 'mexican', 'title': 'Mexican'}],\n",
       "  'rating': 3.7,\n",
       "  'coordinates': {'latitude': 33.8147766440452,\n",
       "   'longitude': -84.3108190682695},\n",
       "  'transactions': ['delivery'],\n",
       "  'price': '$$',\n",
       "  'location': {'address1': '2945 North Druid Hills Rd',\n",
       "   'address2': '',\n",
       "   'address3': '',\n",
       "   'city': 'Atlanta',\n",
       "   'zip_code': '30329',\n",
       "   'country': 'US',\n",
       "   'state': 'GA',\n",
       "   'display_address': ['2945 North Druid Hills Rd', 'Atlanta, GA 30329']},\n",
       "  'phone': '+16784033831',\n",
       "  'display_phone': '(678) 403-3831',\n",
       "  'distance': 2198.475923909692},\n",
       " {'id': 'HKZ0dUt9sUUZVYlzwjX0ig',\n",
       "  'alias': 'los-ninos-taqueria-decatur-2',\n",
       "  'name': 'Los Ninos Taqueria',\n",
       "  'image_url': 'https://s3-media2.fl.yelpcdn.com/bphoto/pphWgJlTWLkFODTLaMbQmg/o.jpg',\n",
       "  'is_closed': False,\n",
       "  'url': 'https://www.yelp.com/biz/los-ninos-taqueria-decatur-2?adjust_creative=KJtcufKUS887p24u6rjVIQ&utm_campaign=yelp_api_v3&utm_medium=api_v3_business_search&utm_source=KJtcufKUS887p24u6rjVIQ',\n",
       "  'review_count': 75,\n",
       "  'categories': [{'alias': 'mexican', 'title': 'Mexican'}],\n",
       "  'rating': 4.5,\n",
       "  'coordinates': {'latitude': 33.7709975, 'longitude': -84.29228889999997},\n",
       "  'transactions': [],\n",
       "  'price': '$',\n",
       "  'location': {'address1': '307 E College Ave B',\n",
       "   'address2': 'Ste B',\n",
       "   'address3': None,\n",
       "   'city': 'Decatur',\n",
       "   'zip_code': '30030',\n",
       "   'country': 'US',\n",
       "   'state': 'GA',\n",
       "   'display_address': ['307 E College Ave B', 'Ste B', 'Decatur, GA 30030']},\n",
       "  'phone': '',\n",
       "  'display_phone': '',\n",
       "  'distance': 4704.697534314318},\n",
       " {'id': 'V86AJK3xytBv2C0bwi9_Ow',\n",
       "  'alias': 'la-pastorcita-atlanta',\n",
       "  'name': 'La Pastorcita',\n",
       "  'image_url': 'https://s3-media2.fl.yelpcdn.com/bphoto/QwqXsI272ixNJHRHEasjlg/o.jpg',\n",
       "  'is_closed': False,\n",
       "  'url': 'https://www.yelp.com/biz/la-pastorcita-atlanta?adjust_creative=KJtcufKUS887p24u6rjVIQ&utm_campaign=yelp_api_v3&utm_medium=api_v3_business_search&utm_source=KJtcufKUS887p24u6rjVIQ',\n",
       "  'review_count': 505,\n",
       "  'categories': [{'alias': 'mexican', 'title': 'Mexican'}],\n",
       "  'rating': 4.1,\n",
       "  'coordinates': {'latitude': 33.84308, 'longitude': -84.32924},\n",
       "  'transactions': ['delivery', 'pickup'],\n",
       "  'price': '$',\n",
       "  'location': {'address1': '3304 Buford Hwy NE',\n",
       "   'address2': '',\n",
       "   'address3': '',\n",
       "   'city': 'Atlanta',\n",
       "   'zip_code': '30329',\n",
       "   'country': 'US',\n",
       "   'state': 'GA',\n",
       "   'display_address': ['3304 Buford Hwy NE', 'Atlanta, GA 30329']},\n",
       "  'phone': '+16787058162',\n",
       "  'display_phone': '(678) 705-8162',\n",
       "  'distance': 5117.990718092637},\n",
       " {'id': 'QN4FMM1-J4Me5hu-ro85EA',\n",
       "  'alias': 'taqueria-la-carreta-atlanta',\n",
       "  'name': 'Taqueria La Carreta',\n",
       "  'image_url': 'https://s3-media3.fl.yelpcdn.com/bphoto/8sFvhYdIrS4vbHXOvt7yhQ/o.jpg',\n",
       "  'is_closed': False,\n",
       "  'url': 'https://www.yelp.com/biz/taqueria-la-carreta-atlanta?adjust_creative=KJtcufKUS887p24u6rjVIQ&utm_campaign=yelp_api_v3&utm_medium=api_v3_business_search&utm_source=KJtcufKUS887p24u6rjVIQ',\n",
       "  'review_count': 60,\n",
       "  'categories': [{'alias': 'mexican', 'title': 'Mexican'},\n",
       "   {'alias': 'hotdogs', 'title': 'Fast Food'}],\n",
       "  'rating': 4.3,\n",
       "  'coordinates': {'latitude': 33.8424612046155,\n",
       "   'longitude': -84.3268703240597},\n",
       "  'transactions': ['delivery'],\n",
       "  'price': '$$',\n",
       "  'location': {'address1': '3375 Buford Hwy NE',\n",
       "   'address2': 'Ste 1120',\n",
       "   'address3': '',\n",
       "   'city': 'Atlanta',\n",
       "   'zip_code': '30329',\n",
       "   'country': 'US',\n",
       "   'state': 'GA',\n",
       "   'display_address': ['3375 Buford Hwy NE', 'Ste 1120', 'Atlanta, GA 30329']},\n",
       "  'phone': '+16787771447',\n",
       "  'display_phone': '(678) 777-1447',\n",
       "  'distance': 4914.941348385382},\n",
       " {'id': '2uiFavCGvjlqDSkl1cIZPw',\n",
       "  'alias': 'el-rey-del-taco-atlanta',\n",
       "  'name': 'El Rey del Taco',\n",
       "  'image_url': 'https://s3-media1.fl.yelpcdn.com/bphoto/RP9V7qcuAz-r22q3HQDNoQ/o.jpg',\n",
       "  'is_closed': False,\n",
       "  'url': 'https://www.yelp.com/biz/el-rey-del-taco-atlanta?adjust_creative=KJtcufKUS887p24u6rjVIQ&utm_campaign=yelp_api_v3&utm_medium=api_v3_business_search&utm_source=KJtcufKUS887p24u6rjVIQ',\n",
       "  'review_count': 1078,\n",
       "  'categories': [{'alias': 'mexican', 'title': 'Mexican'},\n",
       "   {'alias': 'latin', 'title': 'Latin American'}],\n",
       "  'rating': 4.0,\n",
       "  'coordinates': {'latitude': 33.8970456631336,\n",
       "   'longitude': -84.2819186300039},\n",
       "  'transactions': ['delivery'],\n",
       "  'price': '$$',\n",
       "  'location': {'address1': '5288 Buford Hwy NE',\n",
       "   'address2': '',\n",
       "   'address3': '',\n",
       "   'city': 'Atlanta',\n",
       "   'zip_code': '30340',\n",
       "   'country': 'US',\n",
       "   'state': 'GA',\n",
       "   'display_address': ['5288 Buford Hwy NE', 'Atlanta, GA 30340']},\n",
       "  'phone': '+17709860032',\n",
       "  'display_phone': '(770) 986-0032',\n",
       "  'distance': 9347.910865730251},\n",
       " {'id': '3npWS11Owp1uPr2LWXB-lg',\n",
       "  'alias': 'el-taco-veloz-doraville',\n",
       "  'name': 'El Taco Veloz',\n",
       "  'image_url': 'https://s3-media3.fl.yelpcdn.com/bphoto/RVt5MGlB36NnYMF0WEZF9w/o.jpg',\n",
       "  'is_closed': False,\n",
       "  'url': 'https://www.yelp.com/biz/el-taco-veloz-doraville?adjust_creative=KJtcufKUS887p24u6rjVIQ&utm_campaign=yelp_api_v3&utm_medium=api_v3_business_search&utm_source=KJtcufKUS887p24u6rjVIQ',\n",
       "  'review_count': 320,\n",
       "  'categories': [{'alias': 'mexican', 'title': 'Mexican'}],\n",
       "  'rating': 4.0,\n",
       "  'coordinates': {'latitude': 33.890899, 'longitude': -84.2855309},\n",
       "  'transactions': ['delivery'],\n",
       "  'price': '$',\n",
       "  'location': {'address1': '5084 Buford Hwy NE',\n",
       "   'address2': '',\n",
       "   'address3': '',\n",
       "   'city': 'Doraville',\n",
       "   'zip_code': '30340',\n",
       "   'country': 'US',\n",
       "   'state': 'GA',\n",
       "   'display_address': ['5084 Buford Hwy NE', 'Doraville, GA 30340']},\n",
       "  'phone': '+17709369094',\n",
       "  'display_phone': '(770) 936-9094',\n",
       "  'distance': 8676.0306597657},\n",
       " {'id': '_FYMOrNo9HjdFo2Kg4Ao4w',\n",
       "  'alias': 'la-chiquiada-decatur',\n",
       "  'name': 'La Chiquiada',\n",
       "  'image_url': 'https://s3-media3.fl.yelpcdn.com/bphoto/tLFi9PZqxRVAnafyAVXsTA/o.jpg',\n",
       "  'is_closed': False,\n",
       "  'url': 'https://www.yelp.com/biz/la-chiquiada-decatur?adjust_creative=KJtcufKUS887p24u6rjVIQ&utm_campaign=yelp_api_v3&utm_medium=api_v3_business_search&utm_source=KJtcufKUS887p24u6rjVIQ',\n",
       "  'review_count': 63,\n",
       "  'categories': [{'alias': 'mexican', 'title': 'Mexican'},\n",
       "   {'alias': 'breakfast_brunch', 'title': 'Breakfast & Brunch'}],\n",
       "  'rating': 4.2,\n",
       "  'coordinates': {'latitude': 33.7734, 'longitude': -84.2972},\n",
       "  'transactions': [],\n",
       "  'location': {'address1': '110 W Trinity Pl',\n",
       "   'address2': '',\n",
       "   'address3': None,\n",
       "   'city': 'Decatur',\n",
       "   'zip_code': '30030',\n",
       "   'country': 'US',\n",
       "   'state': 'GA',\n",
       "   'display_address': ['110 W Trinity Pl', 'Decatur, GA 30030']},\n",
       "  'phone': '',\n",
       "  'display_phone': '',\n",
       "  'distance': 4514.577532955386},\n",
       " {'id': 'xrJRBIbri_D9uLekOCaHlQ',\n",
       "  'alias': 'eduardos-mexican-grill-tucker',\n",
       "  'name': \"Eduardo's Mexican Grill\",\n",
       "  'image_url': 'https://s3-media4.fl.yelpcdn.com/bphoto/ivAIFpDtqQbr01dBDV7mdA/o.jpg',\n",
       "  'is_closed': False,\n",
       "  'url': 'https://www.yelp.com/biz/eduardos-mexican-grill-tucker?adjust_creative=KJtcufKUS887p24u6rjVIQ&utm_campaign=yelp_api_v3&utm_medium=api_v3_business_search&utm_source=KJtcufKUS887p24u6rjVIQ',\n",
       "  'review_count': 168,\n",
       "  'categories': [{'alias': 'mexican', 'title': 'Mexican'},\n",
       "   {'alias': 'seafood', 'title': 'Seafood'},\n",
       "   {'alias': 'soup', 'title': 'Soup'}],\n",
       "  'rating': 3.9,\n",
       "  'coordinates': {'latitude': 33.845, 'longitude': -84.2559366},\n",
       "  'transactions': ['delivery', 'pickup'],\n",
       "  'price': '$$',\n",
       "  'location': {'address1': '3939 Lavista Rd',\n",
       "   'address2': '',\n",
       "   'address3': '',\n",
       "   'city': 'Tucker',\n",
       "   'zip_code': '30084',\n",
       "   'country': 'US',\n",
       "   'state': 'GA',\n",
       "   'display_address': ['3939 Lavista Rd', 'Tucker, GA 30084']},\n",
       "  'phone': '+17704148528',\n",
       "  'display_phone': '(770) 414-8528',\n",
       "  'distance': 4406.491393880495},\n",
       " {'id': 'p_vbNPeQLzrNduY6-t759g',\n",
       "  'alias': 'monterrey-mexican-restaurant-tucker',\n",
       "  'name': 'Monterrey Mexican Restaurant',\n",
       "  'image_url': 'https://s3-media4.fl.yelpcdn.com/bphoto/qOlz-1bZHlU5L74Fi-ENRA/o.jpg',\n",
       "  'is_closed': False,\n",
       "  'url': 'https://www.yelp.com/biz/monterrey-mexican-restaurant-tucker?adjust_creative=KJtcufKUS887p24u6rjVIQ&utm_campaign=yelp_api_v3&utm_medium=api_v3_business_search&utm_source=KJtcufKUS887p24u6rjVIQ',\n",
       "  'review_count': 147,\n",
       "  'categories': [{'alias': 'mexican', 'title': 'Mexican'},\n",
       "   {'alias': 'seafood', 'title': 'Seafood'},\n",
       "   {'alias': 'tex-mex', 'title': 'Tex-Mex'}],\n",
       "  'rating': 3.2,\n",
       "  'coordinates': {'latitude': 33.8426, 'longitude': -84.25866},\n",
       "  'transactions': ['delivery'],\n",
       "  'price': '$',\n",
       "  'location': {'address1': '3865 Lavista Rd',\n",
       "   'address2': '',\n",
       "   'address3': '',\n",
       "   'city': 'Tucker',\n",
       "   'zip_code': '30084',\n",
       "   'country': 'US',\n",
       "   'state': 'GA',\n",
       "   'display_address': ['3865 Lavista Rd', 'Tucker, GA 30084']},\n",
       "  'phone': '+17704933565',\n",
       "  'display_phone': '(770) 493-3565',\n",
       "  'distance': 4187.731334240654},\n",
       " {'id': 'PQBCfIUpCbRr9TltCeQ6iA',\n",
       "  'alias': 'santo-cantina-and-cocina-avondale-estates',\n",
       "  'name': 'Santo Cantina & Cocina',\n",
       "  'image_url': 'https://s3-media1.fl.yelpcdn.com/bphoto/5931JIVma7GfkEjOchV_pA/o.jpg',\n",
       "  'is_closed': False,\n",
       "  'url': 'https://www.yelp.com/biz/santo-cantina-and-cocina-avondale-estates?adjust_creative=KJtcufKUS887p24u6rjVIQ&utm_campaign=yelp_api_v3&utm_medium=api_v3_business_search&utm_source=KJtcufKUS887p24u6rjVIQ',\n",
       "  'review_count': 95,\n",
       "  'categories': [{'alias': 'mexican', 'title': 'Mexican'}],\n",
       "  'rating': 4.1,\n",
       "  'coordinates': {'latitude': 33.7761278, 'longitude': -84.2657905},\n",
       "  'transactions': [],\n",
       "  'price': '$$',\n",
       "  'location': {'address1': '31 N Avondale Rd',\n",
       "   'address2': '',\n",
       "   'address3': None,\n",
       "   'city': 'Avondale Estates',\n",
       "   'zip_code': '30002',\n",
       "   'country': 'US',\n",
       "   'state': 'GA',\n",
       "   'display_address': ['31 N Avondale Rd', 'Avondale Estates, GA 30002']},\n",
       "  'phone': '+14042543909',\n",
       "  'display_phone': '(404) 254-3909',\n",
       "  'distance': 4557.5874787281045},\n",
       " {'id': 'w2eWMiUASUzmKtJzJHxxnA',\n",
       "  'alias': 'el-potro-mexican-restaurant-atlanta',\n",
       "  'name': 'El Potro Mexican Restaurant',\n",
       "  'image_url': 'https://s3-media2.fl.yelpcdn.com/bphoto/FoFkr4nF7hFCtd1VZmERUQ/o.jpg',\n",
       "  'is_closed': False,\n",
       "  'url': 'https://www.yelp.com/biz/el-potro-mexican-restaurant-atlanta?adjust_creative=KJtcufKUS887p24u6rjVIQ&utm_campaign=yelp_api_v3&utm_medium=api_v3_business_search&utm_source=KJtcufKUS887p24u6rjVIQ',\n",
       "  'review_count': 279,\n",
       "  'categories': [{'alias': 'mexican', 'title': 'Mexican'}],\n",
       "  'rating': 3.9,\n",
       "  'coordinates': {'latitude': 33.845287322998, 'longitude': -84.326789855957},\n",
       "  'transactions': ['delivery'],\n",
       "  'price': '$',\n",
       "  'location': {'address1': '3396 Buford Hwy NE',\n",
       "   'address2': '',\n",
       "   'address3': '',\n",
       "   'city': 'Atlanta',\n",
       "   'zip_code': '30329',\n",
       "   'country': 'US',\n",
       "   'state': 'GA',\n",
       "   'display_address': ['3396 Buford Hwy NE', 'Atlanta, GA 30329']},\n",
       "  'phone': '+14043259312',\n",
       "  'display_phone': '(404) 325-9312',\n",
       "  'distance': 5123.1943532455125},\n",
       " {'id': '_JHOGQrKDyPneSo8E9gRDw',\n",
       "  'alias': 'oaxaca-no-title',\n",
       "  'name': 'Oaxaca',\n",
       "  'image_url': 'https://s3-media2.fl.yelpcdn.com/bphoto/NPVe_KPsRpwCIExmCEVfEQ/o.jpg',\n",
       "  'is_closed': False,\n",
       "  'url': 'https://www.yelp.com/biz/oaxaca-no-title?adjust_creative=KJtcufKUS887p24u6rjVIQ&utm_campaign=yelp_api_v3&utm_medium=api_v3_business_search&utm_source=KJtcufKUS887p24u6rjVIQ',\n",
       "  'review_count': 100,\n",
       "  'categories': [{'alias': 'mexican', 'title': 'Mexican'}],\n",
       "  'rating': 4.2,\n",
       "  'coordinates': {'latitude': 33.891761, 'longitude': -84.308201},\n",
       "  'transactions': [],\n",
       "  'price': '$$$',\n",
       "  'location': {'address1': '5255 Peachtree Blvd',\n",
       "   'address2': 'Ste 105',\n",
       "   'address3': '',\n",
       "   'city': 'Atlanta',\n",
       "   'zip_code': '30341',\n",
       "   'country': 'US',\n",
       "   'state': 'GA',\n",
       "   'display_address': ['5255 Peachtree Blvd', 'Ste 105', 'Atlanta, GA 30341']},\n",
       "  'phone': '+17704504805',\n",
       "  'display_phone': '(770) 450-4805',\n",
       "  'distance': 8961.345295904832},\n",
       " {'id': 'j4_oYhBSDlW1kjEq-DlSeQ',\n",
       "  'alias': 'los-bravos-decatur',\n",
       "  'name': 'Los Bravos',\n",
       "  'image_url': 'https://s3-media2.fl.yelpcdn.com/bphoto/IJSHugz2YL5d-_HolHpo9g/o.jpg',\n",
       "  'is_closed': False,\n",
       "  'url': 'https://www.yelp.com/biz/los-bravos-decatur?adjust_creative=KJtcufKUS887p24u6rjVIQ&utm_campaign=yelp_api_v3&utm_medium=api_v3_business_search&utm_source=KJtcufKUS887p24u6rjVIQ',\n",
       "  'review_count': 163,\n",
       "  'categories': [{'alias': 'mexican', 'title': 'Mexican'},\n",
       "   {'alias': 'bars', 'title': 'Bars'}],\n",
       "  'rating': 2.8,\n",
       "  'coordinates': {'latitude': 33.7936351, 'longitude': -84.2740617},\n",
       "  'transactions': ['delivery', 'pickup'],\n",
       "  'price': '$',\n",
       "  'location': {'address1': '2895 N Decatur Rd',\n",
       "   'address2': '',\n",
       "   'address3': '',\n",
       "   'city': 'Decatur',\n",
       "   'zip_code': '30033',\n",
       "   'country': 'US',\n",
       "   'state': 'GA',\n",
       "   'display_address': ['2895 N Decatur Rd', 'Decatur, GA 30033']},\n",
       "  'phone': '+14045080404',\n",
       "  'display_phone': '(404) 508-0404',\n",
       "  'distance': 2482.2445033775593},\n",
       " {'id': 'Ta3A0pqMB8Va3Vz_dGwjyg',\n",
       "  'alias': 'mela-restaurant-and-lounge-decatur',\n",
       "  'name': 'Mela Restaurant & Lounge',\n",
       "  'image_url': 'https://s3-media2.fl.yelpcdn.com/bphoto/u0_fvsWSEjEhtXZhvNB-vA/o.jpg',\n",
       "  'is_closed': False,\n",
       "  'url': 'https://www.yelp.com/biz/mela-restaurant-and-lounge-decatur?adjust_creative=KJtcufKUS887p24u6rjVIQ&utm_campaign=yelp_api_v3&utm_medium=api_v3_business_search&utm_source=KJtcufKUS887p24u6rjVIQ',\n",
       "  'review_count': 52,\n",
       "  'categories': [{'alias': 'hookah_bars', 'title': 'Hookah Bars'},\n",
       "   {'alias': 'tacos', 'title': 'Tacos'},\n",
       "   {'alias': 'pastashops', 'title': 'Pasta Shops'}],\n",
       "  'rating': 4.3,\n",
       "  'coordinates': {'latitude': 33.7925418, 'longitude': -84.30508049719147},\n",
       "  'transactions': ['delivery', 'pickup'],\n",
       "  'price': '$$',\n",
       "  'location': {'address1': '1359 Clairmont Rd',\n",
       "   'address2': None,\n",
       "   'address3': '',\n",
       "   'city': 'Decatur',\n",
       "   'zip_code': '30033',\n",
       "   'country': 'US',\n",
       "   'state': 'GA',\n",
       "   'display_address': ['1359 Clairmont Rd', 'Decatur, GA 30033']},\n",
       "  'phone': '+14043432130',\n",
       "  'display_phone': '(404) 343-2130',\n",
       "  'distance': 2824.355071826658},\n",
       " {'id': 'YiqzdP2y5CMSP4N3y48sqA',\n",
       "  'alias': 'taqueria-los-hermanos-tucker',\n",
       "  'name': 'Taqueria Los Hermanos',\n",
       "  'image_url': 'https://s3-media1.fl.yelpcdn.com/bphoto/VE0PGFTODBGRx3wdO_T4tg/o.jpg',\n",
       "  'is_closed': False,\n",
       "  'url': 'https://www.yelp.com/biz/taqueria-los-hermanos-tucker?adjust_creative=KJtcufKUS887p24u6rjVIQ&utm_campaign=yelp_api_v3&utm_medium=api_v3_business_search&utm_source=KJtcufKUS887p24u6rjVIQ',\n",
       "  'review_count': 377,\n",
       "  'categories': [{'alias': 'mexican', 'title': 'Mexican'}],\n",
       "  'rating': 4.2,\n",
       "  'coordinates': {'latitude': 33.852526, 'longitude': -84.206768},\n",
       "  'transactions': ['delivery'],\n",
       "  'price': '$$',\n",
       "  'location': {'address1': '4418 Hugh Howell Rd',\n",
       "   'address2': '',\n",
       "   'address3': None,\n",
       "   'city': 'Tucker',\n",
       "   'zip_code': '30084',\n",
       "   'country': 'US',\n",
       "   'state': 'GA',\n",
       "   'display_address': ['4418 Hugh Howell Rd', 'Tucker, GA 30084']},\n",
       "  'phone': '+16789370660',\n",
       "  'display_phone': '(678) 937-0660',\n",
       "  'distance': 8619.663322221193},\n",
       " {'id': 'MHe9zOb1DBhE3d49c8JWxA',\n",
       "  'alias': 'red-pepper-taqueria-atlanta-6',\n",
       "  'name': 'Red Pepper Taqueria',\n",
       "  'image_url': 'https://s3-media1.fl.yelpcdn.com/bphoto/jwhH_sMDUHuffWA4imS9Ng/o.jpg',\n",
       "  'is_closed': False,\n",
       "  'url': 'https://www.yelp.com/biz/red-pepper-taqueria-atlanta-6?adjust_creative=KJtcufKUS887p24u6rjVIQ&utm_campaign=yelp_api_v3&utm_medium=api_v3_business_search&utm_source=KJtcufKUS887p24u6rjVIQ',\n",
       "  'review_count': 404,\n",
       "  'categories': [{'alias': 'mexican', 'title': 'Mexican'},\n",
       "   {'alias': 'sportsbars', 'title': 'Sports Bars'},\n",
       "   {'alias': 'latin', 'title': 'Latin American'}],\n",
       "  'rating': 3.4,\n",
       "  'coordinates': {'latitude': 33.81633208003589,\n",
       "   'longitude': -84.33436460363129},\n",
       "  'transactions': ['delivery', 'pickup'],\n",
       "  'price': '$$',\n",
       "  'location': {'address1': '2149 Briarcliff Rd',\n",
       "   'address2': '',\n",
       "   'address3': '',\n",
       "   'city': 'Atlanta',\n",
       "   'zip_code': '30329',\n",
       "   'country': 'US',\n",
       "   'state': 'GA',\n",
       "   'display_address': ['2149 Briarcliff Rd', 'Atlanta, GA 30329']},\n",
       "  'phone': '+14043258151',\n",
       "  'display_phone': '(404) 325-8151',\n",
       "  'distance': 4380.561085824554},\n",
       " {'id': 'tKWfHXdB5gTkZTLJbSkUXw',\n",
       "  'alias': 'raging-burrito-and-taco-decatur',\n",
       "  'name': 'Raging Burrito & Taco',\n",
       "  'image_url': 'https://s3-media2.fl.yelpcdn.com/bphoto/3r9Ugau5F6i-labV5yzr1g/o.jpg',\n",
       "  'is_closed': False,\n",
       "  'url': 'https://www.yelp.com/biz/raging-burrito-and-taco-decatur?adjust_creative=KJtcufKUS887p24u6rjVIQ&utm_campaign=yelp_api_v3&utm_medium=api_v3_business_search&utm_source=KJtcufKUS887p24u6rjVIQ',\n",
       "  'review_count': 841,\n",
       "  'categories': [{'alias': 'bars', 'title': 'Bars'},\n",
       "   {'alias': 'tacos', 'title': 'Tacos'},\n",
       "   {'alias': 'tex-mex', 'title': 'Tex-Mex'}],\n",
       "  'rating': 3.9,\n",
       "  'coordinates': {'latitude': 33.77442, 'longitude': -84.29547},\n",
       "  'transactions': ['delivery', 'pickup'],\n",
       "  'price': '$$',\n",
       "  'location': {'address1': '141 Sycamore St',\n",
       "   'address2': '',\n",
       "   'address3': '',\n",
       "   'city': 'Decatur',\n",
       "   'zip_code': '30030',\n",
       "   'country': 'US',\n",
       "   'state': 'GA',\n",
       "   'display_address': ['141 Sycamore St', 'Decatur, GA 30030']},\n",
       "  'phone': '+14043773311',\n",
       "  'display_phone': '(404) 377-3311',\n",
       "  'distance': 4374.171867423415},\n",
       " {'id': 'ldoswTL6XQX_VllVEoHZ_Q',\n",
       "  'alias': 'el-tesoro-atlanta-3',\n",
       "  'name': 'El Tesoro',\n",
       "  'image_url': 'https://s3-media4.fl.yelpcdn.com/bphoto/pKzTf7UxWx2qCIlW21qNTQ/o.jpg',\n",
       "  'is_closed': False,\n",
       "  'url': 'https://www.yelp.com/biz/el-tesoro-atlanta-3?adjust_creative=KJtcufKUS887p24u6rjVIQ&utm_campaign=yelp_api_v3&utm_medium=api_v3_business_search&utm_source=KJtcufKUS887p24u6rjVIQ',\n",
       "  'review_count': 321,\n",
       "  'categories': [{'alias': 'mexican', 'title': 'Mexican'},\n",
       "   {'alias': 'breakfast_brunch', 'title': 'Breakfast & Brunch'},\n",
       "   {'alias': 'coffee', 'title': 'Coffee & Tea'}],\n",
       "  'rating': 4.3,\n",
       "  'coordinates': {'latitude': 33.74941011022, 'longitude': -84.3426381424069},\n",
       "  'transactions': ['delivery', 'pickup'],\n",
       "  'price': '$$',\n",
       "  'location': {'address1': '1374 Arkwright Pl SE',\n",
       "   'address2': '',\n",
       "   'address3': None,\n",
       "   'city': 'Atlanta',\n",
       "   'zip_code': '30317',\n",
       "   'country': 'US',\n",
       "   'state': 'GA',\n",
       "   'display_address': ['1374 Arkwright Pl SE', 'Atlanta, GA 30317']},\n",
       "  'phone': '+14704405502',\n",
       "  'display_phone': '(470) 440-5502',\n",
       "  'distance': 8744.946722363351},\n",
       " {'id': '0_RfI3n-v-5b97J7eKS_Lw',\n",
       "  'alias': 'rreal-tacos-chamblee-chamblee',\n",
       "  'name': 'Rreal Tacos - Chamblee',\n",
       "  'image_url': 'https://s3-media3.fl.yelpcdn.com/bphoto/lSMVlzHTABR4nDf_rTewDw/o.jpg',\n",
       "  'is_closed': False,\n",
       "  'url': 'https://www.yelp.com/biz/rreal-tacos-chamblee-chamblee?adjust_creative=KJtcufKUS887p24u6rjVIQ&utm_campaign=yelp_api_v3&utm_medium=api_v3_business_search&utm_source=KJtcufKUS887p24u6rjVIQ',\n",
       "  'review_count': 210,\n",
       "  'categories': [{'alias': 'tacos', 'title': 'Tacos'}],\n",
       "  'rating': 4.5,\n",
       "  'coordinates': {'latitude': 33.887728805455396,\n",
       "   'longitude': -84.31461595943864},\n",
       "  'transactions': ['delivery', 'pickup'],\n",
       "  'price': '$$',\n",
       "  'location': {'address1': '5070 Peachtree Industrial Blvd',\n",
       "   'address2': None,\n",
       "   'address3': '',\n",
       "   'city': 'Chamblee',\n",
       "   'zip_code': '30341',\n",
       "   'country': 'US',\n",
       "   'state': 'GA',\n",
       "   'display_address': ['5070 Peachtree Industrial Blvd',\n",
       "    'Chamblee, GA 30341']},\n",
       "  'phone': '+14702688290',\n",
       "  'display_phone': '(470) 268-8290',\n",
       "  'distance': 8679.639511019805}]"
      ]
     },
     "execution_count": 15,
     "metadata": {},
     "output_type": "execute_result"
    }
   ],
   "source": [
    "# Explore each key\n",
    "results['businesses']"
   ]
  },
  {
   "cell_type": "code",
   "execution_count": 16,
   "metadata": {},
   "outputs": [
    {
     "data": {
      "text/plain": [
       "485"
      ]
     },
     "execution_count": 16,
     "metadata": {},
     "output_type": "execute_result"
    }
   ],
   "source": [
    "# Explore each key\n",
    "results['total']"
   ]
  },
  {
   "cell_type": "code",
   "execution_count": 17,
   "metadata": {},
   "outputs": [
    {
     "data": {
      "text/plain": [
       "{'center': {'longitude': -84.287109375, 'latitude': 33.813088376606714}}"
      ]
     },
     "execution_count": 17,
     "metadata": {},
     "output_type": "execute_result"
    }
   ],
   "source": [
    "# Explore each key\n",
    "results['region']"
   ]
  },
  {
   "cell_type": "markdown",
   "metadata": {},
   "source": [
    "- Where is the actual data we want to save?"
   ]
  },
  {
   "cell_type": "code",
   "execution_count": 19,
   "metadata": {},
   "outputs": [
    {
     "data": {
      "text/plain": [
       "list"
      ]
     },
     "execution_count": 19,
     "metadata": {},
     "output_type": "execute_result"
    }
   ],
   "source": [
    "# What is the datatype for the businesses?\n",
    "type(results['businesses'])"
   ]
  },
  {
   "cell_type": "code",
   "execution_count": 20,
   "metadata": {},
   "outputs": [
    {
     "data": {
      "text/plain": [
       "{'id': '9HjUwnEL5WIlv7RnnzF7CQ',\n",
       " 'alias': 'taqueria-el-vecino-decatur',\n",
       " 'name': 'Taqueria El Vecino',\n",
       " 'image_url': 'https://s3-media3.fl.yelpcdn.com/bphoto/_QwrEmkWJba35r4Qt13V7w/o.jpg',\n",
       " 'is_closed': False,\n",
       " 'url': 'https://www.yelp.com/biz/taqueria-el-vecino-decatur?adjust_creative=KJtcufKUS887p24u6rjVIQ&utm_campaign=yelp_api_v3&utm_medium=api_v3_business_search&utm_source=KJtcufKUS887p24u6rjVIQ',\n",
       " 'review_count': 272,\n",
       " 'categories': [{'alias': 'mexican', 'title': 'Mexican'},\n",
       "  {'alias': 'bbq', 'title': 'Barbeque'}],\n",
       " 'rating': 3.8,\n",
       " 'coordinates': {'latitude': 33.8239171, 'longitude': -84.2939897},\n",
       " 'transactions': ['delivery', 'pickup'],\n",
       " 'price': '$$',\n",
       " 'location': {'address1': '2743 Lavista Rd',\n",
       "  'address2': '',\n",
       "  'address3': '',\n",
       "  'city': 'Decatur',\n",
       "  'zip_code': '30033',\n",
       "  'country': 'US',\n",
       "  'state': 'GA',\n",
       "  'display_address': ['2743 Lavista Rd', 'Decatur, GA 30033']},\n",
       " 'phone': '+14049290301',\n",
       " 'display_phone': '(404) 929-0301',\n",
       " 'distance': 1361.563323329334}"
      ]
     },
     "execution_count": 20,
     "metadata": {},
     "output_type": "execute_result"
    }
   ],
   "source": [
    "# Display first result from the list of dictionaries\n",
    "results['businesses'][0]"
   ]
  },
  {
   "cell_type": "code",
   "execution_count": 21,
   "metadata": {
    "ExecuteTime": {
     "end_time": "2022-03-24T20:01:48.867510Z",
     "start_time": "2022-03-24T20:01:48.854746Z"
    },
    "colab": {
     "base_uri": "https://localhost:8080/"
    },
    "id": "Myur3i1KGhPf",
    "outputId": "f447c6f9-596b-41d0-ccda-50af0ce82108"
   },
   "outputs": [
    {
     "data": {
      "text/html": [
       "<div>\n",
       "<style scoped>\n",
       "    .dataframe tbody tr th:only-of-type {\n",
       "        vertical-align: middle;\n",
       "    }\n",
       "\n",
       "    .dataframe tbody tr th {\n",
       "        vertical-align: top;\n",
       "    }\n",
       "\n",
       "    .dataframe thead th {\n",
       "        text-align: right;\n",
       "    }\n",
       "</style>\n",
       "<table border=\"1\" class=\"dataframe\">\n",
       "  <thead>\n",
       "    <tr style=\"text-align: right;\">\n",
       "      <th></th>\n",
       "      <th>id</th>\n",
       "      <th>alias</th>\n",
       "      <th>name</th>\n",
       "      <th>image_url</th>\n",
       "      <th>is_closed</th>\n",
       "      <th>url</th>\n",
       "      <th>review_count</th>\n",
       "      <th>categories</th>\n",
       "      <th>rating</th>\n",
       "      <th>coordinates</th>\n",
       "      <th>transactions</th>\n",
       "      <th>price</th>\n",
       "      <th>location</th>\n",
       "      <th>phone</th>\n",
       "      <th>display_phone</th>\n",
       "      <th>distance</th>\n",
       "    </tr>\n",
       "  </thead>\n",
       "  <tbody>\n",
       "    <tr>\n",
       "      <th>0</th>\n",
       "      <td>9HjUwnEL5WIlv7RnnzF7CQ</td>\n",
       "      <td>taqueria-el-vecino-decatur</td>\n",
       "      <td>Taqueria El Vecino</td>\n",
       "      <td>https://s3-media3.fl.yelpcdn.com/bphoto/_QwrEm...</td>\n",
       "      <td>False</td>\n",
       "      <td>https://www.yelp.com/biz/taqueria-el-vecino-de...</td>\n",
       "      <td>272</td>\n",
       "      <td>[{'alias': 'mexican', 'title': 'Mexican'}, {'a...</td>\n",
       "      <td>3.8</td>\n",
       "      <td>{'latitude': 33.8239171, 'longitude': -84.2939...</td>\n",
       "      <td>[delivery, pickup]</td>\n",
       "      <td>$$</td>\n",
       "      <td>{'address1': '2743 Lavista Rd', 'address2': ''...</td>\n",
       "      <td>+14049290301</td>\n",
       "      <td>(404) 929-0301</td>\n",
       "      <td>1361.563323</td>\n",
       "    </tr>\n",
       "    <tr>\n",
       "      <th>1</th>\n",
       "      <td>GfSQJ3Ex7IjomEAav9Mwzw</td>\n",
       "      <td>la-parrilla-mexican-restaurant-atlanta-2</td>\n",
       "      <td>La Parrilla Mexican Restaurant</td>\n",
       "      <td>https://s3-media3.fl.yelpcdn.com/bphoto/xDfJMt...</td>\n",
       "      <td>False</td>\n",
       "      <td>https://www.yelp.com/biz/la-parrilla-mexican-r...</td>\n",
       "      <td>437</td>\n",
       "      <td>[{'alias': 'mexican', 'title': 'Mexican'}]</td>\n",
       "      <td>3.7</td>\n",
       "      <td>{'latitude': 33.8147766440452, 'longitude': -8...</td>\n",
       "      <td>[delivery]</td>\n",
       "      <td>$$</td>\n",
       "      <td>{'address1': '2945 North Druid Hills Rd', 'add...</td>\n",
       "      <td>+16784033831</td>\n",
       "      <td>(678) 403-3831</td>\n",
       "      <td>2198.475924</td>\n",
       "    </tr>\n",
       "    <tr>\n",
       "      <th>2</th>\n",
       "      <td>HKZ0dUt9sUUZVYlzwjX0ig</td>\n",
       "      <td>los-ninos-taqueria-decatur-2</td>\n",
       "      <td>Los Ninos Taqueria</td>\n",
       "      <td>https://s3-media2.fl.yelpcdn.com/bphoto/pphWgJ...</td>\n",
       "      <td>False</td>\n",
       "      <td>https://www.yelp.com/biz/los-ninos-taqueria-de...</td>\n",
       "      <td>75</td>\n",
       "      <td>[{'alias': 'mexican', 'title': 'Mexican'}]</td>\n",
       "      <td>4.5</td>\n",
       "      <td>{'latitude': 33.7709975, 'longitude': -84.2922...</td>\n",
       "      <td>[]</td>\n",
       "      <td>$</td>\n",
       "      <td>{'address1': '307 E College Ave B', 'address2'...</td>\n",
       "      <td></td>\n",
       "      <td></td>\n",
       "      <td>4704.697534</td>\n",
       "    </tr>\n",
       "    <tr>\n",
       "      <th>3</th>\n",
       "      <td>V86AJK3xytBv2C0bwi9_Ow</td>\n",
       "      <td>la-pastorcita-atlanta</td>\n",
       "      <td>La Pastorcita</td>\n",
       "      <td>https://s3-media2.fl.yelpcdn.com/bphoto/QwqXsI...</td>\n",
       "      <td>False</td>\n",
       "      <td>https://www.yelp.com/biz/la-pastorcita-atlanta...</td>\n",
       "      <td>505</td>\n",
       "      <td>[{'alias': 'mexican', 'title': 'Mexican'}]</td>\n",
       "      <td>4.1</td>\n",
       "      <td>{'latitude': 33.84308, 'longitude': -84.32924}</td>\n",
       "      <td>[delivery, pickup]</td>\n",
       "      <td>$</td>\n",
       "      <td>{'address1': '3304 Buford Hwy NE', 'address2':...</td>\n",
       "      <td>+16787058162</td>\n",
       "      <td>(678) 705-8162</td>\n",
       "      <td>5117.990718</td>\n",
       "    </tr>\n",
       "    <tr>\n",
       "      <th>4</th>\n",
       "      <td>QN4FMM1-J4Me5hu-ro85EA</td>\n",
       "      <td>taqueria-la-carreta-atlanta</td>\n",
       "      <td>Taqueria La Carreta</td>\n",
       "      <td>https://s3-media3.fl.yelpcdn.com/bphoto/8sFvhY...</td>\n",
       "      <td>False</td>\n",
       "      <td>https://www.yelp.com/biz/taqueria-la-carreta-a...</td>\n",
       "      <td>60</td>\n",
       "      <td>[{'alias': 'mexican', 'title': 'Mexican'}, {'a...</td>\n",
       "      <td>4.3</td>\n",
       "      <td>{'latitude': 33.8424612046155, 'longitude': -8...</td>\n",
       "      <td>[delivery]</td>\n",
       "      <td>$$</td>\n",
       "      <td>{'address1': '3375 Buford Hwy NE', 'address2':...</td>\n",
       "      <td>+16787771447</td>\n",
       "      <td>(678) 777-1447</td>\n",
       "      <td>4914.941348</td>\n",
       "    </tr>\n",
       "  </tbody>\n",
       "</table>\n",
       "</div>"
      ],
      "text/plain": [
       "                       id                                     alias  \\\n",
       "0  9HjUwnEL5WIlv7RnnzF7CQ                taqueria-el-vecino-decatur   \n",
       "1  GfSQJ3Ex7IjomEAav9Mwzw  la-parrilla-mexican-restaurant-atlanta-2   \n",
       "2  HKZ0dUt9sUUZVYlzwjX0ig              los-ninos-taqueria-decatur-2   \n",
       "3  V86AJK3xytBv2C0bwi9_Ow                     la-pastorcita-atlanta   \n",
       "4  QN4FMM1-J4Me5hu-ro85EA               taqueria-la-carreta-atlanta   \n",
       "\n",
       "                             name  \\\n",
       "0              Taqueria El Vecino   \n",
       "1  La Parrilla Mexican Restaurant   \n",
       "2              Los Ninos Taqueria   \n",
       "3                   La Pastorcita   \n",
       "4             Taqueria La Carreta   \n",
       "\n",
       "                                           image_url  is_closed  \\\n",
       "0  https://s3-media3.fl.yelpcdn.com/bphoto/_QwrEm...      False   \n",
       "1  https://s3-media3.fl.yelpcdn.com/bphoto/xDfJMt...      False   \n",
       "2  https://s3-media2.fl.yelpcdn.com/bphoto/pphWgJ...      False   \n",
       "3  https://s3-media2.fl.yelpcdn.com/bphoto/QwqXsI...      False   \n",
       "4  https://s3-media3.fl.yelpcdn.com/bphoto/8sFvhY...      False   \n",
       "\n",
       "                                                 url  review_count  \\\n",
       "0  https://www.yelp.com/biz/taqueria-el-vecino-de...           272   \n",
       "1  https://www.yelp.com/biz/la-parrilla-mexican-r...           437   \n",
       "2  https://www.yelp.com/biz/los-ninos-taqueria-de...            75   \n",
       "3  https://www.yelp.com/biz/la-pastorcita-atlanta...           505   \n",
       "4  https://www.yelp.com/biz/taqueria-la-carreta-a...            60   \n",
       "\n",
       "                                          categories  rating  \\\n",
       "0  [{'alias': 'mexican', 'title': 'Mexican'}, {'a...     3.8   \n",
       "1         [{'alias': 'mexican', 'title': 'Mexican'}]     3.7   \n",
       "2         [{'alias': 'mexican', 'title': 'Mexican'}]     4.5   \n",
       "3         [{'alias': 'mexican', 'title': 'Mexican'}]     4.1   \n",
       "4  [{'alias': 'mexican', 'title': 'Mexican'}, {'a...     4.3   \n",
       "\n",
       "                                         coordinates        transactions  \\\n",
       "0  {'latitude': 33.8239171, 'longitude': -84.2939...  [delivery, pickup]   \n",
       "1  {'latitude': 33.8147766440452, 'longitude': -8...          [delivery]   \n",
       "2  {'latitude': 33.7709975, 'longitude': -84.2922...                  []   \n",
       "3     {'latitude': 33.84308, 'longitude': -84.32924}  [delivery, pickup]   \n",
       "4  {'latitude': 33.8424612046155, 'longitude': -8...          [delivery]   \n",
       "\n",
       "  price                                           location         phone  \\\n",
       "0    $$  {'address1': '2743 Lavista Rd', 'address2': ''...  +14049290301   \n",
       "1    $$  {'address1': '2945 North Druid Hills Rd', 'add...  +16784033831   \n",
       "2     $  {'address1': '307 E College Ave B', 'address2'...                 \n",
       "3     $  {'address1': '3304 Buford Hwy NE', 'address2':...  +16787058162   \n",
       "4    $$  {'address1': '3375 Buford Hwy NE', 'address2':...  +16787771447   \n",
       "\n",
       "    display_phone     distance  \n",
       "0  (404) 929-0301  1361.563323  \n",
       "1  (678) 403-3831  2198.475924  \n",
       "2                  4704.697534  \n",
       "3  (678) 705-8162  5117.990718  \n",
       "4  (678) 777-1447  4914.941348  "
      ]
     },
     "execution_count": 21,
     "metadata": {},
     "output_type": "execute_result"
    }
   ],
   "source": [
    "## We can convert the a list of dictionaries  to a datafram\n",
    "df = pd.DataFrame(results['businesses'])\n",
    "df.head()"
   ]
  },
  {
   "cell_type": "code",
   "execution_count": 22,
   "metadata": {},
   "outputs": [
    {
     "data": {
      "text/plain": [
       "20"
      ]
     },
     "execution_count": 22,
     "metadata": {},
     "output_type": "execute_result"
    }
   ],
   "source": [
    "## How many did we get the details for?\n",
    "len(df)"
   ]
  },
  {
   "cell_type": "markdown",
   "metadata": {},
   "source": [
    "- Calculate how many pages of results needed to cover the total_results"
   ]
  },
  {
   "cell_type": "code",
   "execution_count": 24,
   "metadata": {},
   "outputs": [
    {
     "data": {
      "text/plain": [
       "24.25"
      ]
     },
     "execution_count": 24,
     "metadata": {},
     "output_type": "execute_result"
    }
   ],
   "source": [
    "# How many pages are needed?\n",
    "n_pages = results['total']/len(df)\n",
    "n_pages"
   ]
  },
  {
   "cell_type": "code",
   "execution_count": 25,
   "metadata": {},
   "outputs": [
    {
     "data": {
      "text/plain": [
       "25"
      ]
     },
     "execution_count": 25,
     "metadata": {},
     "output_type": "execute_result"
    }
   ],
   "source": [
    "# Use math.ceil to round up for the total number of pages of results.\n",
    "n_pages = math.ceil(n_pages)\n",
    "n_pages"
   ]
  },
  {
   "cell_type": "markdown",
   "metadata": {},
   "source": [
    "# Create the JSON FILE, give it a programmatic name\n",
    "# Save our first page of results to the JSON file"
   ]
  },
  {
   "cell_type": "code",
   "execution_count": 26,
   "metadata": {},
   "outputs": [],
   "source": [
    "## Read in results in progress file and check the length\n",
    "with open(JSON_FILE, 'r') as f:\n",
    "    previous_results = json.load(f)"
   ]
  },
  {
   "cell_type": "code",
   "execution_count": 27,
   "metadata": {},
   "outputs": [
    {
     "data": {
      "text/plain": [
       "[]"
      ]
     },
     "execution_count": 27,
     "metadata": {},
     "output_type": "execute_result"
    }
   ],
   "source": [
    "# Preview the contents of the json file (hint, we expect this to be empty at this point)\n",
    "previous_results"
   ]
  },
  {
   "cell_type": "code",
   "execution_count": 28,
   "metadata": {},
   "outputs": [
    {
     "data": {
      "text/plain": [
       "0"
      ]
     },
     "execution_count": 28,
     "metadata": {},
     "output_type": "execute_result"
    }
   ],
   "source": [
    "# Determine how many results are present already (hint, we expect this to be 0 at this point\n",
    "len(previous_results)"
   ]
  },
  {
   "cell_type": "code",
   "execution_count": 29,
   "metadata": {},
   "outputs": [
    {
     "data": {
      "application/vnd.jupyter.widget-view+json": {
       "model_id": "6adb0d4a51ad406ab94a8df10c840756",
       "version_major": 2,
       "version_minor": 0
      },
      "text/plain": [
       "  0%|          | 0/25 [00:00<?, ?it/s]"
      ]
     },
     "metadata": {},
     "output_type": "display_data"
    }
   ],
   "source": [
    "# Make a loop to extract data from each page and save it to the JSON_FILE\n",
    "\n",
    "for i in tqdm_notebook(range(n_pages)): \n",
    "    ## The block of code we want to TRY to run\n",
    "    try:\n",
    "        time.sleep(.2)\n",
    "     \n",
    "       \n",
    "        ## Read in results in progress file and check the length\n",
    "        with open(JSON_FILE, 'r') as f:\n",
    "            previous_results = json.load(f)\n",
    "            \n",
    "        ## save number of results to use as offset for query\n",
    "        n_results = len(previous_results)\n",
    "        \n",
    "        \n",
    "        ## use n_results as the OFFSET \n",
    "        results = yelp_api.search_query(location = location, term = term, offset = n_results)  # Notice we added the offset to our search_query\n",
    "        \n",
    "\n",
    "        ## append new results and save to file  (extend is similar to append, but adds a list to a list)\n",
    "        previous_results.extend(results['businesses'])\n",
    "\n",
    "        with open(JSON_FILE, 'w') as f:\n",
    "            json.dump(previous_results, f)\n",
    "\n",
    "            \n",
    "    ## What to do if we get an error/exception.\n",
    "\n",
    "    except Exception as e:\n",
    "        print(' [!] ERROR', e)"
   ]
  },
  {
   "cell_type": "markdown",
   "metadata": {},
   "source": [
    "## Open the Final JSON File with Pandas"
   ]
  },
  {
   "cell_type": "code",
   "execution_count": 30,
   "metadata": {},
   "outputs": [],
   "source": [
    "# Read the json file in as a df\n",
    "df = pd.read_json(JSON_FILE)"
   ]
  },
  {
   "cell_type": "code",
   "execution_count": 31,
   "metadata": {},
   "outputs": [
    {
     "data": {
      "text/html": [
       "<div>\n",
       "<style scoped>\n",
       "    .dataframe tbody tr th:only-of-type {\n",
       "        vertical-align: middle;\n",
       "    }\n",
       "\n",
       "    .dataframe tbody tr th {\n",
       "        vertical-align: top;\n",
       "    }\n",
       "\n",
       "    .dataframe thead th {\n",
       "        text-align: right;\n",
       "    }\n",
       "</style>\n",
       "<table border=\"1\" class=\"dataframe\">\n",
       "  <thead>\n",
       "    <tr style=\"text-align: right;\">\n",
       "      <th></th>\n",
       "      <th>id</th>\n",
       "      <th>alias</th>\n",
       "      <th>name</th>\n",
       "      <th>image_url</th>\n",
       "      <th>is_closed</th>\n",
       "      <th>url</th>\n",
       "      <th>review_count</th>\n",
       "      <th>categories</th>\n",
       "      <th>rating</th>\n",
       "      <th>coordinates</th>\n",
       "      <th>transactions</th>\n",
       "      <th>price</th>\n",
       "      <th>location</th>\n",
       "      <th>phone</th>\n",
       "      <th>display_phone</th>\n",
       "      <th>distance</th>\n",
       "    </tr>\n",
       "  </thead>\n",
       "  <tbody>\n",
       "    <tr>\n",
       "      <th>0</th>\n",
       "      <td>9HjUwnEL5WIlv7RnnzF7CQ</td>\n",
       "      <td>taqueria-el-vecino-decatur</td>\n",
       "      <td>Taqueria El Vecino</td>\n",
       "      <td>https://s3-media3.fl.yelpcdn.com/bphoto/_QwrEm...</td>\n",
       "      <td>False</td>\n",
       "      <td>https://www.yelp.com/biz/taqueria-el-vecino-de...</td>\n",
       "      <td>272</td>\n",
       "      <td>[{'alias': 'mexican', 'title': 'Mexican'}, {'a...</td>\n",
       "      <td>3.8</td>\n",
       "      <td>{'latitude': 33.8239171, 'longitude': -84.2939...</td>\n",
       "      <td>[delivery, pickup]</td>\n",
       "      <td>$$</td>\n",
       "      <td>{'address1': '2743 Lavista Rd', 'address2': ''...</td>\n",
       "      <td>+14049290301</td>\n",
       "      <td>(404) 929-0301</td>\n",
       "      <td>1361.563323</td>\n",
       "    </tr>\n",
       "    <tr>\n",
       "      <th>1</th>\n",
       "      <td>GfSQJ3Ex7IjomEAav9Mwzw</td>\n",
       "      <td>la-parrilla-mexican-restaurant-atlanta-2</td>\n",
       "      <td>La Parrilla Mexican Restaurant</td>\n",
       "      <td>https://s3-media3.fl.yelpcdn.com/bphoto/xDfJMt...</td>\n",
       "      <td>False</td>\n",
       "      <td>https://www.yelp.com/biz/la-parrilla-mexican-r...</td>\n",
       "      <td>437</td>\n",
       "      <td>[{'alias': 'mexican', 'title': 'Mexican'}]</td>\n",
       "      <td>3.7</td>\n",
       "      <td>{'latitude': 33.8147766440452, 'longitude': -8...</td>\n",
       "      <td>[delivery]</td>\n",
       "      <td>$$</td>\n",
       "      <td>{'address1': '2945 North Druid Hills Rd', 'add...</td>\n",
       "      <td>+16784033831</td>\n",
       "      <td>(678) 403-3831</td>\n",
       "      <td>2198.475924</td>\n",
       "    </tr>\n",
       "    <tr>\n",
       "      <th>2</th>\n",
       "      <td>HKZ0dUt9sUUZVYlzwjX0ig</td>\n",
       "      <td>los-ninos-taqueria-decatur-2</td>\n",
       "      <td>Los Ninos Taqueria</td>\n",
       "      <td>https://s3-media2.fl.yelpcdn.com/bphoto/pphWgJ...</td>\n",
       "      <td>False</td>\n",
       "      <td>https://www.yelp.com/biz/los-ninos-taqueria-de...</td>\n",
       "      <td>75</td>\n",
       "      <td>[{'alias': 'mexican', 'title': 'Mexican'}]</td>\n",
       "      <td>4.5</td>\n",
       "      <td>{'latitude': 33.7709975, 'longitude': -84.2922...</td>\n",
       "      <td>[]</td>\n",
       "      <td>$</td>\n",
       "      <td>{'address1': '307 E College Ave B', 'address2'...</td>\n",
       "      <td></td>\n",
       "      <td></td>\n",
       "      <td>4704.697534</td>\n",
       "    </tr>\n",
       "    <tr>\n",
       "      <th>3</th>\n",
       "      <td>V86AJK3xytBv2C0bwi9_Ow</td>\n",
       "      <td>la-pastorcita-atlanta</td>\n",
       "      <td>La Pastorcita</td>\n",
       "      <td>https://s3-media2.fl.yelpcdn.com/bphoto/QwqXsI...</td>\n",
       "      <td>False</td>\n",
       "      <td>https://www.yelp.com/biz/la-pastorcita-atlanta...</td>\n",
       "      <td>505</td>\n",
       "      <td>[{'alias': 'mexican', 'title': 'Mexican'}]</td>\n",
       "      <td>4.1</td>\n",
       "      <td>{'latitude': 33.84308, 'longitude': -84.32924}</td>\n",
       "      <td>[pickup, delivery]</td>\n",
       "      <td>$</td>\n",
       "      <td>{'address1': '3304 Buford Hwy NE', 'address2':...</td>\n",
       "      <td>+16787058162</td>\n",
       "      <td>(678) 705-8162</td>\n",
       "      <td>5117.990718</td>\n",
       "    </tr>\n",
       "    <tr>\n",
       "      <th>4</th>\n",
       "      <td>QN4FMM1-J4Me5hu-ro85EA</td>\n",
       "      <td>taqueria-la-carreta-atlanta</td>\n",
       "      <td>Taqueria La Carreta</td>\n",
       "      <td>https://s3-media3.fl.yelpcdn.com/bphoto/8sFvhY...</td>\n",
       "      <td>False</td>\n",
       "      <td>https://www.yelp.com/biz/taqueria-la-carreta-a...</td>\n",
       "      <td>60</td>\n",
       "      <td>[{'alias': 'mexican', 'title': 'Mexican'}, {'a...</td>\n",
       "      <td>4.3</td>\n",
       "      <td>{'latitude': 33.8424612046155, 'longitude': -8...</td>\n",
       "      <td>[delivery]</td>\n",
       "      <td>$$</td>\n",
       "      <td>{'address1': '3375 Buford Hwy NE', 'address2':...</td>\n",
       "      <td>+16787771447</td>\n",
       "      <td>(678) 777-1447</td>\n",
       "      <td>4914.941348</td>\n",
       "    </tr>\n",
       "  </tbody>\n",
       "</table>\n",
       "</div>"
      ],
      "text/plain": [
       "                       id                                     alias  \\\n",
       "0  9HjUwnEL5WIlv7RnnzF7CQ                taqueria-el-vecino-decatur   \n",
       "1  GfSQJ3Ex7IjomEAav9Mwzw  la-parrilla-mexican-restaurant-atlanta-2   \n",
       "2  HKZ0dUt9sUUZVYlzwjX0ig              los-ninos-taqueria-decatur-2   \n",
       "3  V86AJK3xytBv2C0bwi9_Ow                     la-pastorcita-atlanta   \n",
       "4  QN4FMM1-J4Me5hu-ro85EA               taqueria-la-carreta-atlanta   \n",
       "\n",
       "                             name  \\\n",
       "0              Taqueria El Vecino   \n",
       "1  La Parrilla Mexican Restaurant   \n",
       "2              Los Ninos Taqueria   \n",
       "3                   La Pastorcita   \n",
       "4             Taqueria La Carreta   \n",
       "\n",
       "                                           image_url  is_closed  \\\n",
       "0  https://s3-media3.fl.yelpcdn.com/bphoto/_QwrEm...      False   \n",
       "1  https://s3-media3.fl.yelpcdn.com/bphoto/xDfJMt...      False   \n",
       "2  https://s3-media2.fl.yelpcdn.com/bphoto/pphWgJ...      False   \n",
       "3  https://s3-media2.fl.yelpcdn.com/bphoto/QwqXsI...      False   \n",
       "4  https://s3-media3.fl.yelpcdn.com/bphoto/8sFvhY...      False   \n",
       "\n",
       "                                                 url  review_count  \\\n",
       "0  https://www.yelp.com/biz/taqueria-el-vecino-de...           272   \n",
       "1  https://www.yelp.com/biz/la-parrilla-mexican-r...           437   \n",
       "2  https://www.yelp.com/biz/los-ninos-taqueria-de...            75   \n",
       "3  https://www.yelp.com/biz/la-pastorcita-atlanta...           505   \n",
       "4  https://www.yelp.com/biz/taqueria-la-carreta-a...            60   \n",
       "\n",
       "                                          categories  rating  \\\n",
       "0  [{'alias': 'mexican', 'title': 'Mexican'}, {'a...     3.8   \n",
       "1         [{'alias': 'mexican', 'title': 'Mexican'}]     3.7   \n",
       "2         [{'alias': 'mexican', 'title': 'Mexican'}]     4.5   \n",
       "3         [{'alias': 'mexican', 'title': 'Mexican'}]     4.1   \n",
       "4  [{'alias': 'mexican', 'title': 'Mexican'}, {'a...     4.3   \n",
       "\n",
       "                                         coordinates        transactions  \\\n",
       "0  {'latitude': 33.8239171, 'longitude': -84.2939...  [delivery, pickup]   \n",
       "1  {'latitude': 33.8147766440452, 'longitude': -8...          [delivery]   \n",
       "2  {'latitude': 33.7709975, 'longitude': -84.2922...                  []   \n",
       "3     {'latitude': 33.84308, 'longitude': -84.32924}  [pickup, delivery]   \n",
       "4  {'latitude': 33.8424612046155, 'longitude': -8...          [delivery]   \n",
       "\n",
       "  price                                           location         phone  \\\n",
       "0    $$  {'address1': '2743 Lavista Rd', 'address2': ''...  +14049290301   \n",
       "1    $$  {'address1': '2945 North Druid Hills Rd', 'add...  +16784033831   \n",
       "2     $  {'address1': '307 E College Ave B', 'address2'...                 \n",
       "3     $  {'address1': '3304 Buford Hwy NE', 'address2':...  +16787058162   \n",
       "4    $$  {'address1': '3375 Buford Hwy NE', 'address2':...  +16787771447   \n",
       "\n",
       "    display_phone     distance  \n",
       "0  (404) 929-0301  1361.563323  \n",
       "1  (678) 403-3831  2198.475924  \n",
       "2                  4704.697534  \n",
       "3  (678) 705-8162  5117.990718  \n",
       "4  (678) 777-1447  4914.941348  "
      ]
     },
     "execution_count": 31,
     "metadata": {},
     "output_type": "execute_result"
    }
   ],
   "source": [
    "df.head()"
   ]
  },
  {
   "cell_type": "code",
   "execution_count": 32,
   "metadata": {},
   "outputs": [
    {
     "name": "stdout",
     "output_type": "stream",
     "text": [
      "<class 'pandas.core.frame.DataFrame'>\n",
      "RangeIndex: 485 entries, 0 to 484\n",
      "Data columns (total 16 columns):\n",
      " #   Column         Non-Null Count  Dtype  \n",
      "---  ------         --------------  -----  \n",
      " 0   id             485 non-null    object \n",
      " 1   alias          485 non-null    object \n",
      " 2   name           485 non-null    object \n",
      " 3   image_url      485 non-null    object \n",
      " 4   is_closed      485 non-null    bool   \n",
      " 5   url            485 non-null    object \n",
      " 6   review_count   485 non-null    int64  \n",
      " 7   categories     485 non-null    object \n",
      " 8   rating         485 non-null    float64\n",
      " 9   coordinates    485 non-null    object \n",
      " 10  transactions   485 non-null    object \n",
      " 11  price          373 non-null    object \n",
      " 12  location       485 non-null    object \n",
      " 13  phone          485 non-null    object \n",
      " 14  display_phone  485 non-null    object \n",
      " 15  distance       485 non-null    float64\n",
      "dtypes: bool(1), float64(2), int64(1), object(12)\n",
      "memory usage: 57.4+ KB\n"
     ]
    }
   ],
   "source": [
    "# Verify the .info \n",
    "df.info()"
   ]
  },
  {
   "cell_type": "code",
   "execution_count": 33,
   "metadata": {},
   "outputs": [
    {
     "data": {
      "text/plain": [
       "'Data/Atlanta-mexican.csv.gz'"
      ]
     },
     "execution_count": 33,
     "metadata": {},
     "output_type": "execute_result"
    }
   ],
   "source": [
    "## convert the filename to a .csv.gz\n",
    "csv_file = JSON_FILE.replace('.json','.csv.gz')\n",
    "csv_file"
   ]
  },
  {
   "cell_type": "code",
   "execution_count": 34,
   "metadata": {},
   "outputs": [],
   "source": [
    "## Save it as a compressed csv (to save space)\n",
    "df.to_csv(csv_file, compression = 'gzip', index = False)"
   ]
  },
  {
   "cell_type": "markdown",
   "metadata": {},
   "source": [
    "## Bonus: compare filesize with os module's `os.path.getsize`"
   ]
  },
  {
   "cell_type": "code",
   "execution_count": 35,
   "metadata": {},
   "outputs": [
    {
     "name": "stdout",
     "output_type": "stream",
     "text": [
      "JSON FILE: 474,685 Bytes\n",
      "CSV.GZ FILE: 70,455 Bytes\n",
      "the csv.gz is 6.737421048896459 times smaller!\n"
     ]
    }
   ],
   "source": [
    "size_json = os.path.getsize(JSON_FILE)\n",
    "size_csv_gz = os.path.getsize(JSON_FILE.replace('.json','.csv.gz'))\n",
    "\n",
    "print(f'JSON FILE: {size_json:,} Bytes')\n",
    "print(f'CSV.GZ FILE: {size_csv_gz:,} Bytes')\n",
    "\n",
    "print(f'the csv.gz is {size_json/size_csv_gz} times smaller!')"
   ]
  },
  {
   "cell_type": "markdown",
   "metadata": {},
   "source": [
    "## Next Class: Processing the Results and Mapping "
   ]
  }
 ],
 "metadata": {
  "colab": {
   "collapsed_sections": [],
   "name": "Test Yelp API Package.ipynb",
   "provenance": []
  },
  "kernelspec": {
   "display_name": "Python (dojo-env)",
   "language": "python",
   "name": "dojo-env"
  },
  "language_info": {
   "codemirror_mode": {
    "name": "ipython",
    "version": 3
   },
   "file_extension": ".py",
   "mimetype": "text/x-python",
   "name": "python",
   "nbconvert_exporter": "python",
   "pygments_lexer": "ipython3",
   "version": "3.10.10"
  },
  "toc": {
   "base_numbering": 1,
   "nav_menu": {},
   "number_sections": false,
   "sideBar": true,
   "skip_h1_title": false,
   "title_cell": "Table of Contents",
   "title_sidebar": "Contents",
   "toc_cell": false,
   "toc_position": {
    "height": "calc(100% - 180px)",
    "left": "10px",
    "top": "150px",
    "width": "261.818px"
   },
   "toc_section_display": true,
   "toc_window_display": true
  },
  "widgets": {
   "application/vnd.jupyter.widget-state+json": {
    "state": {
     "00fe1553b7224c6fada147771dfa47e4": {
      "model_module": "@jupyter-widgets/base",
      "model_module_version": "2.0.0",
      "model_name": "LayoutModel",
      "state": {}
     },
     "54cc891445c4478392b51ad053b1bc3f": {
      "model_module": "@jupyter-widgets/base",
      "model_module_version": "2.0.0",
      "model_name": "LayoutModel",
      "state": {}
     },
     "6adb0d4a51ad406ab94a8df10c840756": {
      "model_module": "@jupyter-widgets/controls",
      "model_module_version": "2.0.0",
      "model_name": "HBoxModel",
      "state": {
       "children": [
        "IPY_MODEL_ef994734cd3f41b4818190e4933b5718",
        "IPY_MODEL_b04326da9aa644a6a6e7ba37e3319459",
        "IPY_MODEL_fa99b8fba9d6452795ba6575a7dcec80"
       ],
       "layout": "IPY_MODEL_54cc891445c4478392b51ad053b1bc3f"
      }
     },
     "79e2cf6d7baf4b729595dce9ff581bcd": {
      "model_module": "@jupyter-widgets/controls",
      "model_module_version": "2.0.0",
      "model_name": "HTMLStyleModel",
      "state": {
       "description_width": "",
       "font_size": null,
       "text_color": null
      }
     },
     "93c21a3268c04530aa81f6b3b3df3422": {
      "model_module": "@jupyter-widgets/controls",
      "model_module_version": "2.0.0",
      "model_name": "HTMLStyleModel",
      "state": {
       "description_width": "",
       "font_size": null,
       "text_color": null
      }
     },
     "a65d814b2b0247089124778cb62d9d5a": {
      "model_module": "@jupyter-widgets/base",
      "model_module_version": "2.0.0",
      "model_name": "LayoutModel",
      "state": {}
     },
     "afff855f075e43729e153d9256332363": {
      "model_module": "@jupyter-widgets/base",
      "model_module_version": "2.0.0",
      "model_name": "LayoutModel",
      "state": {}
     },
     "b04326da9aa644a6a6e7ba37e3319459": {
      "model_module": "@jupyter-widgets/controls",
      "model_module_version": "2.0.0",
      "model_name": "FloatProgressModel",
      "state": {
       "bar_style": "success",
       "layout": "IPY_MODEL_a65d814b2b0247089124778cb62d9d5a",
       "max": 25,
       "style": "IPY_MODEL_ef28b7b06a6f4bdc81be6141d0fa0b2a",
       "value": 25
      }
     },
     "ef28b7b06a6f4bdc81be6141d0fa0b2a": {
      "model_module": "@jupyter-widgets/controls",
      "model_module_version": "2.0.0",
      "model_name": "ProgressStyleModel",
      "state": {
       "description_width": ""
      }
     },
     "ef994734cd3f41b4818190e4933b5718": {
      "model_module": "@jupyter-widgets/controls",
      "model_module_version": "2.0.0",
      "model_name": "HTMLModel",
      "state": {
       "layout": "IPY_MODEL_afff855f075e43729e153d9256332363",
       "style": "IPY_MODEL_79e2cf6d7baf4b729595dce9ff581bcd",
       "value": "100%"
      }
     },
     "fa99b8fba9d6452795ba6575a7dcec80": {
      "model_module": "@jupyter-widgets/controls",
      "model_module_version": "2.0.0",
      "model_name": "HTMLModel",
      "state": {
       "layout": "IPY_MODEL_00fe1553b7224c6fada147771dfa47e4",
       "style": "IPY_MODEL_93c21a3268c04530aa81f6b3b3df3422",
       "value": " 25/25 [00:22&lt;00:00,  1.11s/it]"
      }
     }
    },
    "version_major": 2,
    "version_minor": 0
   }
  }
 },
 "nbformat": 4,
 "nbformat_minor": 4
}
