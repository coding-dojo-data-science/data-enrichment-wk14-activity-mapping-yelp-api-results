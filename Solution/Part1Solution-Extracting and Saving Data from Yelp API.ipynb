{
 "cells": [
  {
   "cell_type": "markdown",
   "metadata": {
    "id": "8guYh-VR7nlX"
   },
   "source": [
    "# Part 1 - Extracting and Saving Data from Yelp API"
   ]
  },
  {
   "cell_type": "markdown",
   "metadata": {},
   "source": [
    "## Obejctive"
   ]
  },
  {
   "cell_type": "markdown",
   "metadata": {
    "id": "8guYh-VR7nlX"
   },
   "source": [
    "- For this CodeAlong, we will be working with the Yelp API. \n",
    "- You will use the the Yelp API to search your home town for a cuisine type of your choice.\n",
    "- Next class, we will then use Plotly Express to create a map with the Mapbox API to visualize the results.\n",
    "    \n",
    "    "
   ]
  },
  {
   "cell_type": "markdown",
   "metadata": {
    "id": "8guYh-VR7nlX"
   },
   "source": [
    "## Tools You Will Use\n",
    "- Part 1:\n",
    "    - Yelp API:\n",
    "        - Getting Started: \n",
    "            - https://www.yelp.com/developers/documentation/v3/get_started\n",
    "\n",
    "    - `YelpAPI` python package\n",
    "        -  \"YelpAPI\": https://github.com/gfairchild/yelpapi\n",
    "- Part 2:\n",
    "\n",
    "    - Plotly Express: https://plotly.com/python/getting-started/\n",
    "        - With Mapbox API: https://www.mapbox.com/\n",
    "        - `px.scatter_mapbox` [Documentation](https://plotly.com/python/scattermapbox/): \n",
    "\n",
    "\n"
   ]
  },
  {
   "cell_type": "markdown",
   "metadata": {},
   "source": [
    "### Applying Code From\n",
    "- Efficient API Calls Lesson Link: https://login.codingdojo.com/m/376/12529/88078"
   ]
  },
  {
   "cell_type": "code",
   "execution_count": 1,
   "metadata": {},
   "outputs": [],
   "source": [
    "# Standard Imports\n",
    "import numpy as np\n",
    "import pandas as pd\n",
    "import matplotlib.pyplot as plt\n",
    "import seaborn as sns\n",
    "\n",
    "# Additional Imports\n",
    "# os - for saving and loading files\n",
    "# json - to work with json files\n",
    "# math - to round up results\n",
    "# time - to add a short pause to not overwhelm the server\n",
    "import os, json, math, time\n",
    "\n",
    "# to make yelpapi calls\n",
    "from yelpapi import YelpAPI\n",
    "\n",
    "# progress bar from tqdm_notebook\n",
    "from tqdm.notebook import tqdm_notebook"
   ]
  },
  {
   "cell_type": "code",
   "execution_count": 2,
   "metadata": {},
   "outputs": [
    {
     "name": "stdout",
     "output_type": "stream",
     "text": [
      "Requirement already satisfied: yelpapi in /usr/local/Caskroom/miniforge/base/envs/dojo-env/lib/python3.10/site-packages (2.5.0)\n",
      "Requirement already satisfied: requests in /usr/local/Caskroom/miniforge/base/envs/dojo-env/lib/python3.10/site-packages (from yelpapi) (2.29.0)\n",
      "Requirement already satisfied: charset-normalizer<4,>=2 in /usr/local/Caskroom/miniforge/base/envs/dojo-env/lib/python3.10/site-packages (from requests->yelpapi) (2.0.4)\n",
      "Requirement already satisfied: certifi>=2017.4.17 in /usr/local/Caskroom/miniforge/base/envs/dojo-env/lib/python3.10/site-packages (from requests->yelpapi) (2023.5.7)\n",
      "Requirement already satisfied: urllib3<1.27,>=1.21.1 in /usr/local/Caskroom/miniforge/base/envs/dojo-env/lib/python3.10/site-packages (from requests->yelpapi) (1.26.15)\n",
      "Requirement already satisfied: idna<4,>=2.5 in /usr/local/Caskroom/miniforge/base/envs/dojo-env/lib/python3.10/site-packages (from requests->yelpapi) (3.4)\n",
      "Requirement already satisfied: tqdm in /usr/local/Caskroom/miniforge/base/envs/dojo-env/lib/python3.10/site-packages (4.65.0)\n"
     ]
    }
   ],
   "source": [
    "!pip install yelpapi\n",
    "!pip install tqdm"
   ]
  },
  {
   "cell_type": "markdown",
   "metadata": {
    "id": "1l3Z-79nBSX9"
   },
   "source": [
    "## 1. Registering for Required APIs"
   ]
  },
  {
   "cell_type": "markdown",
   "metadata": {
    "id": "1l3Z-79nBSX9"
   },
   "source": [
    "\n",
    "- Yelp: https://www.yelp.com/developers/documentation/v3/get_started\n"
   ]
  },
  {
   "cell_type": "markdown",
   "metadata": {},
   "source": [
    "> Check the official API documentation to know what arguments we can search for: https://www.yelp.com/developers/documentation/v3/business_search"
   ]
  },
  {
   "cell_type": "markdown",
   "metadata": {},
   "source": [
    "### Load Credentials and Create Yelp API Object"
   ]
  },
  {
   "cell_type": "code",
   "execution_count": 3,
   "metadata": {
    "ExecuteTime": {
     "end_time": "2022-03-25T18:20:46.629934Z",
     "start_time": "2022-03-25T18:20:45.915864Z"
    },
    "colab": {
     "base_uri": "https://localhost:8080/"
    },
    "id": "xJYqVvNkE36a",
    "outputId": "67798160-dea2-41fc-9040-2b3833efa560"
   },
   "outputs": [],
   "source": [
    "# Load API Credentials\n",
    "with open('/Users/sherlin01/.secret/yelp_api.json', 'r') as f:\n",
    "    login = json.load(f)"
   ]
  },
  {
   "cell_type": "code",
   "execution_count": 4,
   "metadata": {},
   "outputs": [
    {
     "data": {
      "text/plain": [
       "dict_keys(['Client-ID', 'API Key'])"
      ]
     },
     "execution_count": 4,
     "metadata": {},
     "output_type": "execute_result"
    }
   ],
   "source": [
    "login.keys()"
   ]
  },
  {
   "cell_type": "code",
   "execution_count": 5,
   "metadata": {},
   "outputs": [],
   "source": [
    "#login.items()\n",
    "#login['API Key']"
   ]
  },
  {
   "cell_type": "code",
   "execution_count": 6,
   "metadata": {},
   "outputs": [],
   "source": [
    "# Instantiate YelpAPI Variable\n",
    "yelp = YelpAPI(login['API Key'], timeout_s = 5.0)"
   ]
  },
  {
   "cell_type": "markdown",
   "metadata": {},
   "source": [
    "### Define Search Terms and File Paths"
   ]
  },
  {
   "cell_type": "code",
   "execution_count": 7,
   "metadata": {},
   "outputs": [],
   "source": [
    "# set our API call parameters and filename before the first call\n",
    "location = 'Fresno, TX 77545'\n",
    "term = 'barbecue'"
   ]
  },
  {
   "cell_type": "code",
   "execution_count": 8,
   "metadata": {},
   "outputs": [
    {
     "data": {
      "text/plain": [
       "'Fresno'"
      ]
     },
     "execution_count": 8,
     "metadata": {},
     "output_type": "execute_result"
    }
   ],
   "source": [
    "location.split(',')[0]"
   ]
  },
  {
   "cell_type": "code",
   "execution_count": 9,
   "metadata": {},
   "outputs": [],
   "source": [
    "## Specify folder for saving data\n",
    "FOLDER = 'Data/'\n",
    "\n",
    "os.makedirs(FOLDER, exist_ok = True)\n",
    "# Specifying JSON_FILE filename (can include a folder)\n",
    "JSON_FILE = FOLDER+f\"{location.split(',')[0]}-{term}.json\""
   ]
  },
  {
   "cell_type": "code",
   "execution_count": 10,
   "metadata": {},
   "outputs": [
    {
     "data": {
      "text/plain": [
       "'Data/Fresno-barbecue.json'"
      ]
     },
     "execution_count": 10,
     "metadata": {},
     "output_type": "execute_result"
    }
   ],
   "source": [
    "JSON_FILE"
   ]
  },
  {
   "cell_type": "markdown",
   "metadata": {},
   "source": [
    "### Check if Json File exists and Create it if it doesn't"
   ]
  },
  {
   "cell_type": "code",
   "execution_count": 11,
   "metadata": {},
   "outputs": [
    {
     "name": "stdout",
     "output_type": "stream",
     "text": [
      "[i] Data/Fresno-barbecue.json not found. Saving empty list to file.\n"
     ]
    }
   ],
   "source": [
    "## Check if JSON_FILE exists\n",
    "file_exists = os.path.isfile(JSON_FILE)\n",
    "\n",
    "## If it does not exist: \n",
    "if file_exists == False:    \n",
    "    ## CREATE ANY NEEDED FOLDERS\n",
    "    # Get the Folder Name only\n",
    "    folder = os.path.dirname(JSON_FILE)\n",
    "    \n",
    "    ## If JSON folder name is not empty:\n",
    "    if len(folder)>0:\n",
    "        # create the folder\n",
    "        os.makedirs(folder, exist_ok = True)\n",
    "        \n",
    "        \n",
    "    ## INFORM USER AND SAVE EMPTY LIST\n",
    "    print(f\"[i] {JSON_FILE} not found. Saving empty list to file.\")\n",
    "\n",
    "    \n",
    "    ## save the first page of results\n",
    "    with open(JSON_FILE, 'w') as f:\n",
    "          json.dump([], f)\n",
    "        \n",
    "## If it exists, inform user\n",
    "else:\n",
    "    print(f\"[i] {JSON_FILE} already exists.\")"
   ]
  },
  {
   "cell_type": "code",
   "execution_count": 12,
   "metadata": {},
   "outputs": [
    {
     "data": {
      "text/plain": [
       "True"
      ]
     },
     "execution_count": 12,
     "metadata": {},
     "output_type": "execute_result"
    }
   ],
   "source": [
    "os.path.isfile(JSON_FILE)"
   ]
  },
  {
   "cell_type": "markdown",
   "metadata": {},
   "source": [
    "### Load JSON FIle and account for previous results"
   ]
  },
  {
   "cell_type": "markdown",
   "metadata": {},
   "source": [
    "### Make the first API call to get the first page of data"
   ]
  },
  {
   "cell_type": "markdown",
   "metadata": {},
   "source": [
    "- We will use this first result to check:\n",
    "    - how many total results there are?\n",
    "    - Where is the actual data we want to save?\n",
    "    - how many results do we get at a time?\n"
   ]
  },
  {
   "cell_type": "code",
   "execution_count": 13,
   "metadata": {},
   "outputs": [],
   "source": [
    "# use our yelp_api variable's search_query method to perform our API call\n",
    "results = yelp.search_query(term = term, location = location)"
   ]
  },
  {
   "cell_type": "code",
   "execution_count": 14,
   "metadata": {},
   "outputs": [
    {
     "data": {
      "text/plain": [
       "dict"
      ]
     },
     "execution_count": 14,
     "metadata": {},
     "output_type": "execute_result"
    }
   ],
   "source": [
    "type(results)"
   ]
  },
  {
   "cell_type": "code",
   "execution_count": 15,
   "metadata": {},
   "outputs": [
    {
     "data": {
      "text/plain": [
       "3"
      ]
     },
     "execution_count": 15,
     "metadata": {},
     "output_type": "execute_result"
    }
   ],
   "source": [
    "len(results)"
   ]
  },
  {
   "cell_type": "code",
   "execution_count": 16,
   "metadata": {},
   "outputs": [
    {
     "data": {
      "text/plain": [
       "dict_keys(['businesses', 'total', 'region'])"
      ]
     },
     "execution_count": 16,
     "metadata": {},
     "output_type": "execute_result"
    }
   ],
   "source": [
    "results.keys()"
   ]
  },
  {
   "cell_type": "code",
   "execution_count": 17,
   "metadata": {},
   "outputs": [
    {
     "data": {
      "text/plain": [
       "190"
      ]
     },
     "execution_count": 17,
     "metadata": {},
     "output_type": "execute_result"
    }
   ],
   "source": [
    "results['total']"
   ]
  },
  {
   "cell_type": "code",
   "execution_count": 18,
   "metadata": {},
   "outputs": [
    {
     "data": {
      "text/plain": [
       "{'center': {'longitude': -95.46981811523438, 'latitude': 29.537609279094596}}"
      ]
     },
     "execution_count": 18,
     "metadata": {},
     "output_type": "execute_result"
    }
   ],
   "source": [
    "results['region']"
   ]
  },
  {
   "cell_type": "code",
   "execution_count": 19,
   "metadata": {},
   "outputs": [
    {
     "data": {
      "text/plain": [
       "[{'id': 'chuj4i5TRnFdFS0z_vAU9w',\n",
       "  'alias': 'boutte-s-bbq-fresno-2',\n",
       "  'name': 'Boutte’s BBQ',\n",
       "  'image_url': 'https://s3-media2.fl.yelpcdn.com/bphoto/YjCrPAy8z1K_YiUs3CZ8sw/o.jpg',\n",
       "  'is_closed': False,\n",
       "  'url': 'https://www.yelp.com/biz/boutte-s-bbq-fresno-2?adjust_creative=rZiFgfUX1eajVOVygdFykg&utm_campaign=yelp_api_v3&utm_medium=api_v3_business_search&utm_source=rZiFgfUX1eajVOVygdFykg',\n",
       "  'review_count': 9,\n",
       "  'categories': [{'alias': 'foodtrucks', 'title': 'Food Trucks'},\n",
       "   {'alias': 'bbq', 'title': 'Barbeque'}],\n",
       "  'rating': 5.0,\n",
       "  'coordinates': {'latitude': 29.53606, 'longitude': -95.47645},\n",
       "  'transactions': [],\n",
       "  'location': {'address1': '1514 Trammel Fresno Rd',\n",
       "   'address2': None,\n",
       "   'address3': '',\n",
       "   'city': 'Fresno',\n",
       "   'zip_code': '77545',\n",
       "   'country': 'US',\n",
       "   'state': 'TX',\n",
       "   'display_address': ['1514 Trammel Fresno Rd', 'Fresno, TX 77545']},\n",
       "  'phone': '+17134692669',\n",
       "  'display_phone': '(713) 469-2669',\n",
       "  'distance': 660.1141558818418},\n",
       " {'id': 'CJcm3JmMQhDUF0wclPu2AQ',\n",
       "  'alias': 'slow-smoked-meats-missouri-city',\n",
       "  'name': 'Slow Smoked Meats',\n",
       "  'image_url': 'https://s3-media2.fl.yelpcdn.com/bphoto/-VzlgjFpSvtnATnqG6mb4A/o.jpg',\n",
       "  'is_closed': False,\n",
       "  'url': 'https://www.yelp.com/biz/slow-smoked-meats-missouri-city?adjust_creative=rZiFgfUX1eajVOVygdFykg&utm_campaign=yelp_api_v3&utm_medium=api_v3_business_search&utm_source=rZiFgfUX1eajVOVygdFykg',\n",
       "  'review_count': 1,\n",
       "  'categories': [{'alias': 'catering', 'title': 'Caterers'},\n",
       "   {'alias': 'bbq', 'title': 'Barbeque'}],\n",
       "  'rating': 5.0,\n",
       "  'coordinates': {'latitude': 29.60216, 'longitude': -95.50744},\n",
       "  'transactions': [],\n",
       "  'location': {'address1': None,\n",
       "   'address2': None,\n",
       "   'address3': '',\n",
       "   'city': 'Missouri City',\n",
       "   'zip_code': '77489',\n",
       "   'country': 'US',\n",
       "   'state': 'TX',\n",
       "   'display_address': ['Missouri City, TX 77489']},\n",
       "  'phone': '+13463101372',\n",
       "  'display_phone': '(346) 310-1372',\n",
       "  'distance': 7320.022095879072},\n",
       " {'id': '2Gun8_aVi3zpEj12VFf6YA',\n",
       "  'alias': 'papa-nick-s-fresno',\n",
       "  'name': 'Papa Nick’s',\n",
       "  'image_url': '',\n",
       "  'is_closed': False,\n",
       "  'url': 'https://www.yelp.com/biz/papa-nick-s-fresno?adjust_creative=rZiFgfUX1eajVOVygdFykg&utm_campaign=yelp_api_v3&utm_medium=api_v3_business_search&utm_source=rZiFgfUX1eajVOVygdFykg',\n",
       "  'review_count': 1,\n",
       "  'categories': [{'alias': 'bbq', 'title': 'Barbeque'},\n",
       "   {'alias': 'salad', 'title': 'Salad'}],\n",
       "  'rating': 5.0,\n",
       "  'coordinates': {'latitude': 29.53606, 'longitude': -95.47645},\n",
       "  'transactions': [],\n",
       "  'location': {'address1': '1514 B Trammel',\n",
       "   'address2': '',\n",
       "   'address3': None,\n",
       "   'city': 'Fresno',\n",
       "   'zip_code': '77545',\n",
       "   'country': 'US',\n",
       "   'state': 'TX',\n",
       "   'display_address': ['1514 B Trammel', 'Fresno, TX 77545']},\n",
       "  'phone': '+18329160227',\n",
       "  'display_phone': '(832) 916-0227',\n",
       "  'distance': 660.3751000390654},\n",
       " {'id': 'HC_v0TxyQyvHt595crwQZw',\n",
       "  'alias': 'the-greatest-bbq-missouri-city',\n",
       "  'name': 'The Greatest BBQ',\n",
       "  'image_url': 'https://s3-media3.fl.yelpcdn.com/bphoto/5Af1lHAjYs42eGpdKfRuOg/o.jpg',\n",
       "  'is_closed': False,\n",
       "  'url': 'https://www.yelp.com/biz/the-greatest-bbq-missouri-city?adjust_creative=rZiFgfUX1eajVOVygdFykg&utm_campaign=yelp_api_v3&utm_medium=api_v3_business_search&utm_source=rZiFgfUX1eajVOVygdFykg',\n",
       "  'review_count': 17,\n",
       "  'categories': [{'alias': 'bbq', 'title': 'Barbeque'}],\n",
       "  'rating': 4.0,\n",
       "  'coordinates': {'latitude': 29.5943214, 'longitude': -95.5268349},\n",
       "  'transactions': ['pickup', 'delivery'],\n",
       "  'location': {'address1': '2304-2428 Texas Pkwy',\n",
       "   'address2': '',\n",
       "   'address3': None,\n",
       "   'city': 'Missouri City',\n",
       "   'zip_code': '77489',\n",
       "   'country': 'US',\n",
       "   'state': 'TX',\n",
       "   'display_address': ['2304-2428 Texas Pkwy', 'Missouri City, TX 77489']},\n",
       "  'phone': '+12812612264',\n",
       "  'display_phone': '(281) 261-2264',\n",
       "  'distance': 8376.697776622754},\n",
       " {'id': '4-TxcY8ZgNquIqMWuWFrCg',\n",
       "  'alias': 'seven-seeds-texas-barbecue-rosharon-2',\n",
       "  'name': 'Seven Seeds Texas Barbecue',\n",
       "  'image_url': 'https://s3-media1.fl.yelpcdn.com/bphoto/9odk3xPpz-dxfC1MJB6k_Q/o.jpg',\n",
       "  'is_closed': False,\n",
       "  'url': 'https://www.yelp.com/biz/seven-seeds-texas-barbecue-rosharon-2?adjust_creative=rZiFgfUX1eajVOVygdFykg&utm_campaign=yelp_api_v3&utm_medium=api_v3_business_search&utm_source=rZiFgfUX1eajVOVygdFykg',\n",
       "  'review_count': 22,\n",
       "  'categories': [{'alias': 'bbq', 'title': 'Barbeque'},\n",
       "   {'alias': 'foodtrucks', 'title': 'Food Trucks'}],\n",
       "  'rating': 4.0,\n",
       "  'coordinates': {'latitude': 29.5429847, 'longitude': -95.4174946},\n",
       "  'transactions': ['pickup', 'delivery'],\n",
       "  'location': {'address1': '3040 Cr 48',\n",
       "   'address2': '',\n",
       "   'address3': None,\n",
       "   'city': 'Rosharon',\n",
       "   'zip_code': '77583',\n",
       "   'country': 'US',\n",
       "   'state': 'TX',\n",
       "   'display_address': ['3040 Cr 48', 'Rosharon, TX 77583']},\n",
       "  'phone': '+12816150496',\n",
       "  'display_phone': '(281) 615-0496',\n",
       "  'distance': 5096.971198799551},\n",
       " {'id': 'jx7VXB5oUE1RnSKs4zFUHw',\n",
       "  'alias': 'big-horn-bbq-pearland',\n",
       "  'name': 'Big Horn BBQ',\n",
       "  'image_url': 'https://s3-media3.fl.yelpcdn.com/bphoto/SAvHCd1z4hiZkq5RrjoXFQ/o.jpg',\n",
       "  'is_closed': False,\n",
       "  'url': 'https://www.yelp.com/biz/big-horn-bbq-pearland?adjust_creative=rZiFgfUX1eajVOVygdFykg&utm_campaign=yelp_api_v3&utm_medium=api_v3_business_search&utm_source=rZiFgfUX1eajVOVygdFykg',\n",
       "  'review_count': 337,\n",
       "  'categories': [{'alias': 'bbq', 'title': 'Barbeque'},\n",
       "   {'alias': 'breakfast_brunch', 'title': 'Breakfast & Brunch'},\n",
       "   {'alias': 'burgers', 'title': 'Burgers'}],\n",
       "  'rating': 3.0,\n",
       "  'coordinates': {'latitude': 29.5692407905726,\n",
       "   'longitude': -95.3854281600273},\n",
       "  'transactions': ['delivery'],\n",
       "  'price': '$$',\n",
       "  'location': {'address1': '2300 Smith Ranch Rd',\n",
       "   'address2': '',\n",
       "   'address3': '',\n",
       "   'city': 'Pearland',\n",
       "   'zip_code': '77584',\n",
       "   'country': 'US',\n",
       "   'state': 'TX',\n",
       "   'display_address': ['2300 Smith Ranch Rd', 'Pearland, TX 77584']},\n",
       "  'phone': '+12817413289',\n",
       "  'display_phone': '(281) 741-3289',\n",
       "  'distance': 8888.390692177121},\n",
       " {'id': 'uHF2wLqsesoVqh0lyHXUBw',\n",
       "  'alias': 'texas-biergarten-missouri-city',\n",
       "  'name': 'Texas Biergarten',\n",
       "  'image_url': 'https://s3-media4.fl.yelpcdn.com/bphoto/Fgy60WHuqwLBc4bHbdeOdA/o.jpg',\n",
       "  'is_closed': False,\n",
       "  'url': 'https://www.yelp.com/biz/texas-biergarten-missouri-city?adjust_creative=rZiFgfUX1eajVOVygdFykg&utm_campaign=yelp_api_v3&utm_medium=api_v3_business_search&utm_source=rZiFgfUX1eajVOVygdFykg',\n",
       "  'review_count': 287,\n",
       "  'categories': [{'alias': 'german', 'title': 'German'},\n",
       "   {'alias': 'gastropubs', 'title': 'Gastropubs'}],\n",
       "  'rating': 4.5,\n",
       "  'coordinates': {'latitude': 29.562035, 'longitude': -95.562823},\n",
       "  'transactions': ['delivery'],\n",
       "  'price': '$$',\n",
       "  'location': {'address1': '6302 Hwy 6',\n",
       "   'address2': 'Ste Q',\n",
       "   'address3': None,\n",
       "   'city': 'Missouri City',\n",
       "   'zip_code': '77459',\n",
       "   'country': 'US',\n",
       "   'state': 'TX',\n",
       "   'display_address': ['6302 Hwy 6', 'Ste Q', 'Missouri City, TX 77459']},\n",
       "  'phone': '+12817780030',\n",
       "  'display_phone': '(281) 778-0030',\n",
       "  'distance': 9400.384008423416},\n",
       " {'id': 'ihHp3_rxOrx-HTp1kg7z0w',\n",
       "  'alias': 'remos-cafe-houston',\n",
       "  'name': \"ReMo's Cafe\",\n",
       "  'image_url': 'https://s3-media1.fl.yelpcdn.com/bphoto/Xf31syNJszfoEcL-zHaBEg/o.jpg',\n",
       "  'is_closed': False,\n",
       "  'url': 'https://www.yelp.com/biz/remos-cafe-houston?adjust_creative=rZiFgfUX1eajVOVygdFykg&utm_campaign=yelp_api_v3&utm_medium=api_v3_business_search&utm_source=rZiFgfUX1eajVOVygdFykg',\n",
       "  'review_count': 81,\n",
       "  'categories': [{'alias': 'bbq', 'title': 'Barbeque'},\n",
       "   {'alias': 'soulfood', 'title': 'Soul Food'},\n",
       "   {'alias': 'seafood', 'title': 'Seafood'}],\n",
       "  'rating': 4.5,\n",
       "  'coordinates': {'latitude': 29.621766, 'longitude': -95.508692},\n",
       "  'transactions': ['pickup', 'delivery'],\n",
       "  'location': {'address1': '8420 S Sam Houston Pkwy W',\n",
       "   'address2': 'Ste 260',\n",
       "   'address3': '',\n",
       "   'city': 'Houston',\n",
       "   'zip_code': '77085',\n",
       "   'country': 'US',\n",
       "   'state': 'TX',\n",
       "   'display_address': ['8420 S Sam Houston Pkwy W',\n",
       "    'Ste 260',\n",
       "    'Houston, TX 77085']},\n",
       "  'phone': '+18326995800',\n",
       "  'display_phone': '(832) 699-5800',\n",
       "  'distance': 10082.899510905045},\n",
       " {'id': '3G9HjbFXeQCGba7nGUPqoA',\n",
       "  'alias': 'skeets-barbeque-pearland',\n",
       "  'name': 'Skeets Barbeque',\n",
       "  'image_url': 'https://s3-media3.fl.yelpcdn.com/bphoto/bw23HhXbhrrOTVxLeGkJ2w/o.jpg',\n",
       "  'is_closed': False,\n",
       "  'url': 'https://www.yelp.com/biz/skeets-barbeque-pearland?adjust_creative=rZiFgfUX1eajVOVygdFykg&utm_campaign=yelp_api_v3&utm_medium=api_v3_business_search&utm_source=rZiFgfUX1eajVOVygdFykg',\n",
       "  'review_count': 132,\n",
       "  'categories': [{'alias': 'bbq', 'title': 'Barbeque'},\n",
       "   {'alias': 'bars', 'title': 'Bars'}],\n",
       "  'rating': 3.0,\n",
       "  'coordinates': {'latitude': 29.55443126406246,\n",
       "   'longitude': -95.37821464261722},\n",
       "  'transactions': ['delivery'],\n",
       "  'price': '$$',\n",
       "  'location': {'address1': '10228 Broadway St',\n",
       "   'address2': 'Ste 144',\n",
       "   'address3': '',\n",
       "   'city': 'Pearland',\n",
       "   'zip_code': '77584',\n",
       "   'country': 'US',\n",
       "   'state': 'TX',\n",
       "   'display_address': ['10228 Broadway St', 'Ste 144', 'Pearland, TX 77584']},\n",
       "  'phone': '+17134360012',\n",
       "  'display_phone': '(713) 436-0012',\n",
       "  'distance': 9056.534921550476},\n",
       " {'id': 'B7bMg6BKYCRYi8Juftc51w',\n",
       "  'alias': 'true-texas-bbq-manvel',\n",
       "  'name': 'True Texas BBQ',\n",
       "  'image_url': 'https://s3-media2.fl.yelpcdn.com/bphoto/-RwIp15wdr-KTK6ksZAtaA/o.jpg',\n",
       "  'is_closed': False,\n",
       "  'url': 'https://www.yelp.com/biz/true-texas-bbq-manvel?adjust_creative=rZiFgfUX1eajVOVygdFykg&utm_campaign=yelp_api_v3&utm_medium=api_v3_business_search&utm_source=rZiFgfUX1eajVOVygdFykg',\n",
       "  'review_count': 1,\n",
       "  'categories': [{'alias': 'bbq', 'title': 'Barbeque'}],\n",
       "  'rating': 4.0,\n",
       "  'coordinates': {'latitude': 29.48745906879815, 'longitude': -95.4051504},\n",
       "  'transactions': [],\n",
       "  'location': {'address1': '17119 Hwy 6',\n",
       "   'address2': None,\n",
       "   'address3': None,\n",
       "   'city': 'Manvel',\n",
       "   'zip_code': '77578',\n",
       "   'country': 'US',\n",
       "   'state': 'TX',\n",
       "   'display_address': ['17119 Hwy 6', 'Manvel, TX 77578']},\n",
       "  'phone': '+12813053623',\n",
       "  'display_phone': '(281) 305-3623',\n",
       "  'distance': 8381.85943862212},\n",
       " {'id': 'tf-LwW5wcyCEGw4mIWEhrw',\n",
       "  'alias': 'boogies-chicago-style-bbq-missouri-city-2',\n",
       "  'name': \"Boogie's Chicago Style BBQ\",\n",
       "  'image_url': 'https://s3-media3.fl.yelpcdn.com/bphoto/J-Yg6HnrJ8JJvbVDzS2xgQ/o.jpg',\n",
       "  'is_closed': False,\n",
       "  'url': 'https://www.yelp.com/biz/boogies-chicago-style-bbq-missouri-city-2?adjust_creative=rZiFgfUX1eajVOVygdFykg&utm_campaign=yelp_api_v3&utm_medium=api_v3_business_search&utm_source=rZiFgfUX1eajVOVygdFykg',\n",
       "  'review_count': 139,\n",
       "  'categories': [{'alias': 'bbq', 'title': 'Barbeque'},\n",
       "   {'alias': 'burgers', 'title': 'Burgers'},\n",
       "   {'alias': 'foodtrucks', 'title': 'Food Trucks'}],\n",
       "  'rating': 3.5,\n",
       "  'coordinates': {'latitude': 29.600604, 'longitude': -95.5259907},\n",
       "  'transactions': ['pickup', 'delivery'],\n",
       "  'price': '$',\n",
       "  'location': {'address1': '1767 Texas Pkwy',\n",
       "   'address2': None,\n",
       "   'address3': None,\n",
       "   'city': 'Missouri City',\n",
       "   'zip_code': '77489',\n",
       "   'country': 'US',\n",
       "   'state': 'TX',\n",
       "   'display_address': ['1767 Texas Pkwy', 'Missouri City, TX 77489']},\n",
       "  'phone': '+12819698626',\n",
       "  'display_phone': '(281) 969-8626',\n",
       "  'distance': 8864.474895858997},\n",
       " {'id': 'aTBVjbZUj2dIqxKXeSccYg',\n",
       "  'alias': 'omg-baked-potatoes-houston',\n",
       "  'name': 'OMG Baked Potatoes',\n",
       "  'image_url': 'https://s3-media2.fl.yelpcdn.com/bphoto/yz8mGwYE9B8TzbvbGohuiA/o.jpg',\n",
       "  'is_closed': False,\n",
       "  'url': 'https://www.yelp.com/biz/omg-baked-potatoes-houston?adjust_creative=rZiFgfUX1eajVOVygdFykg&utm_campaign=yelp_api_v3&utm_medium=api_v3_business_search&utm_source=rZiFgfUX1eajVOVygdFykg',\n",
       "  'review_count': 286,\n",
       "  'categories': [{'alias': 'soulfood', 'title': 'Soul Food'},\n",
       "   {'alias': 'foodtrucks', 'title': 'Food Trucks'}],\n",
       "  'rating': 4.5,\n",
       "  'coordinates': {'latitude': 29.62659, 'longitude': -95.46429},\n",
       "  'transactions': ['delivery'],\n",
       "  'price': '$$',\n",
       "  'location': {'address1': '13815 South Post Oak Rd',\n",
       "   'address2': '',\n",
       "   'address3': '',\n",
       "   'city': 'Houston',\n",
       "   'zip_code': '77045',\n",
       "   'country': 'US',\n",
       "   'state': 'TX',\n",
       "   'display_address': ['13815 South Post Oak Rd', 'Houston, TX 77045']},\n",
       "  'phone': '+18328194664',\n",
       "  'display_phone': '(832) 819-4664',\n",
       "  'distance': 9942.472017410642},\n",
       " {'id': 'xPUTiVph-0PTYL-NAxAvGA',\n",
       "  'alias': 'old-hickory-inn-missouri-city',\n",
       "  'name': 'Old Hickory Inn',\n",
       "  'image_url': 'https://s3-media1.fl.yelpcdn.com/bphoto/Uo810crioxgyZK6H9GZIrA/o.jpg',\n",
       "  'is_closed': False,\n",
       "  'url': 'https://www.yelp.com/biz/old-hickory-inn-missouri-city?adjust_creative=rZiFgfUX1eajVOVygdFykg&utm_campaign=yelp_api_v3&utm_medium=api_v3_business_search&utm_source=rZiFgfUX1eajVOVygdFykg',\n",
       "  'review_count': 84,\n",
       "  'categories': [{'alias': 'bbq', 'title': 'Barbeque'}],\n",
       "  'rating': 3.5,\n",
       "  'coordinates': {'latitude': 29.571845, 'longitude': -95.564201},\n",
       "  'transactions': ['pickup', 'delivery'],\n",
       "  'price': '$$',\n",
       "  'location': {'address1': '3334 Fm 1092 Rd',\n",
       "   'address2': 'Ste 400',\n",
       "   'address3': '',\n",
       "   'city': 'Missouri City',\n",
       "   'zip_code': '77459',\n",
       "   'country': 'US',\n",
       "   'state': 'TX',\n",
       "   'display_address': ['3334 Fm 1092 Rd',\n",
       "    'Ste 400',\n",
       "    'Missouri City, TX 77459']},\n",
       "  'phone': '+12814998904',\n",
       "  'display_phone': '(281) 499-8904',\n",
       "  'distance': 9891.253375417915},\n",
       " {'id': 'Oj8Xo2iICHS245ShLqCDKw',\n",
       "  'alias': 'brookstreet-bbq-missouri-city',\n",
       "  'name': 'Brookstreet BBQ',\n",
       "  'image_url': 'https://s3-media2.fl.yelpcdn.com/bphoto/fUlsgXsVIj86KTiyOhr20A/o.jpg',\n",
       "  'is_closed': False,\n",
       "  'url': 'https://www.yelp.com/biz/brookstreet-bbq-missouri-city?adjust_creative=rZiFgfUX1eajVOVygdFykg&utm_campaign=yelp_api_v3&utm_medium=api_v3_business_search&utm_source=rZiFgfUX1eajVOVygdFykg',\n",
       "  'review_count': 76,\n",
       "  'categories': [{'alias': 'catering', 'title': 'Caterers'},\n",
       "   {'alias': 'bbq', 'title': 'Barbeque'},\n",
       "   {'alias': 'southern', 'title': 'Southern'}],\n",
       "  'rating': 3.0,\n",
       "  'coordinates': {'latitude': 29.55328, 'longitude': -95.55441},\n",
       "  'transactions': ['pickup', 'delivery'],\n",
       "  'price': '$$',\n",
       "  'location': {'address1': '7232 Hwy 6',\n",
       "   'address2': None,\n",
       "   'address3': None,\n",
       "   'city': 'Missouri City',\n",
       "   'zip_code': '77459',\n",
       "   'country': 'US',\n",
       "   'state': 'TX',\n",
       "   'display_address': ['7232 Hwy 6', 'Missouri City, TX 77459']},\n",
       "  'phone': '+12814033050',\n",
       "  'display_phone': '(281) 403-3050',\n",
       "  'distance': 8380.590474233177},\n",
       " {'id': 'ORcbuR_dK5CFqynyoSqXcA',\n",
       "  'alias': 'jimmy-changas-pearland-pearland-4',\n",
       "  'name': 'Jimmy Changas - Pearland',\n",
       "  'image_url': 'https://s3-media1.fl.yelpcdn.com/bphoto/-ym8j32f6bMI42CQeY48AA/o.jpg',\n",
       "  'is_closed': False,\n",
       "  'url': 'https://www.yelp.com/biz/jimmy-changas-pearland-pearland-4?adjust_creative=rZiFgfUX1eajVOVygdFykg&utm_campaign=yelp_api_v3&utm_medium=api_v3_business_search&utm_source=rZiFgfUX1eajVOVygdFykg',\n",
       "  'review_count': 348,\n",
       "  'categories': [{'alias': 'mexican', 'title': 'Mexican'},\n",
       "   {'alias': 'salad', 'title': 'Salad'},\n",
       "   {'alias': 'soup', 'title': 'Soup'}],\n",
       "  'rating': 4.0,\n",
       "  'coordinates': {'latitude': 29.5445396, 'longitude': -95.3896028},\n",
       "  'transactions': ['delivery'],\n",
       "  'price': '$$',\n",
       "  'location': {'address1': '3515 Business Center Dr',\n",
       "   'address2': '',\n",
       "   'address3': None,\n",
       "   'city': 'Pearland',\n",
       "   'zip_code': '77584',\n",
       "   'country': 'US',\n",
       "   'state': 'TX',\n",
       "   'display_address': ['3515 Business Center Dr', 'Pearland, TX 77584']},\n",
       "  'phone': '+12816177812',\n",
       "  'display_phone': '(281) 617-7812',\n",
       "  'distance': 7798.179102533111},\n",
       " {'id': 'HjHjZnRqXYE5_jRwV4pPrQ',\n",
       "  'alias': 'bonchon-pearland-6',\n",
       "  'name': 'Bonchon',\n",
       "  'image_url': 'https://s3-media4.fl.yelpcdn.com/bphoto/_JgCWcTl3W6nBHoxGIqwzg/o.jpg',\n",
       "  'is_closed': False,\n",
       "  'url': 'https://www.yelp.com/biz/bonchon-pearland-6?adjust_creative=rZiFgfUX1eajVOVygdFykg&utm_campaign=yelp_api_v3&utm_medium=api_v3_business_search&utm_source=rZiFgfUX1eajVOVygdFykg',\n",
       "  'review_count': 310,\n",
       "  'categories': [{'alias': 'chicken_wings', 'title': 'Chicken Wings'},\n",
       "   {'alias': 'korean', 'title': 'Korean'},\n",
       "   {'alias': 'asianfusion', 'title': 'Asian Fusion'}],\n",
       "  'rating': 3.5,\n",
       "  'coordinates': {'latitude': 29.55288834, 'longitude': -95.39432629},\n",
       "  'transactions': ['pickup', 'delivery'],\n",
       "  'price': '$$',\n",
       "  'location': {'address1': '11200 Broadway St',\n",
       "   'address2': 'Ste 360',\n",
       "   'address3': '',\n",
       "   'city': 'Pearland',\n",
       "   'zip_code': '77584',\n",
       "   'country': 'US',\n",
       "   'state': 'TX',\n",
       "   'display_address': ['11200 Broadway St', 'Ste 360', 'Pearland, TX 77584']},\n",
       "  'phone': '+13464105167',\n",
       "  'display_phone': '(346) 410-5167',\n",
       "  'distance': 7497.781280277555},\n",
       " {'id': 'xkqqY29BviSEtSZeFzc2cg',\n",
       "  'alias': 'big-mammas-home-cooking-missouri-city',\n",
       "  'name': 'Big Mammas Home Cooking',\n",
       "  'image_url': 'https://s3-media4.fl.yelpcdn.com/bphoto/Cywt_eiALg-21feZtX7D_Q/o.jpg',\n",
       "  'is_closed': False,\n",
       "  'url': 'https://www.yelp.com/biz/big-mammas-home-cooking-missouri-city?adjust_creative=rZiFgfUX1eajVOVygdFykg&utm_campaign=yelp_api_v3&utm_medium=api_v3_business_search&utm_source=rZiFgfUX1eajVOVygdFykg',\n",
       "  'review_count': 58,\n",
       "  'categories': [{'alias': 'soulfood', 'title': 'Soul Food'},\n",
       "   {'alias': 'southern', 'title': 'Southern'},\n",
       "   {'alias': 'bars', 'title': 'Bars'}],\n",
       "  'rating': 3.5,\n",
       "  'coordinates': {'latitude': 29.540765589379852,\n",
       "   'longitude': -95.53857085561629},\n",
       "  'transactions': ['pickup', 'delivery'],\n",
       "  'location': {'address1': '8731 Hwy 6',\n",
       "   'address2': 'Ste 100',\n",
       "   'address3': '',\n",
       "   'city': 'Missouri City',\n",
       "   'zip_code': '77459',\n",
       "   'country': 'US',\n",
       "   'state': 'TX',\n",
       "   'display_address': ['8731 Hwy 6', 'Ste 100', 'Missouri City, TX 77459']},\n",
       "  'phone': '+18324402984',\n",
       "  'display_phone': '(832) 440-2984',\n",
       "  'distance': 6660.500362658872},\n",
       " {'id': 'EmREQPA2Qcwklm-sIeVHsQ',\n",
       "  'alias': 'hungry-farmer-bar-b-q-houston-3',\n",
       "  'name': 'Hungry Farmer Bar-B-Q',\n",
       "  'image_url': 'https://s3-media3.fl.yelpcdn.com/bphoto/tyNqDqyVoegFedB3Ipnwlg/o.jpg',\n",
       "  'is_closed': False,\n",
       "  'url': 'https://www.yelp.com/biz/hungry-farmer-bar-b-q-houston-3?adjust_creative=rZiFgfUX1eajVOVygdFykg&utm_campaign=yelp_api_v3&utm_medium=api_v3_business_search&utm_source=rZiFgfUX1eajVOVygdFykg',\n",
       "  'review_count': 84,\n",
       "  'categories': [{'alias': 'bbq', 'title': 'Barbeque'},\n",
       "   {'alias': 'desserts', 'title': 'Desserts'},\n",
       "   {'alias': 'tradamerican', 'title': 'American'}],\n",
       "  'rating': 3.5,\n",
       "  'coordinates': {'latitude': 29.615284, 'longitude': -95.465497},\n",
       "  'transactions': ['pickup', 'delivery'],\n",
       "  'price': '$$',\n",
       "  'location': {'address1': '14530 S Post Oak Rd',\n",
       "   'address2': '',\n",
       "   'address3': '',\n",
       "   'city': 'Houston',\n",
       "   'zip_code': '77045',\n",
       "   'country': 'US',\n",
       "   'state': 'TX',\n",
       "   'display_address': ['14530 S Post Oak Rd', 'Houston, TX 77045']},\n",
       "  'phone': '+17134131388',\n",
       "  'display_phone': '(713) 413-1388',\n",
       "  'distance': 8642.505679312699},\n",
       " {'id': 'wsKIenu9_hhUR00sKonHeA',\n",
       "  'alias': 'jacos-bbq-houston',\n",
       "  'name': 'Jacos BBQ',\n",
       "  'image_url': 'https://s3-media2.fl.yelpcdn.com/bphoto/sprj1zUM2k8t-H6SOv_nKw/o.jpg',\n",
       "  'is_closed': False,\n",
       "  'url': 'https://www.yelp.com/biz/jacos-bbq-houston?adjust_creative=rZiFgfUX1eajVOVygdFykg&utm_campaign=yelp_api_v3&utm_medium=api_v3_business_search&utm_source=rZiFgfUX1eajVOVygdFykg',\n",
       "  'review_count': 8,\n",
       "  'categories': [{'alias': 'bbq', 'title': 'Barbeque'},\n",
       "   {'alias': 'desserts', 'title': 'Desserts'},\n",
       "   {'alias': 'sandwiches', 'title': 'Sandwiches'}],\n",
       "  'rating': 4.5,\n",
       "  'coordinates': {'latitude': 29.6209926, 'longitude': -95.44565},\n",
       "  'transactions': ['pickup', 'delivery'],\n",
       "  'location': {'address1': '14151 Hiram Clarke',\n",
       "   'address2': None,\n",
       "   'address3': '',\n",
       "   'city': 'Houston',\n",
       "   'zip_code': '77045',\n",
       "   'country': 'US',\n",
       "   'state': 'TX',\n",
       "   'display_address': ['14151 Hiram Clarke', 'Houston, TX 77045']},\n",
       "  'phone': '+17135712332',\n",
       "  'display_phone': '(713) 571-2332',\n",
       "  'distance': 9561.815457520399},\n",
       " {'id': '8T4cBurFqvBc0saj31PKpw',\n",
       "  'alias': 'kountry-bbq-houston',\n",
       "  'name': 'Kountry BBQ',\n",
       "  'image_url': 'https://s3-media2.fl.yelpcdn.com/bphoto/AskFy8Ry4t2xlZpFk4LtQA/o.jpg',\n",
       "  'is_closed': False,\n",
       "  'url': 'https://www.yelp.com/biz/kountry-bbq-houston?adjust_creative=rZiFgfUX1eajVOVygdFykg&utm_campaign=yelp_api_v3&utm_medium=api_v3_business_search&utm_source=rZiFgfUX1eajVOVygdFykg',\n",
       "  'review_count': 1,\n",
       "  'categories': [{'alias': 'bbq', 'title': 'Barbeque'},\n",
       "   {'alias': 'breakfast_brunch', 'title': 'Breakfast & Brunch'},\n",
       "   {'alias': 'sandwiches', 'title': 'Sandwiches'}],\n",
       "  'rating': 3.0,\n",
       "  'coordinates': {'latitude': 29.59253, 'longitude': -95.42819},\n",
       "  'transactions': [],\n",
       "  'location': {'address1': '14636 Almeda Rd',\n",
       "   'address2': '',\n",
       "   'address3': None,\n",
       "   'city': 'Houston',\n",
       "   'zip_code': '77053',\n",
       "   'country': 'US',\n",
       "   'state': 'TX',\n",
       "   'display_address': ['14636 Almeda Rd', 'Houston, TX 77053']},\n",
       "  'phone': '+17134922192',\n",
       "  'display_phone': '(713) 492-2192',\n",
       "  'distance': 7291.120164777402}]"
      ]
     },
     "execution_count": 19,
     "metadata": {},
     "output_type": "execute_result"
    }
   ],
   "source": [
    "results['businesses']"
   ]
  },
  {
   "cell_type": "code",
   "execution_count": 20,
   "metadata": {
    "ExecuteTime": {
     "end_time": "2022-03-24T20:01:48.867510Z",
     "start_time": "2022-03-24T20:01:48.854746Z"
    },
    "colab": {
     "base_uri": "https://localhost:8080/"
    },
    "id": "Myur3i1KGhPf",
    "outputId": "f447c6f9-596b-41d0-ccda-50af0ce82108"
   },
   "outputs": [
    {
     "data": {
      "text/html": [
       "<div>\n",
       "<style scoped>\n",
       "    .dataframe tbody tr th:only-of-type {\n",
       "        vertical-align: middle;\n",
       "    }\n",
       "\n",
       "    .dataframe tbody tr th {\n",
       "        vertical-align: top;\n",
       "    }\n",
       "\n",
       "    .dataframe thead th {\n",
       "        text-align: right;\n",
       "    }\n",
       "</style>\n",
       "<table border=\"1\" class=\"dataframe\">\n",
       "  <thead>\n",
       "    <tr style=\"text-align: right;\">\n",
       "      <th></th>\n",
       "      <th>id</th>\n",
       "      <th>alias</th>\n",
       "      <th>name</th>\n",
       "      <th>image_url</th>\n",
       "      <th>is_closed</th>\n",
       "      <th>url</th>\n",
       "      <th>review_count</th>\n",
       "      <th>categories</th>\n",
       "      <th>rating</th>\n",
       "      <th>coordinates</th>\n",
       "      <th>transactions</th>\n",
       "      <th>location</th>\n",
       "      <th>phone</th>\n",
       "      <th>display_phone</th>\n",
       "      <th>distance</th>\n",
       "      <th>price</th>\n",
       "    </tr>\n",
       "  </thead>\n",
       "  <tbody>\n",
       "    <tr>\n",
       "      <th>0</th>\n",
       "      <td>chuj4i5TRnFdFS0z_vAU9w</td>\n",
       "      <td>boutte-s-bbq-fresno-2</td>\n",
       "      <td>Boutte’s BBQ</td>\n",
       "      <td>https://s3-media2.fl.yelpcdn.com/bphoto/YjCrPA...</td>\n",
       "      <td>False</td>\n",
       "      <td>https://www.yelp.com/biz/boutte-s-bbq-fresno-2...</td>\n",
       "      <td>9</td>\n",
       "      <td>[{'alias': 'foodtrucks', 'title': 'Food Trucks...</td>\n",
       "      <td>5.0</td>\n",
       "      <td>{'latitude': 29.53606, 'longitude': -95.47645}</td>\n",
       "      <td>[]</td>\n",
       "      <td>{'address1': '1514 Trammel Fresno Rd', 'addres...</td>\n",
       "      <td>+17134692669</td>\n",
       "      <td>(713) 469-2669</td>\n",
       "      <td>660.114156</td>\n",
       "      <td>NaN</td>\n",
       "    </tr>\n",
       "    <tr>\n",
       "      <th>1</th>\n",
       "      <td>CJcm3JmMQhDUF0wclPu2AQ</td>\n",
       "      <td>slow-smoked-meats-missouri-city</td>\n",
       "      <td>Slow Smoked Meats</td>\n",
       "      <td>https://s3-media2.fl.yelpcdn.com/bphoto/-Vzlgj...</td>\n",
       "      <td>False</td>\n",
       "      <td>https://www.yelp.com/biz/slow-smoked-meats-mis...</td>\n",
       "      <td>1</td>\n",
       "      <td>[{'alias': 'catering', 'title': 'Caterers'}, {...</td>\n",
       "      <td>5.0</td>\n",
       "      <td>{'latitude': 29.60216, 'longitude': -95.50744}</td>\n",
       "      <td>[]</td>\n",
       "      <td>{'address1': None, 'address2': None, 'address3...</td>\n",
       "      <td>+13463101372</td>\n",
       "      <td>(346) 310-1372</td>\n",
       "      <td>7320.022096</td>\n",
       "      <td>NaN</td>\n",
       "    </tr>\n",
       "    <tr>\n",
       "      <th>2</th>\n",
       "      <td>2Gun8_aVi3zpEj12VFf6YA</td>\n",
       "      <td>papa-nick-s-fresno</td>\n",
       "      <td>Papa Nick’s</td>\n",
       "      <td></td>\n",
       "      <td>False</td>\n",
       "      <td>https://www.yelp.com/biz/papa-nick-s-fresno?ad...</td>\n",
       "      <td>1</td>\n",
       "      <td>[{'alias': 'bbq', 'title': 'Barbeque'}, {'alia...</td>\n",
       "      <td>5.0</td>\n",
       "      <td>{'latitude': 29.53606, 'longitude': -95.47645}</td>\n",
       "      <td>[]</td>\n",
       "      <td>{'address1': '1514 B Trammel', 'address2': '',...</td>\n",
       "      <td>+18329160227</td>\n",
       "      <td>(832) 916-0227</td>\n",
       "      <td>660.375100</td>\n",
       "      <td>NaN</td>\n",
       "    </tr>\n",
       "    <tr>\n",
       "      <th>3</th>\n",
       "      <td>HC_v0TxyQyvHt595crwQZw</td>\n",
       "      <td>the-greatest-bbq-missouri-city</td>\n",
       "      <td>The Greatest BBQ</td>\n",
       "      <td>https://s3-media3.fl.yelpcdn.com/bphoto/5Af1lH...</td>\n",
       "      <td>False</td>\n",
       "      <td>https://www.yelp.com/biz/the-greatest-bbq-miss...</td>\n",
       "      <td>17</td>\n",
       "      <td>[{'alias': 'bbq', 'title': 'Barbeque'}]</td>\n",
       "      <td>4.0</td>\n",
       "      <td>{'latitude': 29.5943214, 'longitude': -95.5268...</td>\n",
       "      <td>[pickup, delivery]</td>\n",
       "      <td>{'address1': '2304-2428 Texas Pkwy', 'address2...</td>\n",
       "      <td>+12812612264</td>\n",
       "      <td>(281) 261-2264</td>\n",
       "      <td>8376.697777</td>\n",
       "      <td>NaN</td>\n",
       "    </tr>\n",
       "    <tr>\n",
       "      <th>4</th>\n",
       "      <td>4-TxcY8ZgNquIqMWuWFrCg</td>\n",
       "      <td>seven-seeds-texas-barbecue-rosharon-2</td>\n",
       "      <td>Seven Seeds Texas Barbecue</td>\n",
       "      <td>https://s3-media1.fl.yelpcdn.com/bphoto/9odk3x...</td>\n",
       "      <td>False</td>\n",
       "      <td>https://www.yelp.com/biz/seven-seeds-texas-bar...</td>\n",
       "      <td>22</td>\n",
       "      <td>[{'alias': 'bbq', 'title': 'Barbeque'}, {'alia...</td>\n",
       "      <td>4.0</td>\n",
       "      <td>{'latitude': 29.5429847, 'longitude': -95.4174...</td>\n",
       "      <td>[pickup, delivery]</td>\n",
       "      <td>{'address1': '3040 Cr 48', 'address2': '', 'ad...</td>\n",
       "      <td>+12816150496</td>\n",
       "      <td>(281) 615-0496</td>\n",
       "      <td>5096.971199</td>\n",
       "      <td>NaN</td>\n",
       "    </tr>\n",
       "    <tr>\n",
       "      <th>5</th>\n",
       "      <td>jx7VXB5oUE1RnSKs4zFUHw</td>\n",
       "      <td>big-horn-bbq-pearland</td>\n",
       "      <td>Big Horn BBQ</td>\n",
       "      <td>https://s3-media3.fl.yelpcdn.com/bphoto/SAvHCd...</td>\n",
       "      <td>False</td>\n",
       "      <td>https://www.yelp.com/biz/big-horn-bbq-pearland...</td>\n",
       "      <td>337</td>\n",
       "      <td>[{'alias': 'bbq', 'title': 'Barbeque'}, {'alia...</td>\n",
       "      <td>3.0</td>\n",
       "      <td>{'latitude': 29.5692407905726, 'longitude': -9...</td>\n",
       "      <td>[delivery]</td>\n",
       "      <td>{'address1': '2300 Smith Ranch Rd', 'address2'...</td>\n",
       "      <td>+12817413289</td>\n",
       "      <td>(281) 741-3289</td>\n",
       "      <td>8888.390692</td>\n",
       "      <td>$$</td>\n",
       "    </tr>\n",
       "    <tr>\n",
       "      <th>6</th>\n",
       "      <td>uHF2wLqsesoVqh0lyHXUBw</td>\n",
       "      <td>texas-biergarten-missouri-city</td>\n",
       "      <td>Texas Biergarten</td>\n",
       "      <td>https://s3-media4.fl.yelpcdn.com/bphoto/Fgy60W...</td>\n",
       "      <td>False</td>\n",
       "      <td>https://www.yelp.com/biz/texas-biergarten-miss...</td>\n",
       "      <td>287</td>\n",
       "      <td>[{'alias': 'german', 'title': 'German'}, {'ali...</td>\n",
       "      <td>4.5</td>\n",
       "      <td>{'latitude': 29.562035, 'longitude': -95.562823}</td>\n",
       "      <td>[delivery]</td>\n",
       "      <td>{'address1': '6302 Hwy 6', 'address2': 'Ste Q'...</td>\n",
       "      <td>+12817780030</td>\n",
       "      <td>(281) 778-0030</td>\n",
       "      <td>9400.384008</td>\n",
       "      <td>$$</td>\n",
       "    </tr>\n",
       "    <tr>\n",
       "      <th>7</th>\n",
       "      <td>ihHp3_rxOrx-HTp1kg7z0w</td>\n",
       "      <td>remos-cafe-houston</td>\n",
       "      <td>ReMo's Cafe</td>\n",
       "      <td>https://s3-media1.fl.yelpcdn.com/bphoto/Xf31sy...</td>\n",
       "      <td>False</td>\n",
       "      <td>https://www.yelp.com/biz/remos-cafe-houston?ad...</td>\n",
       "      <td>81</td>\n",
       "      <td>[{'alias': 'bbq', 'title': 'Barbeque'}, {'alia...</td>\n",
       "      <td>4.5</td>\n",
       "      <td>{'latitude': 29.621766, 'longitude': -95.508692}</td>\n",
       "      <td>[pickup, delivery]</td>\n",
       "      <td>{'address1': '8420 S Sam Houston Pkwy W', 'add...</td>\n",
       "      <td>+18326995800</td>\n",
       "      <td>(832) 699-5800</td>\n",
       "      <td>10082.899511</td>\n",
       "      <td>NaN</td>\n",
       "    </tr>\n",
       "    <tr>\n",
       "      <th>8</th>\n",
       "      <td>3G9HjbFXeQCGba7nGUPqoA</td>\n",
       "      <td>skeets-barbeque-pearland</td>\n",
       "      <td>Skeets Barbeque</td>\n",
       "      <td>https://s3-media3.fl.yelpcdn.com/bphoto/bw23Hh...</td>\n",
       "      <td>False</td>\n",
       "      <td>https://www.yelp.com/biz/skeets-barbeque-pearl...</td>\n",
       "      <td>132</td>\n",
       "      <td>[{'alias': 'bbq', 'title': 'Barbeque'}, {'alia...</td>\n",
       "      <td>3.0</td>\n",
       "      <td>{'latitude': 29.55443126406246, 'longitude': -...</td>\n",
       "      <td>[delivery]</td>\n",
       "      <td>{'address1': '10228 Broadway St', 'address2': ...</td>\n",
       "      <td>+17134360012</td>\n",
       "      <td>(713) 436-0012</td>\n",
       "      <td>9056.534922</td>\n",
       "      <td>$$</td>\n",
       "    </tr>\n",
       "    <tr>\n",
       "      <th>9</th>\n",
       "      <td>B7bMg6BKYCRYi8Juftc51w</td>\n",
       "      <td>true-texas-bbq-manvel</td>\n",
       "      <td>True Texas BBQ</td>\n",
       "      <td>https://s3-media2.fl.yelpcdn.com/bphoto/-RwIp1...</td>\n",
       "      <td>False</td>\n",
       "      <td>https://www.yelp.com/biz/true-texas-bbq-manvel...</td>\n",
       "      <td>1</td>\n",
       "      <td>[{'alias': 'bbq', 'title': 'Barbeque'}]</td>\n",
       "      <td>4.0</td>\n",
       "      <td>{'latitude': 29.48745906879815, 'longitude': -...</td>\n",
       "      <td>[]</td>\n",
       "      <td>{'address1': '17119 Hwy 6', 'address2': None, ...</td>\n",
       "      <td>+12813053623</td>\n",
       "      <td>(281) 305-3623</td>\n",
       "      <td>8381.859439</td>\n",
       "      <td>NaN</td>\n",
       "    </tr>\n",
       "    <tr>\n",
       "      <th>10</th>\n",
       "      <td>tf-LwW5wcyCEGw4mIWEhrw</td>\n",
       "      <td>boogies-chicago-style-bbq-missouri-city-2</td>\n",
       "      <td>Boogie's Chicago Style BBQ</td>\n",
       "      <td>https://s3-media3.fl.yelpcdn.com/bphoto/J-Yg6H...</td>\n",
       "      <td>False</td>\n",
       "      <td>https://www.yelp.com/biz/boogies-chicago-style...</td>\n",
       "      <td>139</td>\n",
       "      <td>[{'alias': 'bbq', 'title': 'Barbeque'}, {'alia...</td>\n",
       "      <td>3.5</td>\n",
       "      <td>{'latitude': 29.600604, 'longitude': -95.5259907}</td>\n",
       "      <td>[pickup, delivery]</td>\n",
       "      <td>{'address1': '1767 Texas Pkwy', 'address2': No...</td>\n",
       "      <td>+12819698626</td>\n",
       "      <td>(281) 969-8626</td>\n",
       "      <td>8864.474896</td>\n",
       "      <td>$</td>\n",
       "    </tr>\n",
       "    <tr>\n",
       "      <th>11</th>\n",
       "      <td>aTBVjbZUj2dIqxKXeSccYg</td>\n",
       "      <td>omg-baked-potatoes-houston</td>\n",
       "      <td>OMG Baked Potatoes</td>\n",
       "      <td>https://s3-media2.fl.yelpcdn.com/bphoto/yz8mGw...</td>\n",
       "      <td>False</td>\n",
       "      <td>https://www.yelp.com/biz/omg-baked-potatoes-ho...</td>\n",
       "      <td>286</td>\n",
       "      <td>[{'alias': 'soulfood', 'title': 'Soul Food'}, ...</td>\n",
       "      <td>4.5</td>\n",
       "      <td>{'latitude': 29.62659, 'longitude': -95.46429}</td>\n",
       "      <td>[delivery]</td>\n",
       "      <td>{'address1': '13815 South Post Oak Rd', 'addre...</td>\n",
       "      <td>+18328194664</td>\n",
       "      <td>(832) 819-4664</td>\n",
       "      <td>9942.472017</td>\n",
       "      <td>$$</td>\n",
       "    </tr>\n",
       "    <tr>\n",
       "      <th>12</th>\n",
       "      <td>xPUTiVph-0PTYL-NAxAvGA</td>\n",
       "      <td>old-hickory-inn-missouri-city</td>\n",
       "      <td>Old Hickory Inn</td>\n",
       "      <td>https://s3-media1.fl.yelpcdn.com/bphoto/Uo810c...</td>\n",
       "      <td>False</td>\n",
       "      <td>https://www.yelp.com/biz/old-hickory-inn-misso...</td>\n",
       "      <td>84</td>\n",
       "      <td>[{'alias': 'bbq', 'title': 'Barbeque'}]</td>\n",
       "      <td>3.5</td>\n",
       "      <td>{'latitude': 29.571845, 'longitude': -95.564201}</td>\n",
       "      <td>[pickup, delivery]</td>\n",
       "      <td>{'address1': '3334 Fm 1092 Rd', 'address2': 'S...</td>\n",
       "      <td>+12814998904</td>\n",
       "      <td>(281) 499-8904</td>\n",
       "      <td>9891.253375</td>\n",
       "      <td>$$</td>\n",
       "    </tr>\n",
       "    <tr>\n",
       "      <th>13</th>\n",
       "      <td>Oj8Xo2iICHS245ShLqCDKw</td>\n",
       "      <td>brookstreet-bbq-missouri-city</td>\n",
       "      <td>Brookstreet BBQ</td>\n",
       "      <td>https://s3-media2.fl.yelpcdn.com/bphoto/fUlsgX...</td>\n",
       "      <td>False</td>\n",
       "      <td>https://www.yelp.com/biz/brookstreet-bbq-misso...</td>\n",
       "      <td>76</td>\n",
       "      <td>[{'alias': 'catering', 'title': 'Caterers'}, {...</td>\n",
       "      <td>3.0</td>\n",
       "      <td>{'latitude': 29.55328, 'longitude': -95.55441}</td>\n",
       "      <td>[pickup, delivery]</td>\n",
       "      <td>{'address1': '7232 Hwy 6', 'address2': None, '...</td>\n",
       "      <td>+12814033050</td>\n",
       "      <td>(281) 403-3050</td>\n",
       "      <td>8380.590474</td>\n",
       "      <td>$$</td>\n",
       "    </tr>\n",
       "    <tr>\n",
       "      <th>14</th>\n",
       "      <td>ORcbuR_dK5CFqynyoSqXcA</td>\n",
       "      <td>jimmy-changas-pearland-pearland-4</td>\n",
       "      <td>Jimmy Changas - Pearland</td>\n",
       "      <td>https://s3-media1.fl.yelpcdn.com/bphoto/-ym8j3...</td>\n",
       "      <td>False</td>\n",
       "      <td>https://www.yelp.com/biz/jimmy-changas-pearlan...</td>\n",
       "      <td>348</td>\n",
       "      <td>[{'alias': 'mexican', 'title': 'Mexican'}, {'a...</td>\n",
       "      <td>4.0</td>\n",
       "      <td>{'latitude': 29.5445396, 'longitude': -95.3896...</td>\n",
       "      <td>[delivery]</td>\n",
       "      <td>{'address1': '3515 Business Center Dr', 'addre...</td>\n",
       "      <td>+12816177812</td>\n",
       "      <td>(281) 617-7812</td>\n",
       "      <td>7798.179103</td>\n",
       "      <td>$$</td>\n",
       "    </tr>\n",
       "    <tr>\n",
       "      <th>15</th>\n",
       "      <td>HjHjZnRqXYE5_jRwV4pPrQ</td>\n",
       "      <td>bonchon-pearland-6</td>\n",
       "      <td>Bonchon</td>\n",
       "      <td>https://s3-media4.fl.yelpcdn.com/bphoto/_JgCWc...</td>\n",
       "      <td>False</td>\n",
       "      <td>https://www.yelp.com/biz/bonchon-pearland-6?ad...</td>\n",
       "      <td>310</td>\n",
       "      <td>[{'alias': 'chicken_wings', 'title': 'Chicken ...</td>\n",
       "      <td>3.5</td>\n",
       "      <td>{'latitude': 29.55288834, 'longitude': -95.394...</td>\n",
       "      <td>[pickup, delivery]</td>\n",
       "      <td>{'address1': '11200 Broadway St', 'address2': ...</td>\n",
       "      <td>+13464105167</td>\n",
       "      <td>(346) 410-5167</td>\n",
       "      <td>7497.781280</td>\n",
       "      <td>$$</td>\n",
       "    </tr>\n",
       "    <tr>\n",
       "      <th>16</th>\n",
       "      <td>xkqqY29BviSEtSZeFzc2cg</td>\n",
       "      <td>big-mammas-home-cooking-missouri-city</td>\n",
       "      <td>Big Mammas Home Cooking</td>\n",
       "      <td>https://s3-media4.fl.yelpcdn.com/bphoto/Cywt_e...</td>\n",
       "      <td>False</td>\n",
       "      <td>https://www.yelp.com/biz/big-mammas-home-cooki...</td>\n",
       "      <td>58</td>\n",
       "      <td>[{'alias': 'soulfood', 'title': 'Soul Food'}, ...</td>\n",
       "      <td>3.5</td>\n",
       "      <td>{'latitude': 29.540765589379852, 'longitude': ...</td>\n",
       "      <td>[pickup, delivery]</td>\n",
       "      <td>{'address1': '8731 Hwy 6', 'address2': 'Ste 10...</td>\n",
       "      <td>+18324402984</td>\n",
       "      <td>(832) 440-2984</td>\n",
       "      <td>6660.500363</td>\n",
       "      <td>NaN</td>\n",
       "    </tr>\n",
       "    <tr>\n",
       "      <th>17</th>\n",
       "      <td>EmREQPA2Qcwklm-sIeVHsQ</td>\n",
       "      <td>hungry-farmer-bar-b-q-houston-3</td>\n",
       "      <td>Hungry Farmer Bar-B-Q</td>\n",
       "      <td>https://s3-media3.fl.yelpcdn.com/bphoto/tyNqDq...</td>\n",
       "      <td>False</td>\n",
       "      <td>https://www.yelp.com/biz/hungry-farmer-bar-b-q...</td>\n",
       "      <td>84</td>\n",
       "      <td>[{'alias': 'bbq', 'title': 'Barbeque'}, {'alia...</td>\n",
       "      <td>3.5</td>\n",
       "      <td>{'latitude': 29.615284, 'longitude': -95.465497}</td>\n",
       "      <td>[pickup, delivery]</td>\n",
       "      <td>{'address1': '14530 S Post Oak Rd', 'address2'...</td>\n",
       "      <td>+17134131388</td>\n",
       "      <td>(713) 413-1388</td>\n",
       "      <td>8642.505679</td>\n",
       "      <td>$$</td>\n",
       "    </tr>\n",
       "    <tr>\n",
       "      <th>18</th>\n",
       "      <td>wsKIenu9_hhUR00sKonHeA</td>\n",
       "      <td>jacos-bbq-houston</td>\n",
       "      <td>Jacos BBQ</td>\n",
       "      <td>https://s3-media2.fl.yelpcdn.com/bphoto/sprj1z...</td>\n",
       "      <td>False</td>\n",
       "      <td>https://www.yelp.com/biz/jacos-bbq-houston?adj...</td>\n",
       "      <td>8</td>\n",
       "      <td>[{'alias': 'bbq', 'title': 'Barbeque'}, {'alia...</td>\n",
       "      <td>4.5</td>\n",
       "      <td>{'latitude': 29.6209926, 'longitude': -95.44565}</td>\n",
       "      <td>[pickup, delivery]</td>\n",
       "      <td>{'address1': '14151 Hiram Clarke', 'address2':...</td>\n",
       "      <td>+17135712332</td>\n",
       "      <td>(713) 571-2332</td>\n",
       "      <td>9561.815458</td>\n",
       "      <td>NaN</td>\n",
       "    </tr>\n",
       "    <tr>\n",
       "      <th>19</th>\n",
       "      <td>8T4cBurFqvBc0saj31PKpw</td>\n",
       "      <td>kountry-bbq-houston</td>\n",
       "      <td>Kountry BBQ</td>\n",
       "      <td>https://s3-media2.fl.yelpcdn.com/bphoto/AskFy8...</td>\n",
       "      <td>False</td>\n",
       "      <td>https://www.yelp.com/biz/kountry-bbq-houston?a...</td>\n",
       "      <td>1</td>\n",
       "      <td>[{'alias': 'bbq', 'title': 'Barbeque'}, {'alia...</td>\n",
       "      <td>3.0</td>\n",
       "      <td>{'latitude': 29.59253, 'longitude': -95.42819}</td>\n",
       "      <td>[]</td>\n",
       "      <td>{'address1': '14636 Almeda Rd', 'address2': ''...</td>\n",
       "      <td>+17134922192</td>\n",
       "      <td>(713) 492-2192</td>\n",
       "      <td>7291.120165</td>\n",
       "      <td>NaN</td>\n",
       "    </tr>\n",
       "  </tbody>\n",
       "</table>\n",
       "</div>"
      ],
      "text/plain": [
       "                        id                                      alias  \\\n",
       "0   chuj4i5TRnFdFS0z_vAU9w                      boutte-s-bbq-fresno-2   \n",
       "1   CJcm3JmMQhDUF0wclPu2AQ            slow-smoked-meats-missouri-city   \n",
       "2   2Gun8_aVi3zpEj12VFf6YA                         papa-nick-s-fresno   \n",
       "3   HC_v0TxyQyvHt595crwQZw             the-greatest-bbq-missouri-city   \n",
       "4   4-TxcY8ZgNquIqMWuWFrCg      seven-seeds-texas-barbecue-rosharon-2   \n",
       "5   jx7VXB5oUE1RnSKs4zFUHw                      big-horn-bbq-pearland   \n",
       "6   uHF2wLqsesoVqh0lyHXUBw             texas-biergarten-missouri-city   \n",
       "7   ihHp3_rxOrx-HTp1kg7z0w                         remos-cafe-houston   \n",
       "8   3G9HjbFXeQCGba7nGUPqoA                   skeets-barbeque-pearland   \n",
       "9   B7bMg6BKYCRYi8Juftc51w                      true-texas-bbq-manvel   \n",
       "10  tf-LwW5wcyCEGw4mIWEhrw  boogies-chicago-style-bbq-missouri-city-2   \n",
       "11  aTBVjbZUj2dIqxKXeSccYg                 omg-baked-potatoes-houston   \n",
       "12  xPUTiVph-0PTYL-NAxAvGA              old-hickory-inn-missouri-city   \n",
       "13  Oj8Xo2iICHS245ShLqCDKw              brookstreet-bbq-missouri-city   \n",
       "14  ORcbuR_dK5CFqynyoSqXcA          jimmy-changas-pearland-pearland-4   \n",
       "15  HjHjZnRqXYE5_jRwV4pPrQ                         bonchon-pearland-6   \n",
       "16  xkqqY29BviSEtSZeFzc2cg      big-mammas-home-cooking-missouri-city   \n",
       "17  EmREQPA2Qcwklm-sIeVHsQ            hungry-farmer-bar-b-q-houston-3   \n",
       "18  wsKIenu9_hhUR00sKonHeA                          jacos-bbq-houston   \n",
       "19  8T4cBurFqvBc0saj31PKpw                        kountry-bbq-houston   \n",
       "\n",
       "                          name  \\\n",
       "0                 Boutte’s BBQ   \n",
       "1            Slow Smoked Meats   \n",
       "2                  Papa Nick’s   \n",
       "3             The Greatest BBQ   \n",
       "4   Seven Seeds Texas Barbecue   \n",
       "5                 Big Horn BBQ   \n",
       "6             Texas Biergarten   \n",
       "7                  ReMo's Cafe   \n",
       "8              Skeets Barbeque   \n",
       "9               True Texas BBQ   \n",
       "10  Boogie's Chicago Style BBQ   \n",
       "11          OMG Baked Potatoes   \n",
       "12             Old Hickory Inn   \n",
       "13             Brookstreet BBQ   \n",
       "14    Jimmy Changas - Pearland   \n",
       "15                     Bonchon   \n",
       "16     Big Mammas Home Cooking   \n",
       "17       Hungry Farmer Bar-B-Q   \n",
       "18                   Jacos BBQ   \n",
       "19                 Kountry BBQ   \n",
       "\n",
       "                                            image_url  is_closed  \\\n",
       "0   https://s3-media2.fl.yelpcdn.com/bphoto/YjCrPA...      False   \n",
       "1   https://s3-media2.fl.yelpcdn.com/bphoto/-Vzlgj...      False   \n",
       "2                                                          False   \n",
       "3   https://s3-media3.fl.yelpcdn.com/bphoto/5Af1lH...      False   \n",
       "4   https://s3-media1.fl.yelpcdn.com/bphoto/9odk3x...      False   \n",
       "5   https://s3-media3.fl.yelpcdn.com/bphoto/SAvHCd...      False   \n",
       "6   https://s3-media4.fl.yelpcdn.com/bphoto/Fgy60W...      False   \n",
       "7   https://s3-media1.fl.yelpcdn.com/bphoto/Xf31sy...      False   \n",
       "8   https://s3-media3.fl.yelpcdn.com/bphoto/bw23Hh...      False   \n",
       "9   https://s3-media2.fl.yelpcdn.com/bphoto/-RwIp1...      False   \n",
       "10  https://s3-media3.fl.yelpcdn.com/bphoto/J-Yg6H...      False   \n",
       "11  https://s3-media2.fl.yelpcdn.com/bphoto/yz8mGw...      False   \n",
       "12  https://s3-media1.fl.yelpcdn.com/bphoto/Uo810c...      False   \n",
       "13  https://s3-media2.fl.yelpcdn.com/bphoto/fUlsgX...      False   \n",
       "14  https://s3-media1.fl.yelpcdn.com/bphoto/-ym8j3...      False   \n",
       "15  https://s3-media4.fl.yelpcdn.com/bphoto/_JgCWc...      False   \n",
       "16  https://s3-media4.fl.yelpcdn.com/bphoto/Cywt_e...      False   \n",
       "17  https://s3-media3.fl.yelpcdn.com/bphoto/tyNqDq...      False   \n",
       "18  https://s3-media2.fl.yelpcdn.com/bphoto/sprj1z...      False   \n",
       "19  https://s3-media2.fl.yelpcdn.com/bphoto/AskFy8...      False   \n",
       "\n",
       "                                                  url  review_count  \\\n",
       "0   https://www.yelp.com/biz/boutte-s-bbq-fresno-2...             9   \n",
       "1   https://www.yelp.com/biz/slow-smoked-meats-mis...             1   \n",
       "2   https://www.yelp.com/biz/papa-nick-s-fresno?ad...             1   \n",
       "3   https://www.yelp.com/biz/the-greatest-bbq-miss...            17   \n",
       "4   https://www.yelp.com/biz/seven-seeds-texas-bar...            22   \n",
       "5   https://www.yelp.com/biz/big-horn-bbq-pearland...           337   \n",
       "6   https://www.yelp.com/biz/texas-biergarten-miss...           287   \n",
       "7   https://www.yelp.com/biz/remos-cafe-houston?ad...            81   \n",
       "8   https://www.yelp.com/biz/skeets-barbeque-pearl...           132   \n",
       "9   https://www.yelp.com/biz/true-texas-bbq-manvel...             1   \n",
       "10  https://www.yelp.com/biz/boogies-chicago-style...           139   \n",
       "11  https://www.yelp.com/biz/omg-baked-potatoes-ho...           286   \n",
       "12  https://www.yelp.com/biz/old-hickory-inn-misso...            84   \n",
       "13  https://www.yelp.com/biz/brookstreet-bbq-misso...            76   \n",
       "14  https://www.yelp.com/biz/jimmy-changas-pearlan...           348   \n",
       "15  https://www.yelp.com/biz/bonchon-pearland-6?ad...           310   \n",
       "16  https://www.yelp.com/biz/big-mammas-home-cooki...            58   \n",
       "17  https://www.yelp.com/biz/hungry-farmer-bar-b-q...            84   \n",
       "18  https://www.yelp.com/biz/jacos-bbq-houston?adj...             8   \n",
       "19  https://www.yelp.com/biz/kountry-bbq-houston?a...             1   \n",
       "\n",
       "                                           categories  rating  \\\n",
       "0   [{'alias': 'foodtrucks', 'title': 'Food Trucks...     5.0   \n",
       "1   [{'alias': 'catering', 'title': 'Caterers'}, {...     5.0   \n",
       "2   [{'alias': 'bbq', 'title': 'Barbeque'}, {'alia...     5.0   \n",
       "3             [{'alias': 'bbq', 'title': 'Barbeque'}]     4.0   \n",
       "4   [{'alias': 'bbq', 'title': 'Barbeque'}, {'alia...     4.0   \n",
       "5   [{'alias': 'bbq', 'title': 'Barbeque'}, {'alia...     3.0   \n",
       "6   [{'alias': 'german', 'title': 'German'}, {'ali...     4.5   \n",
       "7   [{'alias': 'bbq', 'title': 'Barbeque'}, {'alia...     4.5   \n",
       "8   [{'alias': 'bbq', 'title': 'Barbeque'}, {'alia...     3.0   \n",
       "9             [{'alias': 'bbq', 'title': 'Barbeque'}]     4.0   \n",
       "10  [{'alias': 'bbq', 'title': 'Barbeque'}, {'alia...     3.5   \n",
       "11  [{'alias': 'soulfood', 'title': 'Soul Food'}, ...     4.5   \n",
       "12            [{'alias': 'bbq', 'title': 'Barbeque'}]     3.5   \n",
       "13  [{'alias': 'catering', 'title': 'Caterers'}, {...     3.0   \n",
       "14  [{'alias': 'mexican', 'title': 'Mexican'}, {'a...     4.0   \n",
       "15  [{'alias': 'chicken_wings', 'title': 'Chicken ...     3.5   \n",
       "16  [{'alias': 'soulfood', 'title': 'Soul Food'}, ...     3.5   \n",
       "17  [{'alias': 'bbq', 'title': 'Barbeque'}, {'alia...     3.5   \n",
       "18  [{'alias': 'bbq', 'title': 'Barbeque'}, {'alia...     4.5   \n",
       "19  [{'alias': 'bbq', 'title': 'Barbeque'}, {'alia...     3.0   \n",
       "\n",
       "                                          coordinates        transactions  \\\n",
       "0      {'latitude': 29.53606, 'longitude': -95.47645}                  []   \n",
       "1      {'latitude': 29.60216, 'longitude': -95.50744}                  []   \n",
       "2      {'latitude': 29.53606, 'longitude': -95.47645}                  []   \n",
       "3   {'latitude': 29.5943214, 'longitude': -95.5268...  [pickup, delivery]   \n",
       "4   {'latitude': 29.5429847, 'longitude': -95.4174...  [pickup, delivery]   \n",
       "5   {'latitude': 29.5692407905726, 'longitude': -9...          [delivery]   \n",
       "6    {'latitude': 29.562035, 'longitude': -95.562823}          [delivery]   \n",
       "7    {'latitude': 29.621766, 'longitude': -95.508692}  [pickup, delivery]   \n",
       "8   {'latitude': 29.55443126406246, 'longitude': -...          [delivery]   \n",
       "9   {'latitude': 29.48745906879815, 'longitude': -...                  []   \n",
       "10  {'latitude': 29.600604, 'longitude': -95.5259907}  [pickup, delivery]   \n",
       "11     {'latitude': 29.62659, 'longitude': -95.46429}          [delivery]   \n",
       "12   {'latitude': 29.571845, 'longitude': -95.564201}  [pickup, delivery]   \n",
       "13     {'latitude': 29.55328, 'longitude': -95.55441}  [pickup, delivery]   \n",
       "14  {'latitude': 29.5445396, 'longitude': -95.3896...          [delivery]   \n",
       "15  {'latitude': 29.55288834, 'longitude': -95.394...  [pickup, delivery]   \n",
       "16  {'latitude': 29.540765589379852, 'longitude': ...  [pickup, delivery]   \n",
       "17   {'latitude': 29.615284, 'longitude': -95.465497}  [pickup, delivery]   \n",
       "18   {'latitude': 29.6209926, 'longitude': -95.44565}  [pickup, delivery]   \n",
       "19     {'latitude': 29.59253, 'longitude': -95.42819}                  []   \n",
       "\n",
       "                                             location         phone  \\\n",
       "0   {'address1': '1514 Trammel Fresno Rd', 'addres...  +17134692669   \n",
       "1   {'address1': None, 'address2': None, 'address3...  +13463101372   \n",
       "2   {'address1': '1514 B Trammel', 'address2': '',...  +18329160227   \n",
       "3   {'address1': '2304-2428 Texas Pkwy', 'address2...  +12812612264   \n",
       "4   {'address1': '3040 Cr 48', 'address2': '', 'ad...  +12816150496   \n",
       "5   {'address1': '2300 Smith Ranch Rd', 'address2'...  +12817413289   \n",
       "6   {'address1': '6302 Hwy 6', 'address2': 'Ste Q'...  +12817780030   \n",
       "7   {'address1': '8420 S Sam Houston Pkwy W', 'add...  +18326995800   \n",
       "8   {'address1': '10228 Broadway St', 'address2': ...  +17134360012   \n",
       "9   {'address1': '17119 Hwy 6', 'address2': None, ...  +12813053623   \n",
       "10  {'address1': '1767 Texas Pkwy', 'address2': No...  +12819698626   \n",
       "11  {'address1': '13815 South Post Oak Rd', 'addre...  +18328194664   \n",
       "12  {'address1': '3334 Fm 1092 Rd', 'address2': 'S...  +12814998904   \n",
       "13  {'address1': '7232 Hwy 6', 'address2': None, '...  +12814033050   \n",
       "14  {'address1': '3515 Business Center Dr', 'addre...  +12816177812   \n",
       "15  {'address1': '11200 Broadway St', 'address2': ...  +13464105167   \n",
       "16  {'address1': '8731 Hwy 6', 'address2': 'Ste 10...  +18324402984   \n",
       "17  {'address1': '14530 S Post Oak Rd', 'address2'...  +17134131388   \n",
       "18  {'address1': '14151 Hiram Clarke', 'address2':...  +17135712332   \n",
       "19  {'address1': '14636 Almeda Rd', 'address2': ''...  +17134922192   \n",
       "\n",
       "     display_phone      distance price  \n",
       "0   (713) 469-2669    660.114156   NaN  \n",
       "1   (346) 310-1372   7320.022096   NaN  \n",
       "2   (832) 916-0227    660.375100   NaN  \n",
       "3   (281) 261-2264   8376.697777   NaN  \n",
       "4   (281) 615-0496   5096.971199   NaN  \n",
       "5   (281) 741-3289   8888.390692    $$  \n",
       "6   (281) 778-0030   9400.384008    $$  \n",
       "7   (832) 699-5800  10082.899511   NaN  \n",
       "8   (713) 436-0012   9056.534922    $$  \n",
       "9   (281) 305-3623   8381.859439   NaN  \n",
       "10  (281) 969-8626   8864.474896     $  \n",
       "11  (832) 819-4664   9942.472017    $$  \n",
       "12  (281) 499-8904   9891.253375    $$  \n",
       "13  (281) 403-3050   8380.590474    $$  \n",
       "14  (281) 617-7812   7798.179103    $$  \n",
       "15  (346) 410-5167   7497.781280    $$  \n",
       "16  (832) 440-2984   6660.500363   NaN  \n",
       "17  (713) 413-1388   8642.505679    $$  \n",
       "18  (713) 571-2332   9561.815458   NaN  \n",
       "19  (713) 492-2192   7291.120165   NaN  "
      ]
     },
     "execution_count": 20,
     "metadata": {},
     "output_type": "execute_result"
    }
   ],
   "source": [
    "## How many results total?\n",
    "pd.DataFrame(results['businesses'])"
   ]
  },
  {
   "cell_type": "markdown",
   "metadata": {},
   "source": [
    "- Where is the actual data we want to save?"
   ]
  },
  {
   "cell_type": "code",
   "execution_count": 21,
   "metadata": {},
   "outputs": [
    {
     "data": {
      "text/plain": [
       "20"
      ]
     },
     "execution_count": 21,
     "metadata": {},
     "output_type": "execute_result"
    }
   ],
   "source": [
    "## How many did we get the details for?\n",
    "results_per_page = len(results['businesses'])\n",
    "results_per_page"
   ]
  },
  {
   "cell_type": "markdown",
   "metadata": {},
   "source": [
    "- Calculate how many pages of results needed to cover the total_results"
   ]
  },
  {
   "cell_type": "code",
   "execution_count": 22,
   "metadata": {},
   "outputs": [
    {
     "data": {
      "text/plain": [
       "9.5"
      ]
     },
     "execution_count": 22,
     "metadata": {},
     "output_type": "execute_result"
    }
   ],
   "source": [
    "(results['total'])/ results_per_page"
   ]
  },
  {
   "cell_type": "code",
   "execution_count": 23,
   "metadata": {},
   "outputs": [
    {
     "data": {
      "text/plain": [
       "10"
      ]
     },
     "execution_count": 23,
     "metadata": {},
     "output_type": "execute_result"
    }
   ],
   "source": [
    "# Use math.ceil to round up for the total number of pages of results.\n",
    "n_pages = math.ceil((results['total'])/ results_per_page)\n",
    "n_pages"
   ]
  },
  {
   "cell_type": "code",
   "execution_count": 24,
   "metadata": {},
   "outputs": [
    {
     "data": {
      "application/vnd.jupyter.widget-view+json": {
       "model_id": "443b163cc29c44a4a47063a56f922654",
       "version_major": 2,
       "version_minor": 0
      },
      "text/plain": [
       "  0%|          | 0/10 [00:00<?, ?it/s]"
      ]
     },
     "metadata": {},
     "output_type": "display_data"
    }
   ],
   "source": [
    "for i in tqdm_notebook(range(1,n_pages+1)):\n",
    "    ## The block of code we want to TRY to run\n",
    "    try:\n",
    "        \n",
    "        time.sleep(.2)\n",
    "        \n",
    "        ## Read in results in progress file and check the length\n",
    "        with open(JSON_FILE, 'r') as f:\n",
    "            previous_results = json.load(f)\n",
    "        \n",
    "        ## save number of results to use as offset\n",
    "        n_results = len(previous_results)\n",
    "        \n",
    "        \n",
    "        ## use n_results as the OFFSET \n",
    "        results = yelp.search_query(location = location, term = term,\n",
    "                                   offset = n_results+1)\n",
    "\n",
    "        ## append new results and save to file\n",
    "        previous_results.extend(results['businesses'])\n",
    "        \n",
    "        with open(JSON_FILE, 'w') as f:\n",
    "            json.dump(previous_results, f)\n",
    "\n",
    "            \n",
    "    ## What to do if we get an error/exception.\n",
    "    except Exception as e:\n",
    "        print(' [!] ERROR', e)\n"
   ]
  },
  {
   "cell_type": "markdown",
   "metadata": {},
   "source": [
    "## Open the Final JSON File with Pandas"
   ]
  },
  {
   "cell_type": "code",
   "execution_count": 25,
   "metadata": {},
   "outputs": [],
   "source": [
    "df = pd.read_json(JSON_FILE)"
   ]
  },
  {
   "cell_type": "code",
   "execution_count": 26,
   "metadata": {},
   "outputs": [
    {
     "data": {
      "text/html": [
       "<div>\n",
       "<style scoped>\n",
       "    .dataframe tbody tr th:only-of-type {\n",
       "        vertical-align: middle;\n",
       "    }\n",
       "\n",
       "    .dataframe tbody tr th {\n",
       "        vertical-align: top;\n",
       "    }\n",
       "\n",
       "    .dataframe thead th {\n",
       "        text-align: right;\n",
       "    }\n",
       "</style>\n",
       "<table border=\"1\" class=\"dataframe\">\n",
       "  <thead>\n",
       "    <tr style=\"text-align: right;\">\n",
       "      <th></th>\n",
       "      <th>id</th>\n",
       "      <th>alias</th>\n",
       "      <th>name</th>\n",
       "      <th>image_url</th>\n",
       "      <th>is_closed</th>\n",
       "      <th>url</th>\n",
       "      <th>review_count</th>\n",
       "      <th>categories</th>\n",
       "      <th>rating</th>\n",
       "      <th>coordinates</th>\n",
       "      <th>transactions</th>\n",
       "      <th>location</th>\n",
       "      <th>phone</th>\n",
       "      <th>display_phone</th>\n",
       "      <th>distance</th>\n",
       "      <th>price</th>\n",
       "    </tr>\n",
       "  </thead>\n",
       "  <tbody>\n",
       "    <tr>\n",
       "      <th>0</th>\n",
       "      <td>CJcm3JmMQhDUF0wclPu2AQ</td>\n",
       "      <td>slow-smoked-meats-missouri-city</td>\n",
       "      <td>Slow Smoked Meats</td>\n",
       "      <td>https://s3-media2.fl.yelpcdn.com/bphoto/-Vzlgj...</td>\n",
       "      <td>False</td>\n",
       "      <td>https://www.yelp.com/biz/slow-smoked-meats-mis...</td>\n",
       "      <td>1</td>\n",
       "      <td>[{'alias': 'catering', 'title': 'Caterers'}, {...</td>\n",
       "      <td>5.0</td>\n",
       "      <td>{'latitude': 29.60216, 'longitude': -95.50744}</td>\n",
       "      <td>[]</td>\n",
       "      <td>{'address1': None, 'address2': None, 'address3...</td>\n",
       "      <td>+13463101372</td>\n",
       "      <td>(346) 310-1372</td>\n",
       "      <td>7320.022096</td>\n",
       "      <td>NaN</td>\n",
       "    </tr>\n",
       "    <tr>\n",
       "      <th>1</th>\n",
       "      <td>2Gun8_aVi3zpEj12VFf6YA</td>\n",
       "      <td>papa-nick-s-fresno</td>\n",
       "      <td>Papa Nick’s</td>\n",
       "      <td></td>\n",
       "      <td>False</td>\n",
       "      <td>https://www.yelp.com/biz/papa-nick-s-fresno?ad...</td>\n",
       "      <td>1</td>\n",
       "      <td>[{'alias': 'bbq', 'title': 'Barbeque'}, {'alia...</td>\n",
       "      <td>5.0</td>\n",
       "      <td>{'latitude': 29.53606, 'longitude': -95.47645}</td>\n",
       "      <td>[]</td>\n",
       "      <td>{'address1': '1514 B Trammel', 'address2': '',...</td>\n",
       "      <td>+18329160227</td>\n",
       "      <td>(832) 916-0227</td>\n",
       "      <td>660.375100</td>\n",
       "      <td>NaN</td>\n",
       "    </tr>\n",
       "    <tr>\n",
       "      <th>2</th>\n",
       "      <td>HC_v0TxyQyvHt595crwQZw</td>\n",
       "      <td>the-greatest-bbq-missouri-city</td>\n",
       "      <td>The Greatest BBQ</td>\n",
       "      <td>https://s3-media3.fl.yelpcdn.com/bphoto/5Af1lH...</td>\n",
       "      <td>False</td>\n",
       "      <td>https://www.yelp.com/biz/the-greatest-bbq-miss...</td>\n",
       "      <td>17</td>\n",
       "      <td>[{'alias': 'bbq', 'title': 'Barbeque'}]</td>\n",
       "      <td>4.0</td>\n",
       "      <td>{'latitude': 29.5943214, 'longitude': -95.5268...</td>\n",
       "      <td>[delivery, pickup]</td>\n",
       "      <td>{'address1': '2304-2428 Texas Pkwy', 'address2...</td>\n",
       "      <td>+12812612264</td>\n",
       "      <td>(281) 261-2264</td>\n",
       "      <td>8376.697777</td>\n",
       "      <td>NaN</td>\n",
       "    </tr>\n",
       "    <tr>\n",
       "      <th>3</th>\n",
       "      <td>4-TxcY8ZgNquIqMWuWFrCg</td>\n",
       "      <td>seven-seeds-texas-barbecue-rosharon-2</td>\n",
       "      <td>Seven Seeds Texas Barbecue</td>\n",
       "      <td>https://s3-media1.fl.yelpcdn.com/bphoto/9odk3x...</td>\n",
       "      <td>False</td>\n",
       "      <td>https://www.yelp.com/biz/seven-seeds-texas-bar...</td>\n",
       "      <td>22</td>\n",
       "      <td>[{'alias': 'bbq', 'title': 'Barbeque'}, {'alia...</td>\n",
       "      <td>4.0</td>\n",
       "      <td>{'latitude': 29.5429847, 'longitude': -95.4174...</td>\n",
       "      <td>[delivery, pickup]</td>\n",
       "      <td>{'address1': '3040 Cr 48', 'address2': '', 'ad...</td>\n",
       "      <td>+12816150496</td>\n",
       "      <td>(281) 615-0496</td>\n",
       "      <td>5096.971199</td>\n",
       "      <td>NaN</td>\n",
       "    </tr>\n",
       "    <tr>\n",
       "      <th>4</th>\n",
       "      <td>jx7VXB5oUE1RnSKs4zFUHw</td>\n",
       "      <td>big-horn-bbq-pearland</td>\n",
       "      <td>Big Horn BBQ</td>\n",
       "      <td>https://s3-media3.fl.yelpcdn.com/bphoto/SAvHCd...</td>\n",
       "      <td>False</td>\n",
       "      <td>https://www.yelp.com/biz/big-horn-bbq-pearland...</td>\n",
       "      <td>337</td>\n",
       "      <td>[{'alias': 'bbq', 'title': 'Barbeque'}, {'alia...</td>\n",
       "      <td>3.0</td>\n",
       "      <td>{'latitude': 29.5692407905726, 'longitude': -9...</td>\n",
       "      <td>[delivery]</td>\n",
       "      <td>{'address1': '2300 Smith Ranch Rd', 'address2'...</td>\n",
       "      <td>+12817413289</td>\n",
       "      <td>(281) 741-3289</td>\n",
       "      <td>8888.390692</td>\n",
       "      <td>$$</td>\n",
       "    </tr>\n",
       "  </tbody>\n",
       "</table>\n",
       "</div>"
      ],
      "text/plain": [
       "                       id                                  alias  \\\n",
       "0  CJcm3JmMQhDUF0wclPu2AQ        slow-smoked-meats-missouri-city   \n",
       "1  2Gun8_aVi3zpEj12VFf6YA                     papa-nick-s-fresno   \n",
       "2  HC_v0TxyQyvHt595crwQZw         the-greatest-bbq-missouri-city   \n",
       "3  4-TxcY8ZgNquIqMWuWFrCg  seven-seeds-texas-barbecue-rosharon-2   \n",
       "4  jx7VXB5oUE1RnSKs4zFUHw                  big-horn-bbq-pearland   \n",
       "\n",
       "                         name  \\\n",
       "0           Slow Smoked Meats   \n",
       "1                 Papa Nick’s   \n",
       "2            The Greatest BBQ   \n",
       "3  Seven Seeds Texas Barbecue   \n",
       "4                Big Horn BBQ   \n",
       "\n",
       "                                           image_url  is_closed  \\\n",
       "0  https://s3-media2.fl.yelpcdn.com/bphoto/-Vzlgj...      False   \n",
       "1                                                         False   \n",
       "2  https://s3-media3.fl.yelpcdn.com/bphoto/5Af1lH...      False   \n",
       "3  https://s3-media1.fl.yelpcdn.com/bphoto/9odk3x...      False   \n",
       "4  https://s3-media3.fl.yelpcdn.com/bphoto/SAvHCd...      False   \n",
       "\n",
       "                                                 url  review_count  \\\n",
       "0  https://www.yelp.com/biz/slow-smoked-meats-mis...             1   \n",
       "1  https://www.yelp.com/biz/papa-nick-s-fresno?ad...             1   \n",
       "2  https://www.yelp.com/biz/the-greatest-bbq-miss...            17   \n",
       "3  https://www.yelp.com/biz/seven-seeds-texas-bar...            22   \n",
       "4  https://www.yelp.com/biz/big-horn-bbq-pearland...           337   \n",
       "\n",
       "                                          categories  rating  \\\n",
       "0  [{'alias': 'catering', 'title': 'Caterers'}, {...     5.0   \n",
       "1  [{'alias': 'bbq', 'title': 'Barbeque'}, {'alia...     5.0   \n",
       "2            [{'alias': 'bbq', 'title': 'Barbeque'}]     4.0   \n",
       "3  [{'alias': 'bbq', 'title': 'Barbeque'}, {'alia...     4.0   \n",
       "4  [{'alias': 'bbq', 'title': 'Barbeque'}, {'alia...     3.0   \n",
       "\n",
       "                                         coordinates        transactions  \\\n",
       "0     {'latitude': 29.60216, 'longitude': -95.50744}                  []   \n",
       "1     {'latitude': 29.53606, 'longitude': -95.47645}                  []   \n",
       "2  {'latitude': 29.5943214, 'longitude': -95.5268...  [delivery, pickup]   \n",
       "3  {'latitude': 29.5429847, 'longitude': -95.4174...  [delivery, pickup]   \n",
       "4  {'latitude': 29.5692407905726, 'longitude': -9...          [delivery]   \n",
       "\n",
       "                                            location         phone  \\\n",
       "0  {'address1': None, 'address2': None, 'address3...  +13463101372   \n",
       "1  {'address1': '1514 B Trammel', 'address2': '',...  +18329160227   \n",
       "2  {'address1': '2304-2428 Texas Pkwy', 'address2...  +12812612264   \n",
       "3  {'address1': '3040 Cr 48', 'address2': '', 'ad...  +12816150496   \n",
       "4  {'address1': '2300 Smith Ranch Rd', 'address2'...  +12817413289   \n",
       "\n",
       "    display_phone     distance price  \n",
       "0  (346) 310-1372  7320.022096   NaN  \n",
       "1  (832) 916-0227   660.375100   NaN  \n",
       "2  (281) 261-2264  8376.697777   NaN  \n",
       "3  (281) 615-0496  5096.971199   NaN  \n",
       "4  (281) 741-3289  8888.390692    $$  "
      ]
     },
     "execution_count": 26,
     "metadata": {},
     "output_type": "execute_result"
    }
   ],
   "source": [
    "df.head()"
   ]
  },
  {
   "cell_type": "code",
   "execution_count": 27,
   "metadata": {},
   "outputs": [
    {
     "name": "stdout",
     "output_type": "stream",
     "text": [
      "<class 'pandas.core.frame.DataFrame'>\n",
      "RangeIndex: 189 entries, 0 to 188\n",
      "Data columns (total 16 columns):\n",
      " #   Column         Non-Null Count  Dtype  \n",
      "---  ------         --------------  -----  \n",
      " 0   id             189 non-null    object \n",
      " 1   alias          189 non-null    object \n",
      " 2   name           189 non-null    object \n",
      " 3   image_url      189 non-null    object \n",
      " 4   is_closed      189 non-null    bool   \n",
      " 5   url            189 non-null    object \n",
      " 6   review_count   189 non-null    int64  \n",
      " 7   categories     189 non-null    object \n",
      " 8   rating         189 non-null    float64\n",
      " 9   coordinates    189 non-null    object \n",
      " 10  transactions   189 non-null    object \n",
      " 11  location       189 non-null    object \n",
      " 12  phone          189 non-null    object \n",
      " 13  display_phone  189 non-null    object \n",
      " 14  distance       189 non-null    float64\n",
      " 15  price          150 non-null    object \n",
      "dtypes: bool(1), float64(2), int64(1), object(12)\n",
      "memory usage: 22.5+ KB\n"
     ]
    }
   ],
   "source": [
    "df.info()"
   ]
  },
  {
   "cell_type": "code",
   "execution_count": 28,
   "metadata": {},
   "outputs": [
    {
     "data": {
      "text/plain": [
       "'Data/Fresno-barbecue.csv.gz'"
      ]
     },
     "execution_count": 28,
     "metadata": {},
     "output_type": "execute_result"
    }
   ],
   "source": [
    "## convert the filename to a .csv.gz\n",
    "csv_file = JSON_FILE.replace('.json','.csv.gz')\n",
    "csv_file"
   ]
  },
  {
   "cell_type": "code",
   "execution_count": 29,
   "metadata": {},
   "outputs": [],
   "source": [
    "## Save it as a compressed csv (to save space)\n",
    "df.to_csv(csv_file, compression = 'gzip', index = False)"
   ]
  },
  {
   "cell_type": "markdown",
   "metadata": {},
   "source": [
    "## Bonus: compare filesize with os module's `os.path.getsize`"
   ]
  },
  {
   "cell_type": "code",
   "execution_count": 30,
   "metadata": {},
   "outputs": [
    {
     "name": "stdout",
     "output_type": "stream",
     "text": [
      "JSON FILE: 186,562 Bytes\n",
      "CSV.GZ FILE: 26,049 Bytes\n",
      "the csv.gz is 7.161963990940151 times smaller!\n"
     ]
    }
   ],
   "source": [
    "size_json = os.path.getsize(JSON_FILE)\n",
    "size_csv_gz = os.path.getsize(JSON_FILE.replace('.json','.csv.gz'))\n",
    "\n",
    "print(f'JSON FILE: {size_json:,} Bytes')\n",
    "print(f'CSV.GZ FILE: {size_csv_gz:,} Bytes')\n",
    "\n",
    "print(f'the csv.gz is {size_json/size_csv_gz} times smaller!')"
   ]
  },
  {
   "cell_type": "markdown",
   "metadata": {},
   "source": [
    "## Next Class: Processing the Results and Mapping "
   ]
  },
  {
   "cell_type": "code",
   "execution_count": null,
   "metadata": {},
   "outputs": [],
   "source": []
  }
 ],
 "metadata": {
  "colab": {
   "collapsed_sections": [],
   "name": "Test Yelp API Package.ipynb",
   "provenance": []
  },
  "kernelspec": {
   "display_name": "Python (dojo-env)",
   "language": "python",
   "name": "dojo-env"
  },
  "language_info": {
   "codemirror_mode": {
    "name": "ipython",
    "version": 3
   },
   "file_extension": ".py",
   "mimetype": "text/x-python",
   "name": "python",
   "nbconvert_exporter": "python",
   "pygments_lexer": "ipython3",
   "version": "3.10.10"
  },
  "toc": {
   "base_numbering": 1,
   "nav_menu": {},
   "number_sections": false,
   "sideBar": true,
   "skip_h1_title": false,
   "title_cell": "Table of Contents",
   "title_sidebar": "Contents",
   "toc_cell": false,
   "toc_position": {},
   "toc_section_display": true,
   "toc_window_display": true
  },
  "widgets": {
   "application/vnd.jupyter.widget-state+json": {
    "state": {
     "043b5b6a97dc43818262bf818314bedc": {
      "model_module": "@jupyter-widgets/base",
      "model_module_version": "2.0.0",
      "model_name": "LayoutModel",
      "state": {}
     },
     "0a62e846ea1740e9b3850a9ff3a9dc18": {
      "model_module": "@jupyter-widgets/controls",
      "model_module_version": "2.0.0",
      "model_name": "FloatProgressModel",
      "state": {
       "bar_style": "success",
       "layout": "IPY_MODEL_70c27dc6f87c425fac0296cba9d52614",
       "max": 10,
       "style": "IPY_MODEL_5becfac6bc3b463a93e30a9645d0aaea",
       "value": 10
      }
     },
     "2ee9d8c5c1e14ed2b661271e950874ab": {
      "model_module": "@jupyter-widgets/base",
      "model_module_version": "2.0.0",
      "model_name": "LayoutModel",
      "state": {}
     },
     "3e9c62407c804793949e26eb65d085fd": {
      "model_module": "@jupyter-widgets/base",
      "model_module_version": "2.0.0",
      "model_name": "LayoutModel",
      "state": {}
     },
     "40a4a6f60f324b418bfddf9e425ef498": {
      "model_module": "@jupyter-widgets/controls",
      "model_module_version": "2.0.0",
      "model_name": "HTMLStyleModel",
      "state": {
       "description_width": "",
       "font_size": null,
       "text_color": null
      }
     },
     "443b163cc29c44a4a47063a56f922654": {
      "model_module": "@jupyter-widgets/controls",
      "model_module_version": "2.0.0",
      "model_name": "HBoxModel",
      "state": {
       "children": [
        "IPY_MODEL_f82714588199447daa71f453f855e879",
        "IPY_MODEL_0a62e846ea1740e9b3850a9ff3a9dc18",
        "IPY_MODEL_84e058a99a4145d099eaf9146f6cf94e"
       ],
       "layout": "IPY_MODEL_2ee9d8c5c1e14ed2b661271e950874ab"
      }
     },
     "5becfac6bc3b463a93e30a9645d0aaea": {
      "model_module": "@jupyter-widgets/controls",
      "model_module_version": "2.0.0",
      "model_name": "ProgressStyleModel",
      "state": {
       "description_width": ""
      }
     },
     "70c27dc6f87c425fac0296cba9d52614": {
      "model_module": "@jupyter-widgets/base",
      "model_module_version": "2.0.0",
      "model_name": "LayoutModel",
      "state": {}
     },
     "84e058a99a4145d099eaf9146f6cf94e": {
      "model_module": "@jupyter-widgets/controls",
      "model_module_version": "2.0.0",
      "model_name": "HTMLModel",
      "state": {
       "layout": "IPY_MODEL_043b5b6a97dc43818262bf818314bedc",
       "style": "IPY_MODEL_e581cd62c84b4d4b84ddee8083a8f68a",
       "value": " 10/10 [00:08&lt;00:00,  1.14it/s]"
      }
     },
     "e581cd62c84b4d4b84ddee8083a8f68a": {
      "model_module": "@jupyter-widgets/controls",
      "model_module_version": "2.0.0",
      "model_name": "HTMLStyleModel",
      "state": {
       "description_width": "",
       "font_size": null,
       "text_color": null
      }
     },
     "f82714588199447daa71f453f855e879": {
      "model_module": "@jupyter-widgets/controls",
      "model_module_version": "2.0.0",
      "model_name": "HTMLModel",
      "state": {
       "layout": "IPY_MODEL_3e9c62407c804793949e26eb65d085fd",
       "style": "IPY_MODEL_40a4a6f60f324b418bfddf9e425ef498",
       "value": "100%"
      }
     }
    },
    "version_major": 2,
    "version_minor": 0
   }
  }
 },
 "nbformat": 4,
 "nbformat_minor": 4
}
