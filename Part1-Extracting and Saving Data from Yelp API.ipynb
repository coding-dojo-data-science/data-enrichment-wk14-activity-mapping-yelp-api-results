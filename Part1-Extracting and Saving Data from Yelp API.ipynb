{
 "cells": [
  {
   "cell_type": "markdown",
   "metadata": {
    "id": "8guYh-VR7nlX"
   },
   "source": [
    "# Part 1 - Extracting and Saving Data from Yelp API"
   ]
  },
  {
   "cell_type": "markdown",
   "metadata": {},
   "source": [
    "## Obective"
   ]
  },
  {
   "cell_type": "markdown",
   "metadata": {
    "id": "8guYh-VR7nlX"
   },
   "source": [
    "- For this CodeAlong, we will be working with the Yelp API. \n",
    "- You will use the the Yelp API to search your home town for a cuisine type of your choice.\n",
    "- Next class, we will then use Plotly Express to create a map with the Mapbox API to visualize the results.\n",
    "    \n",
    "    "
   ]
  },
  {
   "cell_type": "markdown",
   "metadata": {
    "id": "8guYh-VR7nlX"
   },
   "source": [
    "## Tools You Will Use\n",
    "- Part 1:\n",
    "    - Yelp API:\n",
    "        - Getting Started: \n",
    "            - https://www.yelp.com/developers/documentation/v3/get_started\n",
    "\n",
    "    - `YelpAPI` python package\n",
    "        -  \"YelpAPI\": https://github.com/gfairchild/yelpapi\n",
    "- Part 2:\n",
    "\n",
    "    - Plotly Express: https://plotly.com/python/getting-started/\n",
    "        - With Mapbox API: https://www.mapbox.com/\n",
    "        - `px.scatter_mapbox` [Documentation](https://plotly.com/python/scattermapbox/): \n",
    "\n",
    "\n"
   ]
  },
  {
   "cell_type": "markdown",
   "metadata": {},
   "source": [
    "### Applying Code From\n",
    "- Efficient API Calls Lesson Link: https://login.codingdojo.com/m/376/12529/88078"
   ]
  },
  {
   "cell_type": "code",
   "execution_count": 1,
   "metadata": {},
   "outputs": [],
   "source": [
    "# Standard Imports\n",
    "import numpy as np\n",
    "import pandas as pd\n",
    "import matplotlib.pyplot as plt\n",
    "import seaborn as sns\n",
    "\n",
    "# Additional Imports\n",
    "import os, json, math, time\n",
    "from yelpapi import YelpAPI\n",
    "from tqdm.notebook import tqdm_notebook"
   ]
  },
  {
   "cell_type": "code",
   "execution_count": 2,
   "metadata": {},
   "outputs": [
    {
     "name": "stdout",
     "output_type": "stream",
     "text": [
      "Requirement already satisfied: yelpapi in /opt/homebrew/Caskroom/miniforge/base/envs/dojo-env/lib/python3.8/site-packages (2.4.0)\r\n",
      "Requirement already satisfied: requests in /opt/homebrew/Caskroom/miniforge/base/envs/dojo-env/lib/python3.8/site-packages (from yelpapi) (2.28.1)\r\n",
      "Requirement already satisfied: certifi>=2017.4.17 in /opt/homebrew/Caskroom/miniforge/base/envs/dojo-env/lib/python3.8/site-packages (from requests->yelpapi) (2022.6.15)\r\n",
      "Requirement already satisfied: urllib3<1.27,>=1.21.1 in /opt/homebrew/Caskroom/miniforge/base/envs/dojo-env/lib/python3.8/site-packages (from requests->yelpapi) (1.26.8)\r\n",
      "Requirement already satisfied: charset-normalizer<3,>=2 in /opt/homebrew/Caskroom/miniforge/base/envs/dojo-env/lib/python3.8/site-packages (from requests->yelpapi) (2.1.0)\r\n",
      "Requirement already satisfied: idna<4,>=2.5 in /opt/homebrew/Caskroom/miniforge/base/envs/dojo-env/lib/python3.8/site-packages (from requests->yelpapi) (3.3)\r\n"
     ]
    }
   ],
   "source": [
    "!pip install yelpapi"
   ]
  },
  {
   "cell_type": "markdown",
   "metadata": {
    "id": "1l3Z-79nBSX9"
   },
   "source": [
    "## 1. Registering for Required APIs"
   ]
  },
  {
   "cell_type": "markdown",
   "metadata": {
    "id": "1l3Z-79nBSX9"
   },
   "source": [
    "\n",
    "- Yelp: https://www.yelp.com/developers/documentation/v3/get_started\n"
   ]
  },
  {
   "cell_type": "markdown",
   "metadata": {},
   "source": [
    "> Check the official API documentation to know what arguments we can search for: https://www.yelp.com/developers/documentation/v3/business_search"
   ]
  },
  {
   "cell_type": "markdown",
   "metadata": {},
   "source": [
    "### Load Credentials and Create Yelp API Object"
   ]
  },
  {
   "cell_type": "code",
   "execution_count": 2,
   "metadata": {
    "ExecuteTime": {
     "end_time": "2022-03-25T18:20:46.629934Z",
     "start_time": "2022-03-25T18:20:45.915864Z"
    },
    "colab": {
     "base_uri": "https://localhost:8080/"
    },
    "id": "xJYqVvNkE36a",
    "outputId": "67798160-dea2-41fc-9040-2b3833efa560"
   },
   "outputs": [],
   "source": [
    "# Load API Credentials\n",
    "with open('/Users/purvikansara/.secret/yelp_api.json','r') as f:\n",
    "    login = json.load(f)\n",
    "# with open('/Users/purvikansara/.secret/yelp_api.json') as f:\n",
    "#     login = json.load(f)\n",
    "# login.keys()"
   ]
  },
  {
   "cell_type": "code",
   "execution_count": 3,
   "metadata": {},
   "outputs": [
    {
     "data": {
      "text/plain": [
       "dict_keys(['Client-ID', 'API Key'])"
      ]
     },
     "execution_count": 3,
     "metadata": {},
     "output_type": "execute_result"
    }
   ],
   "source": [
    "login.keys()"
   ]
  },
  {
   "cell_type": "code",
   "execution_count": 4,
   "metadata": {},
   "outputs": [],
   "source": [
    "# Instantiate YelpAPI Variable\n",
    "yelp = YelpAPI(login['API Key'],timeout_s= 5.0)"
   ]
  },
  {
   "cell_type": "markdown",
   "metadata": {},
   "source": [
    "### Define Search Terms and File Paths"
   ]
  },
  {
   "cell_type": "code",
   "execution_count": 5,
   "metadata": {},
   "outputs": [],
   "source": [
    "# set our API call parameters and filename before the first call\n",
    "location = 'Seattle, WA 98122'\n",
    "term = 'pizza'\n"
   ]
  },
  {
   "cell_type": "code",
   "execution_count": 6,
   "metadata": {},
   "outputs": [],
   "source": [
    "## Specify fodler for saving data\n",
    "FOLDER = 'Data/'\n",
    "os.makedirs(FOLDER,exist_ok=True)"
   ]
  },
  {
   "cell_type": "code",
   "execution_count": 7,
   "metadata": {},
   "outputs": [
    {
     "data": {
      "text/plain": [
       "'Seattle'"
      ]
     },
     "execution_count": 7,
     "metadata": {},
     "output_type": "execute_result"
    }
   ],
   "source": [
    "location.split(',')[0]"
   ]
  },
  {
   "cell_type": "code",
   "execution_count": 8,
   "metadata": {},
   "outputs": [],
   "source": [
    "# Specifying JSON_FILE filename (can include a folder)\n",
    "JSON_FILE = FOLDER+f\"{location.split(',')[0]}-{term}.json\""
   ]
  },
  {
   "cell_type": "code",
   "execution_count": 9,
   "metadata": {},
   "outputs": [
    {
     "data": {
      "text/plain": [
       "'Data/Seattle-pizza.json'"
      ]
     },
     "execution_count": 9,
     "metadata": {},
     "output_type": "execute_result"
    }
   ],
   "source": [
    "JSON_FILE"
   ]
  },
  {
   "cell_type": "markdown",
   "metadata": {},
   "source": [
    "### Check if Json File exists and Create it if it doesn't"
   ]
  },
  {
   "cell_type": "code",
   "execution_count": 11,
   "metadata": {},
   "outputs": [
    {
     "name": "stdout",
     "output_type": "stream",
     "text": [
      "[i] Data/Seattle-pizza.json not found. Saving empty list to file.\n"
     ]
    }
   ],
   "source": [
    "## Check if JSON_FILE exists\n",
    "file_exists = os.path.isfile(JSON_FILE)\n",
    "\n",
    "## If it does not exist: \n",
    "if file_exists == False:\n",
    "    \n",
    "    ## CREATE ANY NEEDED FOLDERS\n",
    "    # Get the Folder Name only\n",
    "    folder = os.path.dirname(JSON_FILE)\n",
    "    \n",
    "    ## If JSON_FILE included a folder:\n",
    "    if len(folder)>0:\n",
    "        # create the folder\n",
    "        os.makedirs(folder,exist_ok=True)\n",
    "        \n",
    "        \n",
    "    ## INFORM USER AND SAVE EMPTY LIST\n",
    "    print(f\"[i] {JSON_FILE} not found. Saving empty list to file.\")\n",
    "    \n",
    "    \n",
    "    ## save the first page of results\n",
    "    with open(JSON_FILE,'w') as f:\n",
    "        json.dump([],f)  \n",
    "        \n",
    "## If it exists, inform user\n",
    "else:\n",
    "    print(f\"[i] {JSON_FILE} already exists.\")"
   ]
  },
  {
   "cell_type": "markdown",
   "metadata": {},
   "source": [
    "![png](Figures/question.png)"
   ]
  },
  {
   "cell_type": "markdown",
   "metadata": {},
   "source": [
    "### Make the first API call to get the first page of data"
   ]
  },
  {
   "cell_type": "markdown",
   "metadata": {},
   "source": [
    "- We will use this first result to check:\n",
    "    - how many total results there are?\n",
    "    - Where is the actual data we want to save?\n",
    "    - how many results do we get at a time?\n"
   ]
  },
  {
   "cell_type": "code",
   "execution_count": 12,
   "metadata": {},
   "outputs": [],
   "source": [
    "# use our yelp_api variable's search_query method to perform our API call\n",
    "results = yelp.search_query(term =term,location = location)"
   ]
  },
  {
   "cell_type": "code",
   "execution_count": 13,
   "metadata": {},
   "outputs": [
    {
     "data": {
      "text/plain": [
       "dict"
      ]
     },
     "execution_count": 13,
     "metadata": {},
     "output_type": "execute_result"
    }
   ],
   "source": [
    "type(results)"
   ]
  },
  {
   "cell_type": "code",
   "execution_count": 14,
   "metadata": {},
   "outputs": [
    {
     "data": {
      "text/plain": [
       "dict_keys(['businesses', 'total', 'region'])"
      ]
     },
     "execution_count": 14,
     "metadata": {},
     "output_type": "execute_result"
    }
   ],
   "source": [
    "results.keys()"
   ]
  },
  {
   "cell_type": "code",
   "execution_count": 15,
   "metadata": {},
   "outputs": [
    {
     "data": {
      "text/plain": [
       "{'id': 'M9xzvwgK58T0w7wvXedvuQ',\n",
       " 'alias': 'hot-mamas-pizza-seattle',\n",
       " 'name': \"Hot Mama's Pizza\",\n",
       " 'image_url': 'https://s3-media4.fl.yelpcdn.com/bphoto/LEL1qjUtdXO8aUPV9U-WwQ/o.jpg',\n",
       " 'is_closed': False,\n",
       " 'url': 'https://www.yelp.com/biz/hot-mamas-pizza-seattle?adjust_creative=r8Qlusnw5U_OXTmzDH90Ug&utm_campaign=yelp_api_v3&utm_medium=api_v3_business_search&utm_source=r8Qlusnw5U_OXTmzDH90Ug',\n",
       " 'review_count': 957,\n",
       " 'categories': [{'alias': 'pizza', 'title': 'Pizza'}],\n",
       " 'rating': 4.0,\n",
       " 'coordinates': {'latitude': 47.615379179632, 'longitude': -122.32323073437},\n",
       " 'transactions': ['delivery'],\n",
       " 'price': '$',\n",
       " 'location': {'address1': '700 E Pine St',\n",
       "  'address2': '',\n",
       "  'address3': '',\n",
       "  'city': 'Seattle',\n",
       "  'zip_code': '98122',\n",
       "  'country': 'US',\n",
       "  'state': 'WA',\n",
       "  'display_address': ['700 E Pine St', 'Seattle, WA 98122']},\n",
       " 'phone': '+12063226444',\n",
       " 'display_phone': '(206) 322-6444',\n",
       " 'distance': 2080.359405276959}"
      ]
     },
     "execution_count": 15,
     "metadata": {},
     "output_type": "execute_result"
    }
   ],
   "source": [
    "results['businesses'][0]"
   ]
  },
  {
   "cell_type": "code",
   "execution_count": 16,
   "metadata": {},
   "outputs": [
    {
     "data": {
      "text/html": [
       "<div>\n",
       "<style scoped>\n",
       "    .dataframe tbody tr th:only-of-type {\n",
       "        vertical-align: middle;\n",
       "    }\n",
       "\n",
       "    .dataframe tbody tr th {\n",
       "        vertical-align: top;\n",
       "    }\n",
       "\n",
       "    .dataframe thead th {\n",
       "        text-align: right;\n",
       "    }\n",
       "</style>\n",
       "<table border=\"1\" class=\"dataframe\">\n",
       "  <thead>\n",
       "    <tr style=\"text-align: right;\">\n",
       "      <th></th>\n",
       "      <th>id</th>\n",
       "      <th>alias</th>\n",
       "      <th>name</th>\n",
       "      <th>image_url</th>\n",
       "      <th>is_closed</th>\n",
       "      <th>url</th>\n",
       "      <th>review_count</th>\n",
       "      <th>categories</th>\n",
       "      <th>rating</th>\n",
       "      <th>coordinates</th>\n",
       "      <th>transactions</th>\n",
       "      <th>price</th>\n",
       "      <th>location</th>\n",
       "      <th>phone</th>\n",
       "      <th>display_phone</th>\n",
       "      <th>distance</th>\n",
       "    </tr>\n",
       "  </thead>\n",
       "  <tbody>\n",
       "    <tr>\n",
       "      <th>0</th>\n",
       "      <td>M9xzvwgK58T0w7wvXedvuQ</td>\n",
       "      <td>hot-mamas-pizza-seattle</td>\n",
       "      <td>Hot Mama's Pizza</td>\n",
       "      <td>https://s3-media4.fl.yelpcdn.com/bphoto/LEL1qj...</td>\n",
       "      <td>False</td>\n",
       "      <td>https://www.yelp.com/biz/hot-mamas-pizza-seatt...</td>\n",
       "      <td>957</td>\n",
       "      <td>[{'alias': 'pizza', 'title': 'Pizza'}]</td>\n",
       "      <td>4.0</td>\n",
       "      <td>{'latitude': 47.615379179632, 'longitude': -12...</td>\n",
       "      <td>[delivery]</td>\n",
       "      <td>$</td>\n",
       "      <td>{'address1': '700 E Pine St', 'address2': '', ...</td>\n",
       "      <td>+12063226444</td>\n",
       "      <td>(206) 322-6444</td>\n",
       "      <td>2080.359405</td>\n",
       "    </tr>\n",
       "    <tr>\n",
       "      <th>1</th>\n",
       "      <td>t-Z9bvmlgUyDtomGmttrUQ</td>\n",
       "      <td>guerilla-pizza-kitchen-seattle</td>\n",
       "      <td>Guerilla Pizza Kitchen</td>\n",
       "      <td>https://s3-media4.fl.yelpcdn.com/bphoto/uMrdEj...</td>\n",
       "      <td>False</td>\n",
       "      <td>https://www.yelp.com/biz/guerilla-pizza-kitche...</td>\n",
       "      <td>1</td>\n",
       "      <td>[{'alias': 'pizza', 'title': 'Pizza'}, {'alias...</td>\n",
       "      <td>5.0</td>\n",
       "      <td>{'latitude': 47.608127, 'longitude': -122.302435}</td>\n",
       "      <td>[]</td>\n",
       "      <td>NaN</td>\n",
       "      <td>{'address1': '2300 E Cherry St', 'address2': '...</td>\n",
       "      <td></td>\n",
       "      <td></td>\n",
       "      <td>749.173113</td>\n",
       "    </tr>\n",
       "    <tr>\n",
       "      <th>2</th>\n",
       "      <td>EwrAoy7XbX8nfemZdDvupA</td>\n",
       "      <td>cornelly-seattle</td>\n",
       "      <td>Cornelly</td>\n",
       "      <td>https://s3-media4.fl.yelpcdn.com/bphoto/HlYYBT...</td>\n",
       "      <td>False</td>\n",
       "      <td>https://www.yelp.com/biz/cornelly-seattle?adju...</td>\n",
       "      <td>98</td>\n",
       "      <td>[{'alias': 'pizza', 'title': 'Pizza'}, {'alias...</td>\n",
       "      <td>4.5</td>\n",
       "      <td>{'latitude': 47.624577, 'longitude': -122.325577}</td>\n",
       "      <td>[pickup, delivery]</td>\n",
       "      <td>NaN</td>\n",
       "      <td>{'address1': '601 Summit Ave E', 'address2': '...</td>\n",
       "      <td></td>\n",
       "      <td></td>\n",
       "      <td>2578.701393</td>\n",
       "    </tr>\n",
       "    <tr>\n",
       "      <th>3</th>\n",
       "      <td>FVbwpNA1uZEGiM02N4XtUg</td>\n",
       "      <td>blotto-seattle</td>\n",
       "      <td>Blotto</td>\n",
       "      <td>https://s3-media3.fl.yelpcdn.com/bphoto/Q4Y1Cw...</td>\n",
       "      <td>False</td>\n",
       "      <td>https://www.yelp.com/biz/blotto-seattle?adjust...</td>\n",
       "      <td>40</td>\n",
       "      <td>[{'alias': 'pizza', 'title': 'Pizza'}]</td>\n",
       "      <td>4.5</td>\n",
       "      <td>{'latitude': 47.61849, 'longitude': -122.31664}</td>\n",
       "      <td>[]</td>\n",
       "      <td>NaN</td>\n",
       "      <td>{'address1': '1830 12th Ave', 'address2': '', ...</td>\n",
       "      <td>+12064031809</td>\n",
       "      <td>(206) 403-1809</td>\n",
       "      <td>1686.862176</td>\n",
       "    </tr>\n",
       "    <tr>\n",
       "      <th>4</th>\n",
       "      <td>IrohtoYjnAR_vc6w6CRCxA</td>\n",
       "      <td>moto-seattle</td>\n",
       "      <td>Moto</td>\n",
       "      <td>https://s3-media2.fl.yelpcdn.com/bphoto/FBmvjy...</td>\n",
       "      <td>False</td>\n",
       "      <td>https://www.yelp.com/biz/moto-seattle?adjust_c...</td>\n",
       "      <td>134</td>\n",
       "      <td>[{'alias': 'pizza', 'title': 'Pizza'}, {'alias...</td>\n",
       "      <td>4.5</td>\n",
       "      <td>{'latitude': 47.56207, 'longitude': -122.38509}</td>\n",
       "      <td>[delivery]</td>\n",
       "      <td>$$</td>\n",
       "      <td>{'address1': '4526 42nd Ave SW', 'address2': '...</td>\n",
       "      <td>+12064208880</td>\n",
       "      <td>(206) 420-8880</td>\n",
       "      <td>8784.075722</td>\n",
       "    </tr>\n",
       "    <tr>\n",
       "      <th>5</th>\n",
       "      <td>Wi6LFkjIausYj277ru6pqg</td>\n",
       "      <td>humble-pie-seattle</td>\n",
       "      <td>Humble Pie</td>\n",
       "      <td>https://s3-media4.fl.yelpcdn.com/bphoto/A08GOZ...</td>\n",
       "      <td>False</td>\n",
       "      <td>https://www.yelp.com/biz/humble-pie-seattle?ad...</td>\n",
       "      <td>360</td>\n",
       "      <td>[{'alias': 'pizza', 'title': 'Pizza'}]</td>\n",
       "      <td>4.0</td>\n",
       "      <td>{'latitude': 47.5976491915013, 'longitude': -1...</td>\n",
       "      <td>[delivery]</td>\n",
       "      <td>$$</td>\n",
       "      <td>{'address1': '525 Rainier Ave S', 'address2': ...</td>\n",
       "      <td>+12063295133</td>\n",
       "      <td>(206) 329-5133</td>\n",
       "      <td>2166.834011</td>\n",
       "    </tr>\n",
       "    <tr>\n",
       "      <th>6</th>\n",
       "      <td>ugTsEtjvwRhteac_6JcuPw</td>\n",
       "      <td>italian-family-pizza-seattle</td>\n",
       "      <td>Italian Family Pizza</td>\n",
       "      <td>https://s3-media2.fl.yelpcdn.com/bphoto/SgiSrJ...</td>\n",
       "      <td>False</td>\n",
       "      <td>https://www.yelp.com/biz/italian-family-pizza-...</td>\n",
       "      <td>999</td>\n",
       "      <td>[{'alias': 'pizza', 'title': 'Pizza'}, {'alias...</td>\n",
       "      <td>4.0</td>\n",
       "      <td>{'latitude': 47.60937, 'longitude': -122.32546}</td>\n",
       "      <td>[pickup, delivery]</td>\n",
       "      <td>$$</td>\n",
       "      <td>{'address1': '1028 Madison St', 'address2': No...</td>\n",
       "      <td>+12065380040</td>\n",
       "      <td>(206) 538-0040</td>\n",
       "      <td>2271.307105</td>\n",
       "    </tr>\n",
       "    <tr>\n",
       "      <th>7</th>\n",
       "      <td>fxyHWmfzcdjImgQ_UYHoTw</td>\n",
       "      <td>bar-cotto-seattle</td>\n",
       "      <td>Bar Cotto</td>\n",
       "      <td>https://s3-media3.fl.yelpcdn.com/bphoto/07DoPF...</td>\n",
       "      <td>False</td>\n",
       "      <td>https://www.yelp.com/biz/bar-cotto-seattle?adj...</td>\n",
       "      <td>339</td>\n",
       "      <td>[{'alias': 'bars', 'title': 'Bars'}, {'alias':...</td>\n",
       "      <td>4.5</td>\n",
       "      <td>{'latitude': 47.6146934, 'longitude': -122.312...</td>\n",
       "      <td>[pickup, delivery]</td>\n",
       "      <td>$$</td>\n",
       "      <td>{'address1': '1546 15th Ave', 'address2': '', ...</td>\n",
       "      <td>+12068388081</td>\n",
       "      <td>(206) 838-8081</td>\n",
       "      <td>1292.526796</td>\n",
       "    </tr>\n",
       "    <tr>\n",
       "      <th>8</th>\n",
       "      <td>-FOAQv22SXtSBs7nptI3UA</td>\n",
       "      <td>serious-pie-downtown-seattle-2</td>\n",
       "      <td>Serious Pie Downtown</td>\n",
       "      <td>https://s3-media2.fl.yelpcdn.com/bphoto/dy0pJ5...</td>\n",
       "      <td>False</td>\n",
       "      <td>https://www.yelp.com/biz/serious-pie-downtown-...</td>\n",
       "      <td>4472</td>\n",
       "      <td>[{'alias': 'pizza', 'title': 'Pizza'}, {'alias...</td>\n",
       "      <td>4.0</td>\n",
       "      <td>{'latitude': 47.61304626911818, 'longitude': -...</td>\n",
       "      <td>[pickup, delivery]</td>\n",
       "      <td>$$</td>\n",
       "      <td>{'address1': '2001 4th Ave', 'address2': None,...</td>\n",
       "      <td>+12068387388</td>\n",
       "      <td>(206) 838-7388</td>\n",
       "      <td>3348.309276</td>\n",
       "    </tr>\n",
       "    <tr>\n",
       "      <th>9</th>\n",
       "      <td>kVqwgAjEPffEyMJSzpfM_A</td>\n",
       "      <td>pagliacci-pizza-seattle-26</td>\n",
       "      <td>Pagliacci Pizza</td>\n",
       "      <td>https://s3-media3.fl.yelpcdn.com/bphoto/7thHN-...</td>\n",
       "      <td>False</td>\n",
       "      <td>https://www.yelp.com/biz/pagliacci-pizza-seatt...</td>\n",
       "      <td>98</td>\n",
       "      <td>[{'alias': 'pizza', 'title': 'Pizza'}]</td>\n",
       "      <td>3.5</td>\n",
       "      <td>{'latitude': 47.6254949, 'longitude': -122.292...</td>\n",
       "      <td>[delivery]</td>\n",
       "      <td>$$</td>\n",
       "      <td>{'address1': '3015 E Madison St', 'address2': ...</td>\n",
       "      <td>+12067261717</td>\n",
       "      <td>(206) 726-1717</td>\n",
       "      <td>1395.266332</td>\n",
       "    </tr>\n",
       "    <tr>\n",
       "      <th>10</th>\n",
       "      <td>n6BLr6spgjVWqzUwmVx0bg</td>\n",
       "      <td>johnny-mos-pizzeria-seattle</td>\n",
       "      <td>Johnny Mo's Pizzeria</td>\n",
       "      <td>https://s3-media4.fl.yelpcdn.com/bphoto/8IAnDP...</td>\n",
       "      <td>False</td>\n",
       "      <td>https://www.yelp.com/biz/johnny-mos-pizzeria-s...</td>\n",
       "      <td>138</td>\n",
       "      <td>[{'alias': 'pizza', 'title': 'Pizza'}]</td>\n",
       "      <td>4.5</td>\n",
       "      <td>{'latitude': 47.65142, 'longitude': -122.32083}</td>\n",
       "      <td>[pickup, delivery]</td>\n",
       "      <td>$$</td>\n",
       "      <td>{'address1': '3272 Fuhrman Ave E', 'address2':...</td>\n",
       "      <td>+12068226272</td>\n",
       "      <td>(206) 822-6272</td>\n",
       "      <td>4658.301257</td>\n",
       "    </tr>\n",
       "    <tr>\n",
       "      <th>11</th>\n",
       "      <td>et4eWK49x5od4lfqCukG6w</td>\n",
       "      <td>central-pizza-seattle</td>\n",
       "      <td>Central Pizza</td>\n",
       "      <td>https://s3-media4.fl.yelpcdn.com/bphoto/DE4G4e...</td>\n",
       "      <td>False</td>\n",
       "      <td>https://www.yelp.com/biz/central-pizza-seattle...</td>\n",
       "      <td>202</td>\n",
       "      <td>[{'alias': 'bars', 'title': 'Bars'}, {'alias':...</td>\n",
       "      <td>4.0</td>\n",
       "      <td>{'latitude': 47.598976, 'longitude': -122.294685}</td>\n",
       "      <td>[delivery, pickup]</td>\n",
       "      <td>$$</td>\n",
       "      <td>{'address1': '2901 S Jackson St', 'address2': ...</td>\n",
       "      <td>+12066026333</td>\n",
       "      <td>(206) 602-6333</td>\n",
       "      <td>1571.867438</td>\n",
       "    </tr>\n",
       "    <tr>\n",
       "      <th>12</th>\n",
       "      <td>cAFXng3Gr1cBCFkP1VIxng</td>\n",
       "      <td>the-independent-pizzeria-seattle-2</td>\n",
       "      <td>The Independent Pizzeria</td>\n",
       "      <td>https://s3-media4.fl.yelpcdn.com/bphoto/4gIuis...</td>\n",
       "      <td>False</td>\n",
       "      <td>https://www.yelp.com/biz/the-independent-pizze...</td>\n",
       "      <td>181</td>\n",
       "      <td>[{'alias': 'pizza', 'title': 'Pizza'}, {'alias...</td>\n",
       "      <td>4.0</td>\n",
       "      <td>{'latitude': 47.636044, 'longitude': -122.277377}</td>\n",
       "      <td>[delivery]</td>\n",
       "      <td>$$</td>\n",
       "      <td>{'address1': '4235 E Madison St', 'address2': ...</td>\n",
       "      <td>+12068606110</td>\n",
       "      <td>(206) 860-6110</td>\n",
       "      <td>2897.252844</td>\n",
       "    </tr>\n",
       "    <tr>\n",
       "      <th>13</th>\n",
       "      <td>wi-mbKEz4Ha1YYaOB8zHnw</td>\n",
       "      <td>kōbo-pizza-seattle</td>\n",
       "      <td>Kōbo Pizza</td>\n",
       "      <td>https://s3-media1.fl.yelpcdn.com/bphoto/6et4T9...</td>\n",
       "      <td>False</td>\n",
       "      <td>https://www.yelp.com/biz/k%C5%8Dbo-pizza-seatt...</td>\n",
       "      <td>26</td>\n",
       "      <td>[{'alias': 'pizza', 'title': 'Pizza'}]</td>\n",
       "      <td>4.0</td>\n",
       "      <td>{'latitude': 47.6144, 'longitude': -122.32271}</td>\n",
       "      <td>[]</td>\n",
       "      <td>NaN</td>\n",
       "      <td>{'address1': '714 E Pike St', 'address2': None...</td>\n",
       "      <td>+12536930207</td>\n",
       "      <td>(253) 693-0207</td>\n",
       "      <td>2025.139396</td>\n",
       "    </tr>\n",
       "    <tr>\n",
       "      <th>14</th>\n",
       "      <td>GJdmwqqkC0nAQfX1qZM3ew</td>\n",
       "      <td>olympia-pizza-and-spaghetti-house-iii-seattle</td>\n",
       "      <td>Olympia Pizza and Spaghetti House III</td>\n",
       "      <td>https://s3-media1.fl.yelpcdn.com/bphoto/KvTgMA...</td>\n",
       "      <td>False</td>\n",
       "      <td>https://www.yelp.com/biz/olympia-pizza-and-spa...</td>\n",
       "      <td>294</td>\n",
       "      <td>[{'alias': 'pizza', 'title': 'Pizza'}, {'alias...</td>\n",
       "      <td>4.0</td>\n",
       "      <td>{'latitude': 47.62383, 'longitude': -122.312445}</td>\n",
       "      <td>[delivery]</td>\n",
       "      <td>$$</td>\n",
       "      <td>{'address1': '516 15th Ave E', 'address2': '',...</td>\n",
       "      <td>+12063294500</td>\n",
       "      <td>(206) 329-4500</td>\n",
       "      <td>1732.874383</td>\n",
       "    </tr>\n",
       "    <tr>\n",
       "      <th>15</th>\n",
       "      <td>Ss_66zV-zhK_57_6MgV93w</td>\n",
       "      <td>aglio-e-olio-seattle</td>\n",
       "      <td>Aglio e Olio</td>\n",
       "      <td>https://s3-media2.fl.yelpcdn.com/bphoto/inrSl1...</td>\n",
       "      <td>False</td>\n",
       "      <td>https://www.yelp.com/biz/aglio-e-olio-seattle?...</td>\n",
       "      <td>272</td>\n",
       "      <td>[{'alias': 'italian', 'title': 'Italian'}, {'a...</td>\n",
       "      <td>4.5</td>\n",
       "      <td>{'latitude': 47.62328027309258, 'longitude': -...</td>\n",
       "      <td>[delivery]</td>\n",
       "      <td>$$</td>\n",
       "      <td>{'address1': '2743 E Madison St', 'address2': ...</td>\n",
       "      <td></td>\n",
       "      <td></td>\n",
       "      <td>1132.743207</td>\n",
       "    </tr>\n",
       "    <tr>\n",
       "      <th>16</th>\n",
       "      <td>bkA3jfO2ej3pjAUMZWihGg</td>\n",
       "      <td>pagliacci-pizza-seattle-32</td>\n",
       "      <td>Pagliacci Pizza</td>\n",
       "      <td>https://s3-media1.fl.yelpcdn.com/bphoto/7EHIhi...</td>\n",
       "      <td>False</td>\n",
       "      <td>https://www.yelp.com/biz/pagliacci-pizza-seatt...</td>\n",
       "      <td>40</td>\n",
       "      <td>[{'alias': 'pizza', 'title': 'Pizza'}]</td>\n",
       "      <td>4.0</td>\n",
       "      <td>{'latitude': 47.613922, 'longitude': -122.326006}</td>\n",
       "      <td>[]</td>\n",
       "      <td>NaN</td>\n",
       "      <td>{'address1': '415 E Pike St', 'address2': '', ...</td>\n",
       "      <td>+12067261717</td>\n",
       "      <td>(206) 726-1717</td>\n",
       "      <td>2274.720678</td>\n",
       "    </tr>\n",
       "    <tr>\n",
       "      <th>17</th>\n",
       "      <td>HeJP0ZS0tCCn-X9ezYSz3g</td>\n",
       "      <td>ian-s-pizza-on-the-hill-seattle</td>\n",
       "      <td>Ian’s Pizza on the Hill</td>\n",
       "      <td>https://s3-media1.fl.yelpcdn.com/bphoto/gD-SKu...</td>\n",
       "      <td>False</td>\n",
       "      <td>https://www.yelp.com/biz/ian-s-pizza-on-the-hi...</td>\n",
       "      <td>297</td>\n",
       "      <td>[{'alias': 'pizza', 'title': 'Pizza'}, {'alias...</td>\n",
       "      <td>4.0</td>\n",
       "      <td>{'latitude': 47.615894, 'longitude': -122.320476}</td>\n",
       "      <td>[delivery, pickup]</td>\n",
       "      <td>$</td>\n",
       "      <td>{'address1': '1620 Broadway', 'address2': '', ...</td>\n",
       "      <td>+12066594721</td>\n",
       "      <td>(206) 659-4721</td>\n",
       "      <td>1884.178031</td>\n",
       "    </tr>\n",
       "    <tr>\n",
       "      <th>18</th>\n",
       "      <td>PpAiLhErwd08QhPb06_-hA</td>\n",
       "      <td>mioposto-seattle-7</td>\n",
       "      <td>Mioposto</td>\n",
       "      <td>https://s3-media1.fl.yelpcdn.com/bphoto/gWBw_l...</td>\n",
       "      <td>False</td>\n",
       "      <td>https://www.yelp.com/biz/mioposto-seattle-7?ad...</td>\n",
       "      <td>393</td>\n",
       "      <td>[{'alias': 'italian', 'title': 'Italian'}, {'a...</td>\n",
       "      <td>4.0</td>\n",
       "      <td>{'latitude': 47.57802, 'longitude': -122.28808}</td>\n",
       "      <td>[pickup, delivery]</td>\n",
       "      <td>$$</td>\n",
       "      <td>{'address1': '3601 S McClellan St', 'address2'...</td>\n",
       "      <td>+12067603400</td>\n",
       "      <td>(206) 760-3400</td>\n",
       "      <td>3941.663432</td>\n",
       "    </tr>\n",
       "    <tr>\n",
       "      <th>19</th>\n",
       "      <td>1rkgyfwzXG7qSdVZdfRt7g</td>\n",
       "      <td>roccos-seattle</td>\n",
       "      <td>Rocco's</td>\n",
       "      <td>https://s3-media3.fl.yelpcdn.com/bphoto/AWBXTE...</td>\n",
       "      <td>False</td>\n",
       "      <td>https://www.yelp.com/biz/roccos-seattle?adjust...</td>\n",
       "      <td>1733</td>\n",
       "      <td>[{'alias': 'bars', 'title': 'Bars'}, {'alias':...</td>\n",
       "      <td>4.0</td>\n",
       "      <td>{'latitude': 47.614470434736106, 'longitude': ...</td>\n",
       "      <td>[pickup, delivery]</td>\n",
       "      <td>$$</td>\n",
       "      <td>{'address1': '2312 2nd Ave', 'address2': '', '...</td>\n",
       "      <td>+12063974210</td>\n",
       "      <td>(206) 397-4210</td>\n",
       "      <td>3779.508800</td>\n",
       "    </tr>\n",
       "  </tbody>\n",
       "</table>\n",
       "</div>"
      ],
      "text/plain": [
       "                        id                                          alias  \\\n",
       "0   M9xzvwgK58T0w7wvXedvuQ                        hot-mamas-pizza-seattle   \n",
       "1   t-Z9bvmlgUyDtomGmttrUQ                 guerilla-pizza-kitchen-seattle   \n",
       "2   EwrAoy7XbX8nfemZdDvupA                               cornelly-seattle   \n",
       "3   FVbwpNA1uZEGiM02N4XtUg                                 blotto-seattle   \n",
       "4   IrohtoYjnAR_vc6w6CRCxA                                   moto-seattle   \n",
       "5   Wi6LFkjIausYj277ru6pqg                             humble-pie-seattle   \n",
       "6   ugTsEtjvwRhteac_6JcuPw                   italian-family-pizza-seattle   \n",
       "7   fxyHWmfzcdjImgQ_UYHoTw                              bar-cotto-seattle   \n",
       "8   -FOAQv22SXtSBs7nptI3UA                 serious-pie-downtown-seattle-2   \n",
       "9   kVqwgAjEPffEyMJSzpfM_A                     pagliacci-pizza-seattle-26   \n",
       "10  n6BLr6spgjVWqzUwmVx0bg                    johnny-mos-pizzeria-seattle   \n",
       "11  et4eWK49x5od4lfqCukG6w                          central-pizza-seattle   \n",
       "12  cAFXng3Gr1cBCFkP1VIxng             the-independent-pizzeria-seattle-2   \n",
       "13  wi-mbKEz4Ha1YYaOB8zHnw                             kōbo-pizza-seattle   \n",
       "14  GJdmwqqkC0nAQfX1qZM3ew  olympia-pizza-and-spaghetti-house-iii-seattle   \n",
       "15  Ss_66zV-zhK_57_6MgV93w                           aglio-e-olio-seattle   \n",
       "16  bkA3jfO2ej3pjAUMZWihGg                     pagliacci-pizza-seattle-32   \n",
       "17  HeJP0ZS0tCCn-X9ezYSz3g                ian-s-pizza-on-the-hill-seattle   \n",
       "18  PpAiLhErwd08QhPb06_-hA                             mioposto-seattle-7   \n",
       "19  1rkgyfwzXG7qSdVZdfRt7g                                 roccos-seattle   \n",
       "\n",
       "                                     name  \\\n",
       "0                        Hot Mama's Pizza   \n",
       "1                  Guerilla Pizza Kitchen   \n",
       "2                                Cornelly   \n",
       "3                                  Blotto   \n",
       "4                                    Moto   \n",
       "5                              Humble Pie   \n",
       "6                    Italian Family Pizza   \n",
       "7                               Bar Cotto   \n",
       "8                    Serious Pie Downtown   \n",
       "9                         Pagliacci Pizza   \n",
       "10                   Johnny Mo's Pizzeria   \n",
       "11                          Central Pizza   \n",
       "12               The Independent Pizzeria   \n",
       "13                             Kōbo Pizza   \n",
       "14  Olympia Pizza and Spaghetti House III   \n",
       "15                           Aglio e Olio   \n",
       "16                        Pagliacci Pizza   \n",
       "17                Ian’s Pizza on the Hill   \n",
       "18                               Mioposto   \n",
       "19                                Rocco's   \n",
       "\n",
       "                                            image_url  is_closed  \\\n",
       "0   https://s3-media4.fl.yelpcdn.com/bphoto/LEL1qj...      False   \n",
       "1   https://s3-media4.fl.yelpcdn.com/bphoto/uMrdEj...      False   \n",
       "2   https://s3-media4.fl.yelpcdn.com/bphoto/HlYYBT...      False   \n",
       "3   https://s3-media3.fl.yelpcdn.com/bphoto/Q4Y1Cw...      False   \n",
       "4   https://s3-media2.fl.yelpcdn.com/bphoto/FBmvjy...      False   \n",
       "5   https://s3-media4.fl.yelpcdn.com/bphoto/A08GOZ...      False   \n",
       "6   https://s3-media2.fl.yelpcdn.com/bphoto/SgiSrJ...      False   \n",
       "7   https://s3-media3.fl.yelpcdn.com/bphoto/07DoPF...      False   \n",
       "8   https://s3-media2.fl.yelpcdn.com/bphoto/dy0pJ5...      False   \n",
       "9   https://s3-media3.fl.yelpcdn.com/bphoto/7thHN-...      False   \n",
       "10  https://s3-media4.fl.yelpcdn.com/bphoto/8IAnDP...      False   \n",
       "11  https://s3-media4.fl.yelpcdn.com/bphoto/DE4G4e...      False   \n",
       "12  https://s3-media4.fl.yelpcdn.com/bphoto/4gIuis...      False   \n",
       "13  https://s3-media1.fl.yelpcdn.com/bphoto/6et4T9...      False   \n",
       "14  https://s3-media1.fl.yelpcdn.com/bphoto/KvTgMA...      False   \n",
       "15  https://s3-media2.fl.yelpcdn.com/bphoto/inrSl1...      False   \n",
       "16  https://s3-media1.fl.yelpcdn.com/bphoto/7EHIhi...      False   \n",
       "17  https://s3-media1.fl.yelpcdn.com/bphoto/gD-SKu...      False   \n",
       "18  https://s3-media1.fl.yelpcdn.com/bphoto/gWBw_l...      False   \n",
       "19  https://s3-media3.fl.yelpcdn.com/bphoto/AWBXTE...      False   \n",
       "\n",
       "                                                  url  review_count  \\\n",
       "0   https://www.yelp.com/biz/hot-mamas-pizza-seatt...           957   \n",
       "1   https://www.yelp.com/biz/guerilla-pizza-kitche...             1   \n",
       "2   https://www.yelp.com/biz/cornelly-seattle?adju...            98   \n",
       "3   https://www.yelp.com/biz/blotto-seattle?adjust...            40   \n",
       "4   https://www.yelp.com/biz/moto-seattle?adjust_c...           134   \n",
       "5   https://www.yelp.com/biz/humble-pie-seattle?ad...           360   \n",
       "6   https://www.yelp.com/biz/italian-family-pizza-...           999   \n",
       "7   https://www.yelp.com/biz/bar-cotto-seattle?adj...           339   \n",
       "8   https://www.yelp.com/biz/serious-pie-downtown-...          4472   \n",
       "9   https://www.yelp.com/biz/pagliacci-pizza-seatt...            98   \n",
       "10  https://www.yelp.com/biz/johnny-mos-pizzeria-s...           138   \n",
       "11  https://www.yelp.com/biz/central-pizza-seattle...           202   \n",
       "12  https://www.yelp.com/biz/the-independent-pizze...           181   \n",
       "13  https://www.yelp.com/biz/k%C5%8Dbo-pizza-seatt...            26   \n",
       "14  https://www.yelp.com/biz/olympia-pizza-and-spa...           294   \n",
       "15  https://www.yelp.com/biz/aglio-e-olio-seattle?...           272   \n",
       "16  https://www.yelp.com/biz/pagliacci-pizza-seatt...            40   \n",
       "17  https://www.yelp.com/biz/ian-s-pizza-on-the-hi...           297   \n",
       "18  https://www.yelp.com/biz/mioposto-seattle-7?ad...           393   \n",
       "19  https://www.yelp.com/biz/roccos-seattle?adjust...          1733   \n",
       "\n",
       "                                           categories  rating  \\\n",
       "0              [{'alias': 'pizza', 'title': 'Pizza'}]     4.0   \n",
       "1   [{'alias': 'pizza', 'title': 'Pizza'}, {'alias...     5.0   \n",
       "2   [{'alias': 'pizza', 'title': 'Pizza'}, {'alias...     4.5   \n",
       "3              [{'alias': 'pizza', 'title': 'Pizza'}]     4.5   \n",
       "4   [{'alias': 'pizza', 'title': 'Pizza'}, {'alias...     4.5   \n",
       "5              [{'alias': 'pizza', 'title': 'Pizza'}]     4.0   \n",
       "6   [{'alias': 'pizza', 'title': 'Pizza'}, {'alias...     4.0   \n",
       "7   [{'alias': 'bars', 'title': 'Bars'}, {'alias':...     4.5   \n",
       "8   [{'alias': 'pizza', 'title': 'Pizza'}, {'alias...     4.0   \n",
       "9              [{'alias': 'pizza', 'title': 'Pizza'}]     3.5   \n",
       "10             [{'alias': 'pizza', 'title': 'Pizza'}]     4.5   \n",
       "11  [{'alias': 'bars', 'title': 'Bars'}, {'alias':...     4.0   \n",
       "12  [{'alias': 'pizza', 'title': 'Pizza'}, {'alias...     4.0   \n",
       "13             [{'alias': 'pizza', 'title': 'Pizza'}]     4.0   \n",
       "14  [{'alias': 'pizza', 'title': 'Pizza'}, {'alias...     4.0   \n",
       "15  [{'alias': 'italian', 'title': 'Italian'}, {'a...     4.5   \n",
       "16             [{'alias': 'pizza', 'title': 'Pizza'}]     4.0   \n",
       "17  [{'alias': 'pizza', 'title': 'Pizza'}, {'alias...     4.0   \n",
       "18  [{'alias': 'italian', 'title': 'Italian'}, {'a...     4.0   \n",
       "19  [{'alias': 'bars', 'title': 'Bars'}, {'alias':...     4.0   \n",
       "\n",
       "                                          coordinates        transactions  \\\n",
       "0   {'latitude': 47.615379179632, 'longitude': -12...          [delivery]   \n",
       "1   {'latitude': 47.608127, 'longitude': -122.302435}                  []   \n",
       "2   {'latitude': 47.624577, 'longitude': -122.325577}  [pickup, delivery]   \n",
       "3     {'latitude': 47.61849, 'longitude': -122.31664}                  []   \n",
       "4     {'latitude': 47.56207, 'longitude': -122.38509}          [delivery]   \n",
       "5   {'latitude': 47.5976491915013, 'longitude': -1...          [delivery]   \n",
       "6     {'latitude': 47.60937, 'longitude': -122.32546}  [pickup, delivery]   \n",
       "7   {'latitude': 47.6146934, 'longitude': -122.312...  [pickup, delivery]   \n",
       "8   {'latitude': 47.61304626911818, 'longitude': -...  [pickup, delivery]   \n",
       "9   {'latitude': 47.6254949, 'longitude': -122.292...          [delivery]   \n",
       "10    {'latitude': 47.65142, 'longitude': -122.32083}  [pickup, delivery]   \n",
       "11  {'latitude': 47.598976, 'longitude': -122.294685}  [delivery, pickup]   \n",
       "12  {'latitude': 47.636044, 'longitude': -122.277377}          [delivery]   \n",
       "13     {'latitude': 47.6144, 'longitude': -122.32271}                  []   \n",
       "14   {'latitude': 47.62383, 'longitude': -122.312445}          [delivery]   \n",
       "15  {'latitude': 47.62328027309258, 'longitude': -...          [delivery]   \n",
       "16  {'latitude': 47.613922, 'longitude': -122.326006}                  []   \n",
       "17  {'latitude': 47.615894, 'longitude': -122.320476}  [delivery, pickup]   \n",
       "18    {'latitude': 47.57802, 'longitude': -122.28808}  [pickup, delivery]   \n",
       "19  {'latitude': 47.614470434736106, 'longitude': ...  [pickup, delivery]   \n",
       "\n",
       "   price                                           location         phone  \\\n",
       "0      $  {'address1': '700 E Pine St', 'address2': '', ...  +12063226444   \n",
       "1    NaN  {'address1': '2300 E Cherry St', 'address2': '...                 \n",
       "2    NaN  {'address1': '601 Summit Ave E', 'address2': '...                 \n",
       "3    NaN  {'address1': '1830 12th Ave', 'address2': '', ...  +12064031809   \n",
       "4     $$  {'address1': '4526 42nd Ave SW', 'address2': '...  +12064208880   \n",
       "5     $$  {'address1': '525 Rainier Ave S', 'address2': ...  +12063295133   \n",
       "6     $$  {'address1': '1028 Madison St', 'address2': No...  +12065380040   \n",
       "7     $$  {'address1': '1546 15th Ave', 'address2': '', ...  +12068388081   \n",
       "8     $$  {'address1': '2001 4th Ave', 'address2': None,...  +12068387388   \n",
       "9     $$  {'address1': '3015 E Madison St', 'address2': ...  +12067261717   \n",
       "10    $$  {'address1': '3272 Fuhrman Ave E', 'address2':...  +12068226272   \n",
       "11    $$  {'address1': '2901 S Jackson St', 'address2': ...  +12066026333   \n",
       "12    $$  {'address1': '4235 E Madison St', 'address2': ...  +12068606110   \n",
       "13   NaN  {'address1': '714 E Pike St', 'address2': None...  +12536930207   \n",
       "14    $$  {'address1': '516 15th Ave E', 'address2': '',...  +12063294500   \n",
       "15    $$  {'address1': '2743 E Madison St', 'address2': ...                 \n",
       "16   NaN  {'address1': '415 E Pike St', 'address2': '', ...  +12067261717   \n",
       "17     $  {'address1': '1620 Broadway', 'address2': '', ...  +12066594721   \n",
       "18    $$  {'address1': '3601 S McClellan St', 'address2'...  +12067603400   \n",
       "19    $$  {'address1': '2312 2nd Ave', 'address2': '', '...  +12063974210   \n",
       "\n",
       "     display_phone     distance  \n",
       "0   (206) 322-6444  2080.359405  \n",
       "1                    749.173113  \n",
       "2                   2578.701393  \n",
       "3   (206) 403-1809  1686.862176  \n",
       "4   (206) 420-8880  8784.075722  \n",
       "5   (206) 329-5133  2166.834011  \n",
       "6   (206) 538-0040  2271.307105  \n",
       "7   (206) 838-8081  1292.526796  \n",
       "8   (206) 838-7388  3348.309276  \n",
       "9   (206) 726-1717  1395.266332  \n",
       "10  (206) 822-6272  4658.301257  \n",
       "11  (206) 602-6333  1571.867438  \n",
       "12  (206) 860-6110  2897.252844  \n",
       "13  (253) 693-0207  2025.139396  \n",
       "14  (206) 329-4500  1732.874383  \n",
       "15                  1132.743207  \n",
       "16  (206) 726-1717  2274.720678  \n",
       "17  (206) 659-4721  1884.178031  \n",
       "18  (206) 760-3400  3941.663432  \n",
       "19  (206) 397-4210  3779.508800  "
      ]
     },
     "execution_count": 16,
     "metadata": {},
     "output_type": "execute_result"
    }
   ],
   "source": [
    "\n",
    "pd.DataFrame(results['businesses'])"
   ]
  },
  {
   "cell_type": "code",
   "execution_count": 17,
   "metadata": {
    "ExecuteTime": {
     "end_time": "2022-03-24T20:01:48.867510Z",
     "start_time": "2022-03-24T20:01:48.854746Z"
    },
    "colab": {
     "base_uri": "https://localhost:8080/"
    },
    "id": "Myur3i1KGhPf",
    "outputId": "f447c6f9-596b-41d0-ccda-50af0ce82108"
   },
   "outputs": [
    {
     "data": {
      "text/plain": [
       "863"
      ]
     },
     "execution_count": 17,
     "metadata": {},
     "output_type": "execute_result"
    }
   ],
   "source": [
    "## How many results total?\n",
    "results['total']"
   ]
  },
  {
   "cell_type": "code",
   "execution_count": 18,
   "metadata": {},
   "outputs": [
    {
     "data": {
      "text/plain": [
       "{'center': {'longitude': -122.29568481445312, 'latitude': 47.61309534151991}}"
      ]
     },
     "execution_count": 18,
     "metadata": {},
     "output_type": "execute_result"
    }
   ],
   "source": [
    "results['region']"
   ]
  },
  {
   "cell_type": "code",
   "execution_count": null,
   "metadata": {},
   "outputs": [],
   "source": []
  },
  {
   "cell_type": "code",
   "execution_count": 19,
   "metadata": {},
   "outputs": [
    {
     "data": {
      "text/plain": [
       "20"
      ]
     },
     "execution_count": 19,
     "metadata": {},
     "output_type": "execute_result"
    }
   ],
   "source": [
    "## How many did we get the details for?\n",
    "results_per_page = len(results['businesses'])\n",
    "results_per_page"
   ]
  },
  {
   "cell_type": "markdown",
   "metadata": {},
   "source": [
    "- Calculate how many pages of results needed to cover the total_results"
   ]
  },
  {
   "cell_type": "code",
   "execution_count": 20,
   "metadata": {},
   "outputs": [
    {
     "data": {
      "text/plain": [
       "44"
      ]
     },
     "execution_count": 20,
     "metadata": {},
     "output_type": "execute_result"
    }
   ],
   "source": [
    "# Use math.ceil to round up for the total number of pages of results.\n",
    "# Import additional packages for controlling our loop\n",
    "import time, math\n",
    "# Use math.ceil to round up for the total number of pages of results.\n",
    "n_pages = math.ceil((results['total'])/ results_per_page)\n",
    "n_pages"
   ]
  },
  {
   "cell_type": "code",
   "execution_count": 21,
   "metadata": {},
   "outputs": [
    {
     "data": {
      "application/vnd.jupyter.widget-view+json": {
       "model_id": "e059694964c54c8bb06066ecb8a7a971",
       "version_major": 2,
       "version_minor": 0
      },
      "text/plain": [
       "  0%|          | 0/44 [00:00<?, ?it/s]"
      ]
     },
     "metadata": {},
     "output_type": "display_data"
    }
   ],
   "source": [
    "for i in tqdm_notebook( range(1,n_pages+1)):\n",
    "   # The block of code we want to TRY to run\n",
    "    try:\n",
    "        \n",
    "        time.sleep(.2)\n",
    "        \n",
    "        ## Read in results in progress file and check the length\n",
    "        with open(JSON_FILE, 'r') as f:\n",
    "            previous_results = json.load(f)\n",
    "            \n",
    "        ## save number of results for to use as offset\n",
    "        n_results = len(previous_results)\n",
    "        \n",
    "        \n",
    "        ## use n_results as the OFFSET \n",
    "        results = yelp.search_query(location=location,\n",
    "                                        term=term, \n",
    "                                        offset=n_results+1)\n",
    "\n",
    "        ## append new results and save to file\n",
    "        previous_results.extend(results['businesses'])\n",
    "\n",
    "        with open(JSON_FILE,'w') as f:\n",
    "            json.dump(previous_results,f)\n",
    "            \n",
    "    #What to do if we get an error/exception.\n",
    "    except Exception as e: # saving the error message so we can print it.\n",
    "        print('[!] ERROR: ',e)"
   ]
  },
  {
   "cell_type": "markdown",
   "metadata": {},
   "source": [
    "![png](Figures/Poll_531.png)"
   ]
  },
  {
   "cell_type": "markdown",
   "metadata": {},
   "source": [
    "## Open the Final JSON File with Pandas"
   ]
  },
  {
   "cell_type": "code",
   "execution_count": 22,
   "metadata": {},
   "outputs": [
    {
     "data": {
      "text/html": [
       "<div>\n",
       "<style scoped>\n",
       "    .dataframe tbody tr th:only-of-type {\n",
       "        vertical-align: middle;\n",
       "    }\n",
       "\n",
       "    .dataframe tbody tr th {\n",
       "        vertical-align: top;\n",
       "    }\n",
       "\n",
       "    .dataframe thead th {\n",
       "        text-align: right;\n",
       "    }\n",
       "</style>\n",
       "<table border=\"1\" class=\"dataframe\">\n",
       "  <thead>\n",
       "    <tr style=\"text-align: right;\">\n",
       "      <th></th>\n",
       "      <th>id</th>\n",
       "      <th>alias</th>\n",
       "      <th>name</th>\n",
       "      <th>image_url</th>\n",
       "      <th>is_closed</th>\n",
       "      <th>url</th>\n",
       "      <th>review_count</th>\n",
       "      <th>categories</th>\n",
       "      <th>rating</th>\n",
       "      <th>coordinates</th>\n",
       "      <th>transactions</th>\n",
       "      <th>location</th>\n",
       "      <th>phone</th>\n",
       "      <th>display_phone</th>\n",
       "      <th>distance</th>\n",
       "      <th>price</th>\n",
       "    </tr>\n",
       "  </thead>\n",
       "  <tbody>\n",
       "    <tr>\n",
       "      <th>0</th>\n",
       "      <td>t-Z9bvmlgUyDtomGmttrUQ</td>\n",
       "      <td>guerilla-pizza-kitchen-seattle</td>\n",
       "      <td>Guerilla Pizza Kitchen</td>\n",
       "      <td>https://s3-media4.fl.yelpcdn.com/bphoto/uMrdEj...</td>\n",
       "      <td>False</td>\n",
       "      <td>https://www.yelp.com/biz/guerilla-pizza-kitche...</td>\n",
       "      <td>1</td>\n",
       "      <td>[{'alias': 'pizza', 'title': 'Pizza'}, {'alias...</td>\n",
       "      <td>5.0</td>\n",
       "      <td>{'latitude': 47.608127, 'longitude': -122.302435}</td>\n",
       "      <td>[]</td>\n",
       "      <td>{'address1': '2300 E Cherry St', 'address2': '...</td>\n",
       "      <td></td>\n",
       "      <td></td>\n",
       "      <td>749.173113</td>\n",
       "      <td>NaN</td>\n",
       "    </tr>\n",
       "    <tr>\n",
       "      <th>1</th>\n",
       "      <td>EwrAoy7XbX8nfemZdDvupA</td>\n",
       "      <td>cornelly-seattle</td>\n",
       "      <td>Cornelly</td>\n",
       "      <td>https://s3-media4.fl.yelpcdn.com/bphoto/HlYYBT...</td>\n",
       "      <td>False</td>\n",
       "      <td>https://www.yelp.com/biz/cornelly-seattle?adju...</td>\n",
       "      <td>98</td>\n",
       "      <td>[{'alias': 'pizza', 'title': 'Pizza'}, {'alias...</td>\n",
       "      <td>4.5</td>\n",
       "      <td>{'latitude': 47.624577, 'longitude': -122.325577}</td>\n",
       "      <td>[pickup, delivery]</td>\n",
       "      <td>{'address1': '601 Summit Ave E', 'address2': '...</td>\n",
       "      <td></td>\n",
       "      <td></td>\n",
       "      <td>2578.701393</td>\n",
       "      <td>NaN</td>\n",
       "    </tr>\n",
       "    <tr>\n",
       "      <th>2</th>\n",
       "      <td>FVbwpNA1uZEGiM02N4XtUg</td>\n",
       "      <td>blotto-seattle</td>\n",
       "      <td>Blotto</td>\n",
       "      <td>https://s3-media3.fl.yelpcdn.com/bphoto/Q4Y1Cw...</td>\n",
       "      <td>False</td>\n",
       "      <td>https://www.yelp.com/biz/blotto-seattle?adjust...</td>\n",
       "      <td>40</td>\n",
       "      <td>[{'alias': 'pizza', 'title': 'Pizza'}]</td>\n",
       "      <td>4.5</td>\n",
       "      <td>{'latitude': 47.61849, 'longitude': -122.31664}</td>\n",
       "      <td>[]</td>\n",
       "      <td>{'address1': '1830 12th Ave', 'address2': '', ...</td>\n",
       "      <td>+12064031809</td>\n",
       "      <td>(206) 403-1809</td>\n",
       "      <td>1686.862176</td>\n",
       "      <td>NaN</td>\n",
       "    </tr>\n",
       "    <tr>\n",
       "      <th>3</th>\n",
       "      <td>IrohtoYjnAR_vc6w6CRCxA</td>\n",
       "      <td>moto-seattle</td>\n",
       "      <td>Moto</td>\n",
       "      <td>https://s3-media2.fl.yelpcdn.com/bphoto/FBmvjy...</td>\n",
       "      <td>False</td>\n",
       "      <td>https://www.yelp.com/biz/moto-seattle?adjust_c...</td>\n",
       "      <td>134</td>\n",
       "      <td>[{'alias': 'pizza', 'title': 'Pizza'}, {'alias...</td>\n",
       "      <td>4.5</td>\n",
       "      <td>{'latitude': 47.56207, 'longitude': -122.38509}</td>\n",
       "      <td>[delivery]</td>\n",
       "      <td>{'address1': '4526 42nd Ave SW', 'address2': '...</td>\n",
       "      <td>+12064208880</td>\n",
       "      <td>(206) 420-8880</td>\n",
       "      <td>8784.075722</td>\n",
       "      <td>$$</td>\n",
       "    </tr>\n",
       "    <tr>\n",
       "      <th>4</th>\n",
       "      <td>Wi6LFkjIausYj277ru6pqg</td>\n",
       "      <td>humble-pie-seattle</td>\n",
       "      <td>Humble Pie</td>\n",
       "      <td>https://s3-media4.fl.yelpcdn.com/bphoto/A08GOZ...</td>\n",
       "      <td>False</td>\n",
       "      <td>https://www.yelp.com/biz/humble-pie-seattle?ad...</td>\n",
       "      <td>360</td>\n",
       "      <td>[{'alias': 'pizza', 'title': 'Pizza'}]</td>\n",
       "      <td>4.0</td>\n",
       "      <td>{'latitude': 47.5976491915013, 'longitude': -1...</td>\n",
       "      <td>[delivery]</td>\n",
       "      <td>{'address1': '525 Rainier Ave S', 'address2': ...</td>\n",
       "      <td>+12063295133</td>\n",
       "      <td>(206) 329-5133</td>\n",
       "      <td>2166.834011</td>\n",
       "      <td>$$</td>\n",
       "    </tr>\n",
       "  </tbody>\n",
       "</table>\n",
       "</div>"
      ],
      "text/plain": [
       "                       id                           alias  \\\n",
       "0  t-Z9bvmlgUyDtomGmttrUQ  guerilla-pizza-kitchen-seattle   \n",
       "1  EwrAoy7XbX8nfemZdDvupA                cornelly-seattle   \n",
       "2  FVbwpNA1uZEGiM02N4XtUg                  blotto-seattle   \n",
       "3  IrohtoYjnAR_vc6w6CRCxA                    moto-seattle   \n",
       "4  Wi6LFkjIausYj277ru6pqg              humble-pie-seattle   \n",
       "\n",
       "                     name                                          image_url  \\\n",
       "0  Guerilla Pizza Kitchen  https://s3-media4.fl.yelpcdn.com/bphoto/uMrdEj...   \n",
       "1                Cornelly  https://s3-media4.fl.yelpcdn.com/bphoto/HlYYBT...   \n",
       "2                  Blotto  https://s3-media3.fl.yelpcdn.com/bphoto/Q4Y1Cw...   \n",
       "3                    Moto  https://s3-media2.fl.yelpcdn.com/bphoto/FBmvjy...   \n",
       "4              Humble Pie  https://s3-media4.fl.yelpcdn.com/bphoto/A08GOZ...   \n",
       "\n",
       "   is_closed                                                url  review_count  \\\n",
       "0      False  https://www.yelp.com/biz/guerilla-pizza-kitche...             1   \n",
       "1      False  https://www.yelp.com/biz/cornelly-seattle?adju...            98   \n",
       "2      False  https://www.yelp.com/biz/blotto-seattle?adjust...            40   \n",
       "3      False  https://www.yelp.com/biz/moto-seattle?adjust_c...           134   \n",
       "4      False  https://www.yelp.com/biz/humble-pie-seattle?ad...           360   \n",
       "\n",
       "                                          categories  rating  \\\n",
       "0  [{'alias': 'pizza', 'title': 'Pizza'}, {'alias...     5.0   \n",
       "1  [{'alias': 'pizza', 'title': 'Pizza'}, {'alias...     4.5   \n",
       "2             [{'alias': 'pizza', 'title': 'Pizza'}]     4.5   \n",
       "3  [{'alias': 'pizza', 'title': 'Pizza'}, {'alias...     4.5   \n",
       "4             [{'alias': 'pizza', 'title': 'Pizza'}]     4.0   \n",
       "\n",
       "                                         coordinates        transactions  \\\n",
       "0  {'latitude': 47.608127, 'longitude': -122.302435}                  []   \n",
       "1  {'latitude': 47.624577, 'longitude': -122.325577}  [pickup, delivery]   \n",
       "2    {'latitude': 47.61849, 'longitude': -122.31664}                  []   \n",
       "3    {'latitude': 47.56207, 'longitude': -122.38509}          [delivery]   \n",
       "4  {'latitude': 47.5976491915013, 'longitude': -1...          [delivery]   \n",
       "\n",
       "                                            location         phone  \\\n",
       "0  {'address1': '2300 E Cherry St', 'address2': '...                 \n",
       "1  {'address1': '601 Summit Ave E', 'address2': '...                 \n",
       "2  {'address1': '1830 12th Ave', 'address2': '', ...  +12064031809   \n",
       "3  {'address1': '4526 42nd Ave SW', 'address2': '...  +12064208880   \n",
       "4  {'address1': '525 Rainier Ave S', 'address2': ...  +12063295133   \n",
       "\n",
       "    display_phone     distance price  \n",
       "0                   749.173113   NaN  \n",
       "1                  2578.701393   NaN  \n",
       "2  (206) 403-1809  1686.862176   NaN  \n",
       "3  (206) 420-8880  8784.075722    $$  \n",
       "4  (206) 329-5133  2166.834011    $$  "
      ]
     },
     "execution_count": 22,
     "metadata": {},
     "output_type": "execute_result"
    }
   ],
   "source": [
    "df = pd.read_json(JSON_FILE)\n",
    "df.head()"
   ]
  },
  {
   "cell_type": "code",
   "execution_count": 23,
   "metadata": {},
   "outputs": [
    {
     "data": {
      "text/plain": [
       "'Data/Seattle-pizza.csv.gz'"
      ]
     },
     "execution_count": 23,
     "metadata": {},
     "output_type": "execute_result"
    }
   ],
   "source": [
    "## convert the filename to a .csv.gz\n",
    "csv_file = JSON_FILE.replace('.json','.csv.gz')\n",
    "csv_file"
   ]
  },
  {
   "cell_type": "code",
   "execution_count": 24,
   "metadata": {},
   "outputs": [],
   "source": [
    "## Save it as a compressed csv (to save space)\n",
    "df.to_csv(csv_file, compression='gzip', index=False)"
   ]
  },
  {
   "cell_type": "markdown",
   "metadata": {},
   "source": [
    "## Bonus: compare filesize with os module's `os.path.getsize`"
   ]
  },
  {
   "cell_type": "code",
   "execution_count": 25,
   "metadata": {},
   "outputs": [
    {
     "name": "stdout",
     "output_type": "stream",
     "text": [
      "JSON FILE: 842,082 Bytes\n",
      "CSV.GZ FILE: 119,219 Bytes\n",
      "the csv.gz is 7.063320443888977 times smaller!\n"
     ]
    }
   ],
   "source": [
    "size_json = os.path.getsize(JSON_FILE)\n",
    "size_csv_gz = os.path.getsize(JSON_FILE.replace('.json','.csv.gz'))\n",
    "\n",
    "print(f'JSON FILE: {size_json:,} Bytes')\n",
    "print(f'CSV.GZ FILE: {size_csv_gz:,} Bytes')\n",
    "\n",
    "print(f'the csv.gz is {size_json/size_csv_gz} times smaller!')"
   ]
  },
  {
   "cell_type": "markdown",
   "metadata": {},
   "source": [
    "## Next Class: Processing the Results and Mapping "
   ]
  }
 ],
 "metadata": {
  "colab": {
   "collapsed_sections": [],
   "name": "Test Yelp API Package.ipynb",
   "provenance": []
  },
  "kernelspec": {
   "display_name": "Python (dojo-env)",
   "language": "python",
   "name": "dojo-env"
  },
  "language_info": {
   "codemirror_mode": {
    "name": "ipython",
    "version": 3
   },
   "file_extension": ".py",
   "mimetype": "text/x-python",
   "name": "python",
   "nbconvert_exporter": "python",
   "pygments_lexer": "ipython3",
   "version": "3.8.13"
  },
  "toc": {
   "base_numbering": 1,
   "nav_menu": {},
   "number_sections": false,
   "sideBar": true,
   "skip_h1_title": false,
   "title_cell": "Table of Contents",
   "title_sidebar": "Contents",
   "toc_cell": false,
   "toc_position": {
    "height": "calc(100% - 180px)",
    "left": "10px",
    "top": "150px",
    "width": "165px"
   },
   "toc_section_display": true,
   "toc_window_display": true
  }
 },
 "nbformat": 4,
 "nbformat_minor": 1
}
