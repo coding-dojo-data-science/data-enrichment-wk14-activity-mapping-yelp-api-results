{
 "cells": [
  {
   "cell_type": "markdown",
   "id": "c6d4c9a7",
   "metadata": {
    "id": "8guYh-VR7nlX"
   },
   "source": [
    "# Part 2 - Mapping Yelp Search Results"
   ]
  },
  {
   "cell_type": "markdown",
   "id": "8f1dfbbf",
   "metadata": {},
   "source": [
    "## Obective"
   ]
  },
  {
   "cell_type": "markdown",
   "id": "37daea31",
   "metadata": {
    "id": "8guYh-VR7nlX"
   },
   "source": [
    "- For this CodeAlong, we will be working with the Yelp API results from last class. \n",
    "- You will load in the .csv.gz of your yelp results and prepare the data for visualization.\n",
    "- You will use Plotly Express to create an interactive map with all of the results."
   ]
  },
  {
   "cell_type": "markdown",
   "id": "0a02a2fd",
   "metadata": {
    "id": "8guYh-VR7nlX"
   },
   "source": [
    "## Tools You Will Use\n",
    "- Part 1:\n",
    "    - Yelp API:\n",
    "        - Getting Started: \n",
    "            - https://www.yelp.com/developers/documentation/v3/get_started\n",
    "\n",
    "    - `YelpAPI` python package\n",
    "        -  \"YelpAPI\": https://github.com/gfairchild/yelpapi\n",
    "- Part 2:\n",
    "\n",
    "    - Plotly Express: https://plotly.com/python/getting-started/\n",
    "        - With Mapbox API: https://www.mapbox.com/\n",
    "        - `px.scatter_mapbox` [Documentation](https://plotly.com/python/scattermapbox/): \n",
    "\n",
    "\n"
   ]
  },
  {
   "cell_type": "markdown",
   "id": "a3f15049",
   "metadata": {},
   "source": [
    "### Applying Code From\n",
    "- [Advanced Transformations with Pandas - Part 1](https://login.codingdojo.com/m/376/12529/88086)\n",
    "- [Advanced Transformations with Pandas - Part 2](https://login.codingdojo.com/m/376/12529/88088)"
   ]
  },
  {
   "cell_type": "markdown",
   "id": "745e757f",
   "metadata": {},
   "source": [
    "### Goal"
   ]
  },
  {
   "cell_type": "markdown",
   "id": "a27ea8f9",
   "metadata": {},
   "source": [
    "- We want to create a map with every restaurant plotted as a scatter plot with detailed information that appears when we hover over a business\n",
    "- We will use plotly express's `px.scatter_mapbox` function to accomplish this.\n",
    "    - https://plotly.com/python/scattermapbox/\n",
    "    \n",
    "    - Some of the options require a Mapbox API token:\n",
    "    - However, we will be using the options that DO NOT require a token.\n",
    "        - https://studio.mapbox.com/\n",
    "    "
   ]
  },
  {
   "cell_type": "markdown",
   "id": "8c50b2b6",
   "metadata": {},
   "source": [
    "# Loading Data from Part 1"
   ]
  },
  {
   "cell_type": "code",
   "execution_count": null,
   "id": "ffa40ba8",
   "metadata": {},
   "outputs": [],
   "source": [
    "## Plotly is not included in your dojo-env\n",
    "!pip install plotly"
   ]
  },
  {
   "cell_type": "code",
   "execution_count": 1,
   "id": "6c26b323",
   "metadata": {},
   "outputs": [],
   "source": [
    "# Standard Imports\n",
    "import numpy as np\n",
    "import pandas as pd\n",
    "import matplotlib.pyplot as plt\n",
    "import seaborn as sns\n",
    "\n",
    "import json\n",
    "\n",
    "## importing plotly \n",
    "import plotly.express as px"
   ]
  },
  {
   "cell_type": "code",
   "execution_count": null,
   "id": "73f882e7",
   "metadata": {},
   "outputs": [],
   "source": [
    "## Load in csv.gz\n",
    "df = \n",
    "df.head()"
   ]
  },
  {
   "cell_type": "markdown",
   "id": "182d9a50",
   "metadata": {},
   "source": [
    "## Required Preprocessing "
   ]
  },
  {
   "cell_type": "markdown",
   "id": "9db8a265",
   "metadata": {},
   "source": [
    "- 1. We need to get the latitude and longitude for each business as separate columns.\n",
    "- 2. We also want to be able to show the restaurants:\n",
    "    - name\n",
    "    - price\n",
    "    - type of transactions (pickup/delivery)\n",
    "    - address"
   ]
  },
  {
   "cell_type": "markdown",
   "id": "13d541ac",
   "metadata": {},
   "source": [
    "### Separating Latitude and Longitude"
   ]
  },
  {
   "cell_type": "code",
   "execution_count": null,
   "id": "bebca46f-5404-4f86-af75-425fe18e477f",
   "metadata": {},
   "outputs": [],
   "source": [
    "# Preview the coordinates column\n",
    "df['coordinates'].head()"
   ]
  },
  {
   "cell_type": "code",
   "execution_count": null,
   "id": "306af3c3-a6e8-4964-913b-58dc5c4d6621",
   "metadata": {},
   "outputs": [],
   "source": [
    "# it LOOKS like a dictionary which means we could use pd.Series to convert the dictionary into a series, one for latitude and one for longitude\n",
    "# In the next cell, we will try to do this, but it will not work (yet)!\n",
    "\n",
    "## use .apply pd.Series to convert a dict to columns\n",
    "df['coordinates'].apply(pd.Series)"
   ]
  },
  {
   "cell_type": "markdown",
   "id": "faecca22",
   "metadata": {},
   "source": [
    "- Why didn't that work???"
   ]
  },
  {
   "cell_type": "code",
   "execution_count": null,
   "id": "4c52b779",
   "metadata": {},
   "outputs": [],
   "source": [
    "## slice out a single test coordinate\n",
    "test_coord = df['coordinates'][0]\n",
    "test_coord"
   ]
  },
  {
   "cell_type": "code",
   "execution_count": null,
   "id": "b823b8fa",
   "metadata": {},
   "outputs": [],
   "source": [
    "# What is the datatype?\n",
    "type(test_coord)"
   ]
  },
  {
   "cell_type": "markdown",
   "id": "819d8252",
   "metadata": {},
   "source": [
    "- Its not a dictionary anymore!!! What??\n",
    "    - CSV files cant store iterables (lists, dictionaries) so they get converted to strings."
   ]
  },
  {
   "cell_type": "markdown",
   "id": "df7e7c71",
   "metadata": {},
   "source": [
    "### Fixing the String-Dictionaries"
   ]
  },
  {
   "cell_type": "markdown",
   "id": "76185b76",
   "metadata": {},
   "source": [
    "- The json module has another version of load and dump called `json.loads` and `json.dumps`\n",
    "    - These are designed to process STRINGS instead of files. (that is what the \"s\" means...read it as load s or dump s)\n",
    "    \n",
    "- If we use `json.loads` we can convert our `string dictionary` into an `actual dictionary`. "
   ]
  },
  {
   "cell_type": "code",
   "execution_count": null,
   "id": "8e4ab9ed",
   "metadata": {},
   "outputs": [],
   "source": [
    "## Use json.loads on the test coordinate\n"
   ]
  },
  {
   "cell_type": "markdown",
   "id": "89771042",
   "metadata": {},
   "source": [
    "### JSON requires double quotes!\n",
    "We got a `JSON Decode Error` because JSON was `expecting double quotes` inside\n",
    "of the dictionary"
   ]
  },
  {
   "cell_type": "markdown",
   "id": "37d0f4a0",
   "metadata": {},
   "source": [
    "### We are now going to use the .replace( ) function to replace single ' with double \""
   ]
  },
  {
   "cell_type": "code",
   "execution_count": null,
   "id": "baf7b4ce",
   "metadata": {},
   "outputs": [],
   "source": [
    "## replace single ' with double \" \n"
   ]
  },
  {
   "cell_type": "code",
   "execution_count": null,
   "id": "5f87a80a",
   "metadata": {},
   "outputs": [],
   "source": [
    "## Use json.loads on the test coordinate, again\n"
   ]
  },
  {
   "cell_type": "code",
   "execution_count": null,
   "id": "46d7efc7",
   "metadata": {},
   "outputs": [],
   "source": [
    "# viewing type after using json.loads\n"
   ]
  },
  {
   "cell_type": "markdown",
   "id": "ac9a2c61",
   "metadata": {},
   "source": [
    "### Now, how can we apply this same process to the entire column??"
   ]
  },
  {
   "cell_type": "code",
   "execution_count": null,
   "id": "815d26be",
   "metadata": {},
   "outputs": [],
   "source": [
    "## replace ' with \" (entire column)\n",
    "\n",
    "## apply json.loads\n"
   ]
  },
  {
   "cell_type": "code",
   "execution_count": null,
   "id": "b417c990",
   "metadata": {},
   "outputs": [],
   "source": [
    "## slice out a single test coordinate\n"
   ]
  },
  {
   "cell_type": "code",
   "execution_count": null,
   "id": "c8ffae8a",
   "metadata": {},
   "outputs": [],
   "source": [
    "# Check the data type of the test coordinate\n"
   ]
  },
  {
   "cell_type": "markdown",
   "id": "a825c2f4",
   "metadata": {},
   "source": [
    "### Using .apply with pd.Series to convert a dictionary column into multiple columns\n",
    "This is the process of unpacking the dictionary to columns"
   ]
  },
  {
   "cell_type": "code",
   "execution_count": null,
   "id": "9b06ad2c",
   "metadata": {},
   "outputs": [],
   "source": [
    "## use .apply pd.Series to convert a dict to columns\n",
    "separated = df['coordinates'].apply(pd.Series)\n",
    "separated"
   ]
  },
  {
   "cell_type": "code",
   "execution_count": null,
   "id": "a09d00b1",
   "metadata": {},
   "outputs": [],
   "source": [
    "## Concatenate the 2 new columns and drop the original.\n",
    "df = pd.concat([df, separated], axis =1)\n",
    "df.drop(columns = 'coordinates')\n",
    "df.head()"
   ]
  },
  {
   "cell_type": "code",
   "execution_count": null,
   "id": "c66aeebf",
   "metadata": {},
   "outputs": [],
   "source": []
  },
  {
   "cell_type": "markdown",
   "id": "56b25f7a",
   "metadata": {},
   "source": [
    "## Creating a Simple Map"
   ]
  },
  {
   "cell_type": "markdown",
   "id": "cdb5689c",
   "metadata": {},
   "source": [
    "- Use the plotly express `scatter_mapbox` function"
   ]
  },
  {
   "cell_type": "code",
   "execution_count": null,
   "id": "2214befe",
   "metadata": {},
   "outputs": [],
   "source": [
    "## use scatter_mapbox to create a first attempt at our map\n",
    "\n",
    "px.scatter_mapbox(df, lat='latitude',lon='longitude', mapbox_style='open-street-map')"
   ]
  },
  {
   "cell_type": "markdown",
   "id": "d5b72ef0",
   "metadata": {},
   "source": [
    "### Adding Hover Data"
   ]
  },
  {
   "cell_type": "markdown",
   "id": "300eddca",
   "metadata": {},
   "source": [
    "- We want to show the restaurants:\n",
    "    - name\n",
    "    - price range\n",
    "    - rating\n",
    "    - transaction type (delivery/takeout)\n",
    "    - address\n",
    "    \n",
    "    \n",
    "- We can use the `hover_name` and `hover_data` arguments for `px.scatter_mapbox` to add this info!"
   ]
  },
  {
   "cell_type": "code",
   "execution_count": null,
   "id": "e05e4e1b",
   "metadata": {
    "scrolled": true
   },
   "outputs": [],
   "source": [
    "## add hover_name (name) and hover_data for price,rating,location and take a look \n",
    "\n",
    "px.scatter_mapbox(df, lat='latitude',lon='longitude',\n",
    "                  mapbox_style='open-street-map', hover_name='name',\n",
    "                 hover_data=['price','rating','location'])"
   ]
  },
  {
   "cell_type": "markdown",
   "id": "09d744ca",
   "metadata": {},
   "source": [
    "### Fixing the Location Column"
   ]
  },
  {
   "cell_type": "code",
   "execution_count": null,
   "id": "15e6afdc",
   "metadata": {},
   "outputs": [],
   "source": [
    "## slice out a test address\n",
    "test_loc = df['location'][0]\n",
    "test_loc"
   ]
  },
  {
   "cell_type": "code",
   "execution_count": null,
   "id": "3f7f1321-1e6b-4338-920f-123170b99c3c",
   "metadata": {},
   "outputs": [],
   "source": [
    "# Check data type\n",
    "type(test_loc)"
   ]
  },
  {
   "cell_type": "markdown",
   "id": "b573de0f",
   "metadata": {},
   "source": [
    "> Also a string-dictionary..."
   ]
  },
  {
   "cell_type": "code",
   "execution_count": null,
   "id": "e5862a23",
   "metadata": {},
   "outputs": [],
   "source": [
    "## replace ' with \"\n",
    "df['location'] = df['location'].str.replace(\"'\", '\"')\n",
    "df.head()"
   ]
  },
  {
   "cell_type": "code",
   "execution_count": null,
   "id": "1606ed4a",
   "metadata": {},
   "outputs": [],
   "source": [
    "## apply json.loads\n",
    "df['location'] = df['location'].apply(json.loads)\n",
    "df.head()"
   ]
  },
  {
   "cell_type": "markdown",
   "id": "6e3fc5c2",
   "metadata": {},
   "source": [
    "# > Ruh roh....\n",
    "\n",
    "- Hmm, let's slice out a test_address again and let's write a function to accomplish this instead.\n",
    "    - We can use try and except in our function to get around the errors."
   ]
  },
  {
   "cell_type": "markdown",
   "id": "b0fe3a7a",
   "metadata": {},
   "source": [
    "### Fixing Addresses - with a custom function\n"
   ]
  },
  {
   "cell_type": "code",
   "execution_count": null,
   "id": "b1964520",
   "metadata": {},
   "outputs": [],
   "source": [
    "## slice out test address \n",
    "test_addr = df.loc[0, 'location']\n",
    "test_addr"
   ]
  },
  {
   "cell_type": "code",
   "execution_count": null,
   "id": "89ee686e",
   "metadata": {},
   "outputs": [],
   "source": [
    "## write a function to just run json.loads on the address\n",
    "def fix_address(test_addr):\n",
    "    try:\n",
    "        return json.loads(test_addr)\n",
    "    except:\n",
    "        return \"ERROR\""
   ]
  },
  {
   "cell_type": "code",
   "execution_count": null,
   "id": "0d25f01b",
   "metadata": {},
   "outputs": [],
   "source": [
    "## test applying our function\n",
    "df['location'].apply(fix_address)"
   ]
  },
  {
   "cell_type": "markdown",
   "id": "c8cbc436",
   "metadata": {},
   "source": [
    "- It worked! Now let's save this as a new column (display_location),\n",
    "and then let's investigate the businesses that had an \"ERROR\"."
   ]
  },
  {
   "cell_type": "code",
   "execution_count": null,
   "id": "49a511e8",
   "metadata": {},
   "outputs": [],
   "source": [
    "### save a new display_location column using our function\n",
    "df['display_location'] = df['location'].apply(fix_address)"
   ]
  },
  {
   "cell_type": "code",
   "execution_count": null,
   "id": "346a2869",
   "metadata": {},
   "outputs": [],
   "source": [
    "## filter for businesses with display_location == \"ERROR\"\n",
    "errors = df[df['display_location'] == 'ERROR']\n",
    "errors"
   ]
  },
  {
   "cell_type": "code",
   "execution_count": null,
   "id": "9c115199",
   "metadata": {},
   "outputs": [],
   "source": [
    "## slice out a new test address and inspect\n",
    "test_addr = df.loc[437, 'location']\n",
    "test_addr"
   ]
  },
  {
   "cell_type": "markdown",
   "id": "448fa8c6",
   "metadata": {},
   "source": [
    "> After some more investigation, we would find a few issues with these \"ERROR\" rows.\n",
    "1. They contained None.\n",
    "2. They contained an apostrophe in the name.\n",
    "3. ...?"
   ]
  },
  {
   "cell_type": "markdown",
   "id": "68a960d4",
   "metadata": {},
   "source": [
    "### Possible Fixes (if we care to/have the time)\n"
   ]
  },
  {
   "cell_type": "markdown",
   "id": "7c21eda1",
   "metadata": {},
   "source": [
    "- Use Regular Expressions to find an fix the display addresses with \" ' \" in them\n",
    "- Use string split to split on the word display address.\n",
    "    - Then use string methods to clean up"
   ]
  },
  {
   "cell_type": "markdown",
   "id": "df8d68fb",
   "metadata": {},
   "source": [
    "### Moving Forward without those rows (for now)"
   ]
  },
  {
   "cell_type": "code",
   "execution_count": null,
   "id": "bddbcc87",
   "metadata": {},
   "outputs": [],
   "source": [
    "## remove any rows where display_location == 'ERROR'\n",
    "df = df.loc[df['display_location'] != 'ERROR']\n",
    "df.head()"
   ]
  },
  {
   "cell_type": "markdown",
   "id": "c1338cd2",
   "metadata": {},
   "source": [
    "- We want the \"display_address\" key from the \"display_location\" dictionaries.\n",
    "- We could use a .apply and a lamda to slice out the desired key."
   ]
  },
  {
   "cell_type": "code",
   "execution_count": null,
   "id": "82544b10",
   "metadata": {},
   "outputs": [],
   "source": [
    "## slice out a new test address and inspect\n",
    "test_addr = df.loc[2, 'display_location']\n",
    "test_addr"
   ]
  },
  {
   "cell_type": "code",
   "execution_count": null,
   "id": "96b7c3d5",
   "metadata": {},
   "outputs": [],
   "source": [
    "## use apply and lambda to slice correct key"
   ]
  },
  {
   "cell_type": "markdown",
   "id": "c65a79ab",
   "metadata": {},
   "source": [
    "- Almost done! We want to convert display_address to a string instead of a list of strings.\n",
    "- We can use the string method .join to do so!"
   ]
  },
  {
   "cell_type": "code",
   "execution_count": null,
   "id": "5f64f1dd",
   "metadata": {},
   "outputs": [],
   "source": [
    "## slice out a test_address\n",
    "test_addr = df.loc[0, 'display_address']\n",
    "test_addr"
   ]
  },
  {
   "cell_type": "code",
   "execution_count": null,
   "id": "876bb98e",
   "metadata": {},
   "outputs": [],
   "source": [
    "## test using .join with a \"\\n\"\n",
    "'\\n'.join(test_addr)"
   ]
  },
  {
   "cell_type": "code",
   "execution_count": null,
   "id": "55a6176d",
   "metadata": {
    "scrolled": true
   },
   "outputs": [],
   "source": [
    "## apply the join to every row with a lambda\n",
    "df['address'] = df['display_address'].apply(lambda x: '\\n'.join(x))\n",
    "df.head()"
   ]
  },
  {
   "cell_type": "markdown",
   "id": "51881461",
   "metadata": {},
   "source": [
    "### Lastly, Fixing Transactions Column"
   ]
  },
  {
   "cell_type": "code",
   "execution_count": null,
   "id": "d307784a",
   "metadata": {},
   "outputs": [],
   "source": [
    "# Looking at a test transaction\n",
    "test_transaction = df.loc[20, 'transactions']\n",
    "test_transaction"
   ]
  },
  {
   "cell_type": "code",
   "execution_count": null,
   "id": "2b1dcf1f",
   "metadata": {},
   "outputs": [],
   "source": [
    "# Check the type\n",
    "type(test_transaction)"
   ]
  },
  {
   "cell_type": "markdown",
   "id": "3d47740c",
   "metadata": {},
   "source": [
    "- This is also a string and needs to be converted to a list."
   ]
  },
  {
   "cell_type": "code",
   "execution_count": null,
   "id": "76eb4b05",
   "metadata": {},
   "outputs": [],
   "source": [
    "# Replacing single ' with double \"\n",
    "saved_test ="
   ]
  },
  {
   "cell_type": "code",
   "execution_count": null,
   "id": "6e818b21",
   "metadata": {},
   "outputs": [],
   "source": [
    "# Using json.loads on saved_test\n",
    "json.loads(saved_test)"
   ]
  },
  {
   "cell_type": "code",
   "execution_count": null,
   "id": "82cc2b40",
   "metadata": {},
   "outputs": [],
   "source": [
    "# Applying transformations to entire column\n",
    "\n",
    "# Create a new column where the single quotes are replaced with double quotes\n",
    "df['transactions_split'] = df['transactions'].str.replace(\"'\", '\"')\n",
    "# Apply json.loads to entire column\n",
    "df['transactions_split'] = df['transactions_split'].apply(json.loads)\n",
    "# confirm the results\n",
    "df['transactions_split'].head()\n",
    "\n"
   ]
  },
  {
   "cell_type": "code",
   "execution_count": null,
   "id": "b30a8f8e-22ad-4d02-8416-bff09a4e3e05",
   "metadata": {},
   "outputs": [],
   "source": [
    "# Explore the value conunts\n",
    "df['transactions_split'].value_counts()"
   ]
  },
  {
   "cell_type": "code",
   "execution_count": null,
   "id": "d7c27d34",
   "metadata": {},
   "outputs": [],
   "source": [
    "# Converting transactions column into a one-hot-encoded column\n",
    "exploded = df.explode('transactions_split')\n",
    "# Inspect results of explode\n",
    "exploded[['name', 'transactions', 'transactions_split']].head()"
   ]
  },
  {
   "cell_type": "code",
   "execution_count": null,
   "id": "ea32c102",
   "metadata": {},
   "outputs": [],
   "source": [
    "# remove NaNs and find unique values\n",
    "cols_to_make = exploded['transactions_split'].dropna().unique()\n",
    "cols_to_make"
   ]
  },
  {
   "cell_type": "code",
   "execution_count": null,
   "id": "5365f9e6",
   "metadata": {},
   "outputs": [],
   "source": [
    "# Using a for loop with .str.contains to create new columns (If it contains the column name, it will say true, if not, it will say false)\n",
    "for col in cols_to_make:\n",
    "    df[col] = df['transactions'].str.contains(col)\n",
    "df.head()"
   ]
  },
  {
   "cell_type": "markdown",
   "id": "09b90087",
   "metadata": {},
   "source": [
    "### Final Map"
   ]
  },
  {
   "cell_type": "code",
   "execution_count": null,
   "id": "0afd236d",
   "metadata": {},
   "outputs": [],
   "source": [
    "## make our final map and save as varaible\n",
    "## make our final map and save as varaible\n",
    "pfig = px.scatter_mapbox(df, lat = 'latitude', lon = 'longitude', \n",
    "                        mapbox_style = 'open-street-map', hover_name = 'name',\n",
    "                         hover_data = ['price', 'rating', 'address', 'pickup', \n",
    "                                      'delivery'],\n",
    "                         color = 'rating',\n",
    "                         title = 'Restaurants with Barbecue in Fresno, TX')\n",
    "\n",
    "pfig.show()"
   ]
  }
 ],
 "metadata": {
  "kernelspec": {
   "display_name": "Python (dojo-env)",
   "language": "python",
   "name": "dojo-env"
  },
  "language_info": {
   "codemirror_mode": {
    "name": "ipython",
    "version": 3
   },
   "file_extension": ".py",
   "mimetype": "text/x-python",
   "name": "python",
   "nbconvert_exporter": "python",
   "pygments_lexer": "ipython3",
   "version": "3.10.10"
  },
  "toc": {
   "base_numbering": 1,
   "nav_menu": {},
   "number_sections": false,
   "sideBar": true,
   "skip_h1_title": false,
   "title_cell": "Table of Contents",
   "title_sidebar": "Contents",
   "toc_cell": false,
   "toc_position": {
    "height": "calc(100% - 180px)",
    "left": "10px",
    "top": "150px",
    "width": "299.195px"
   },
   "toc_section_display": true,
   "toc_window_display": true
  },
  "widgets": {
   "application/vnd.jupyter.widget-state+json": {
    "state": {},
    "version_major": 2,
    "version_minor": 0
   }
  }
 },
 "nbformat": 4,
 "nbformat_minor": 5
}
